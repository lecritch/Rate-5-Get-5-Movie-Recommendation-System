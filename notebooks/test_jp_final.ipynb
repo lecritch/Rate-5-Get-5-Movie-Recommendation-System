{
 "cells": [
  {
   "cell_type": "code",
   "execution_count": 20,
   "metadata": {},
   "outputs": [],
   "source": [
    "%load_ext autoreload\n",
    "%autoreload 2"
   ]
  },
  {
   "cell_type": "code",
   "execution_count": 1,
   "metadata": {},
   "outputs": [],
   "source": [
    "import os\n",
    "import sys\n",
    "\n",
    "module_path = os.path.abspath(os.path.join(os.pardir))\n",
    "\n",
    "if module_path not in sys.path:\n",
    "    sys.path.append(module_path)\n",
    "    \n",
    "from src import content_rec as cr"
   ]
  },
  {
   "cell_type": "code",
   "execution_count": 2,
   "metadata": {},
   "outputs": [
    {
     "data": {
      "text/plain": [
       "'/Users/LeanaCritchell/Documents/Flatiron/Course_Material/module_4/PROJECT/mod4_project_rec_systems'"
      ]
     },
     "execution_count": 2,
     "metadata": {},
     "output_type": "execute_result"
    }
   ],
   "source": [
    "module_path"
   ]
  },
  {
   "cell_type": "code",
   "execution_count": 3,
   "metadata": {},
   "outputs": [
    {
     "data": {
      "text/plain": [
       "['/opt/anaconda3/envs/learn-env/lib/python36.zip',\n",
       " '/opt/anaconda3/envs/learn-env/lib/python3.6',\n",
       " '/opt/anaconda3/envs/learn-env/lib/python3.6/lib-dynload',\n",
       " '',\n",
       " '/opt/anaconda3/envs/learn-env/lib/python3.6/site-packages',\n",
       " '/opt/anaconda3/envs/learn-env/lib/python3.6/site-packages/IPython/extensions',\n",
       " '/Users/LeanaCritchell/.ipython',\n",
       " '/Users/LeanaCritchell/Documents/Flatiron/Course_Material/module_4/PROJECT/mod4_project_rec_systems']"
      ]
     },
     "execution_count": 3,
     "metadata": {},
     "output_type": "execute_result"
    }
   ],
   "source": [
    "sys.path"
   ]
  },
  {
   "cell_type": "code",
   "execution_count": null,
   "metadata": {},
   "outputs": [],
   "source": []
  },
  {
   "cell_type": "code",
   "execution_count": 4,
   "metadata": {},
   "outputs": [],
   "source": [
    "content = cr.ContentRecommender()"
   ]
  },
  {
   "cell_type": "code",
   "execution_count": 5,
   "metadata": {},
   "outputs": [
    {
     "name": "stdout",
     "output_type": "stream",
     "text": [
      "Here are some titles similar to Sunset Blvd. (a.k.a. Sunset Boulevard) (1950)\n",
      "============================================================\n",
      "1. Johnny Eager (1942)\n",
      "2. Dark Passage (1947)\n",
      "3. Wrong Man, The (1956)\n",
      "4. While the City Sleeps (1956)\n",
      "5. Postman Always Rings Twice, The (1946)\n",
      "6. Letter, The (1940)\n",
      "7. Lady from Shanghai, The (1947)\n",
      "8. Bitter Moon (1992)\n",
      "9. D.O.A. (1950)\n",
      "10. Notorious (1946)\n",
      "============================================================\n"
     ]
    }
   ],
   "source": [
    "content.recommend('Sunset Blvd. (a.k.a. Sunset Boulevard) (1950)')"
   ]
  },
  {
   "cell_type": "code",
   "execution_count": 9,
   "metadata": {},
   "outputs": [
    {
     "name": "stdout",
     "output_type": "stream",
     "text": [
      "Here are some titles similar to Avatar (2009)\n",
      "============================================================\n",
      "1. Transformers: Revenge of the Fallen (2009)\n",
      "2. Journey 2: The Mysterious Island (2012)\n",
      "3. Ender's Game (2013)\n",
      "4. Mars Needs Moms (2011)\n",
      "5. Avengers, The (2012)\n",
      "6. Superman Returns (2006)\n",
      "7. Star Wars: Episode VII - The Force Awakens (2015)\n",
      "8. Tron: Legacy (2010)\n",
      "9. Man of Steel (2013)\n",
      "10. Matrix Revolutions, The (2003)\n",
      "============================================================\n"
     ]
    }
   ],
   "source": [
    "content.recommend('Avatar (2009)')"
   ]
  },
  {
   "cell_type": "code",
   "execution_count": 7,
   "metadata": {},
   "outputs": [
    {
     "name": "stdout",
     "output_type": "stream",
     "text": [
      "Here are some titles similar to Journey 2: The Mysterious Island (2012)\n",
      "============================================================\n",
      "1. Mars Needs Moms (2011)\n",
      "2. Avatar (2009)\n",
      "3. Megamind (2010)\n",
      "4. Transformers: Revenge of the Fallen (2009)\n",
      "5. Fifth Element, The (1997)\n",
      "6. Star Wars: Episode VII - The Force Awakens (2015)\n",
      "7. Ender's Game (2013)\n",
      "8. Man of Steel (2013)\n",
      "9. Avengers, The (2012)\n",
      "10. Superman Returns (2006)\n",
      "============================================================\n"
     ]
    }
   ],
   "source": [
    "content.recommend('Journey 2: The Mysterious Island (2012)')"
   ]
  },
  {
   "cell_type": "markdown",
   "metadata": {},
   "source": [
    "If you would like to see some random recommendations, we have included the following method to generate suggestions based off random titles"
   ]
  },
  {
   "cell_type": "code",
   "execution_count": 8,
   "metadata": {},
   "outputs": [
    {
     "name": "stdout",
     "output_type": "stream",
     "text": [
      "Here are some titles similar to Freaks (1932)\n",
      "============================================================\n",
      "1. Sorrow (2015)\n",
      "2. Guilty of Romance (Koi no tsumi) (2011) \n",
      "3. Helter Skelter (2004)\n",
      "4. Copycat (1995)\n",
      "5. Ex Drummer (2007)\n",
      "6. Enter the Dragon (1973)\n",
      "7. River's Edge (1986)\n",
      "8. Body (2015)\n",
      "9. Innocents, The (1961)\n",
      "10. Crazies, The (2010)\n",
      "============================================================\n"
     ]
    },
    {
     "name": "stderr",
     "output_type": "stream",
     "text": [
      "/Users/LeanaCritchell/Documents/Flatiron/Course_Material/module_4/PROJECT/mod4_project_rec_systems/src/content_rec.py:103: FutureWarning: `item` has been deprecated and will be removed in a future version\n",
      "  return self.titles.sample().item()\n"
     ]
    }
   ],
   "source": [
    "random_film = content.random_title()\n",
    "content.recommend(random_film)"
   ]
  },
  {
   "cell_type": "markdown",
   "metadata": {},
   "source": [
    "Our system seems to be working out well! We could further improve the recommendations we are seeing by including more descriptive informations. Some additional information might be useful could be cast and crew names."
   ]
  },
  {
   "cell_type": "code",
   "execution_count": null,
   "metadata": {},
   "outputs": [],
   "source": []
  },
  {
   "cell_type": "code",
   "execution_count": null,
   "metadata": {},
   "outputs": [],
   "source": []
  }
 ],
 "metadata": {
  "kernelspec": {
   "display_name": "learn-env",
   "language": "python",
   "name": "learn-env"
  },
  "language_info": {
   "codemirror_mode": {
    "name": "ipython",
    "version": 3
   },
   "file_extension": ".py",
   "mimetype": "text/x-python",
   "name": "python",
   "nbconvert_exporter": "python",
   "pygments_lexer": "ipython3",
   "version": "3.6.9"
  }
 },
 "nbformat": 4,
 "nbformat_minor": 4
}
