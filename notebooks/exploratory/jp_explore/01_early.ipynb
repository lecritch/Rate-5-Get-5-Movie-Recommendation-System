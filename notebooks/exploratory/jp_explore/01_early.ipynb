{
 "cells": [
  {
   "cell_type": "markdown",
   "metadata": {},
   "source": [
    "# Jacob Prebys Exploratory Notebook 1\n",
    "\n",
    "The data can be downloaded [here](https://grouplens.org/datasets/movielens/latest/)\n"
   ]
  },
  {
   "cell_type": "code",
   "execution_count": 4,
   "metadata": {},
   "outputs": [],
   "source": [
    "import pandas as pd, matplotlib.pyplot as plt, numpy as np\n",
    "import datetime, random\n",
    "from collections import Counter\n",
    "from scipy import sparse\n"
   ]
  },
  {
   "cell_type": "code",
   "execution_count": 13,
   "metadata": {},
   "outputs": [
    {
     "data": {
      "text/html": [
       "<div>\n",
       "<style scoped>\n",
       "    .dataframe tbody tr th:only-of-type {\n",
       "        vertical-align: middle;\n",
       "    }\n",
       "\n",
       "    .dataframe tbody tr th {\n",
       "        vertical-align: top;\n",
       "    }\n",
       "\n",
       "    .dataframe thead th {\n",
       "        text-align: right;\n",
       "    }\n",
       "</style>\n",
       "<table border=\"1\" class=\"dataframe\">\n",
       "  <thead>\n",
       "    <tr style=\"text-align: right;\">\n",
       "      <th></th>\n",
       "      <th>movieId</th>\n",
       "      <th>imdbId</th>\n",
       "      <th>tmdbId</th>\n",
       "    </tr>\n",
       "  </thead>\n",
       "  <tbody>\n",
       "    <tr>\n",
       "      <th>0</th>\n",
       "      <td>1</td>\n",
       "      <td>114709</td>\n",
       "      <td>862.0</td>\n",
       "    </tr>\n",
       "    <tr>\n",
       "      <th>1</th>\n",
       "      <td>2</td>\n",
       "      <td>113497</td>\n",
       "      <td>8844.0</td>\n",
       "    </tr>\n",
       "    <tr>\n",
       "      <th>2</th>\n",
       "      <td>3</td>\n",
       "      <td>113228</td>\n",
       "      <td>15602.0</td>\n",
       "    </tr>\n",
       "    <tr>\n",
       "      <th>3</th>\n",
       "      <td>4</td>\n",
       "      <td>114885</td>\n",
       "      <td>31357.0</td>\n",
       "    </tr>\n",
       "    <tr>\n",
       "      <th>4</th>\n",
       "      <td>5</td>\n",
       "      <td>113041</td>\n",
       "      <td>11862.0</td>\n",
       "    </tr>\n",
       "  </tbody>\n",
       "</table>\n",
       "</div>"
      ],
      "text/plain": [
       "   movieId  imdbId   tmdbId\n",
       "0        1  114709    862.0\n",
       "1        2  113497   8844.0\n",
       "2        3  113228  15602.0\n",
       "3        4  114885  31357.0\n",
       "4        5  113041  11862.0"
      ]
     },
     "execution_count": 13,
     "metadata": {},
     "output_type": "execute_result"
    }
   ],
   "source": [
    "links = pd.read_csv('../../../data/big_data/ml-latest/links.csv')\n",
    "links.head()"
   ]
  },
  {
   "cell_type": "markdown",
   "metadata": {},
   "source": [
    "This data matches these movie ids with those from IMDB and The Movie Database\n",
    "\n",
    "[here](https://www.imdb.com/interfaces/) are the available datasets that imdb offers, we may want to use them to get additional info"
   ]
  },
  {
   "cell_type": "code",
   "execution_count": 59,
   "metadata": {},
   "outputs": [
    {
     "data": {
      "text/html": [
       "<div>\n",
       "<style scoped>\n",
       "    .dataframe tbody tr th:only-of-type {\n",
       "        vertical-align: middle;\n",
       "    }\n",
       "\n",
       "    .dataframe tbody tr th {\n",
       "        vertical-align: top;\n",
       "    }\n",
       "\n",
       "    .dataframe thead th {\n",
       "        text-align: right;\n",
       "    }\n",
       "</style>\n",
       "<table border=\"1\" class=\"dataframe\">\n",
       "  <thead>\n",
       "    <tr style=\"text-align: right;\">\n",
       "      <th></th>\n",
       "      <th>movieId</th>\n",
       "      <th>title</th>\n",
       "      <th>genres</th>\n",
       "      <th>genre_count</th>\n",
       "    </tr>\n",
       "  </thead>\n",
       "  <tbody>\n",
       "    <tr>\n",
       "      <th>0</th>\n",
       "      <td>1</td>\n",
       "      <td>Toy Story (1995)</td>\n",
       "      <td>Adventure|Animation|Children|Comedy|Fantasy</td>\n",
       "      <td>5</td>\n",
       "    </tr>\n",
       "    <tr>\n",
       "      <th>1</th>\n",
       "      <td>2</td>\n",
       "      <td>Jumanji (1995)</td>\n",
       "      <td>Adventure|Children|Fantasy</td>\n",
       "      <td>3</td>\n",
       "    </tr>\n",
       "    <tr>\n",
       "      <th>2</th>\n",
       "      <td>3</td>\n",
       "      <td>Grumpier Old Men (1995)</td>\n",
       "      <td>Comedy|Romance</td>\n",
       "      <td>2</td>\n",
       "    </tr>\n",
       "    <tr>\n",
       "      <th>3</th>\n",
       "      <td>4</td>\n",
       "      <td>Waiting to Exhale (1995)</td>\n",
       "      <td>Comedy|Drama|Romance</td>\n",
       "      <td>3</td>\n",
       "    </tr>\n",
       "    <tr>\n",
       "      <th>4</th>\n",
       "      <td>5</td>\n",
       "      <td>Father of the Bride Part II (1995)</td>\n",
       "      <td>Comedy</td>\n",
       "      <td>1</td>\n",
       "    </tr>\n",
       "  </tbody>\n",
       "</table>\n",
       "</div>"
      ],
      "text/plain": [
       "   movieId                               title  \\\n",
       "0        1                    Toy Story (1995)   \n",
       "1        2                      Jumanji (1995)   \n",
       "2        3             Grumpier Old Men (1995)   \n",
       "3        4            Waiting to Exhale (1995)   \n",
       "4        5  Father of the Bride Part II (1995)   \n",
       "\n",
       "                                        genres  genre_count  \n",
       "0  Adventure|Animation|Children|Comedy|Fantasy            5  \n",
       "1                   Adventure|Children|Fantasy            3  \n",
       "2                               Comedy|Romance            2  \n",
       "3                         Comedy|Drama|Romance            3  \n",
       "4                                       Comedy            1  "
      ]
     },
     "execution_count": 59,
     "metadata": {},
     "output_type": "execute_result"
    }
   ],
   "source": [
    "movies = pd.read_csv('../../../data/big_data/ml-latest/movies.csv')\n",
    "movies['genre_count'] = movies.genres.apply(lambda x: len(x.split('|')))\n",
    "movies.head()"
   ]
  },
  {
   "cell_type": "code",
   "execution_count": 5,
   "metadata": {},
   "outputs": [
    {
     "data": {
      "text/html": [
       "<div>\n",
       "<style scoped>\n",
       "    .dataframe tbody tr th:only-of-type {\n",
       "        vertical-align: middle;\n",
       "    }\n",
       "\n",
       "    .dataframe tbody tr th {\n",
       "        vertical-align: top;\n",
       "    }\n",
       "\n",
       "    .dataframe thead th {\n",
       "        text-align: right;\n",
       "    }\n",
       "</style>\n",
       "<table border=\"1\" class=\"dataframe\">\n",
       "  <thead>\n",
       "    <tr style=\"text-align: right;\">\n",
       "      <th></th>\n",
       "      <th>userId</th>\n",
       "      <th>movieId</th>\n",
       "      <th>rating</th>\n",
       "      <th>timestamp</th>\n",
       "    </tr>\n",
       "  </thead>\n",
       "  <tbody>\n",
       "    <tr>\n",
       "      <th>0</th>\n",
       "      <td>1</td>\n",
       "      <td>307</td>\n",
       "      <td>3.5</td>\n",
       "      <td>2009-10-27 21:00:21</td>\n",
       "    </tr>\n",
       "    <tr>\n",
       "      <th>1</th>\n",
       "      <td>1</td>\n",
       "      <td>481</td>\n",
       "      <td>3.5</td>\n",
       "      <td>2009-10-27 21:04:16</td>\n",
       "    </tr>\n",
       "    <tr>\n",
       "      <th>2</th>\n",
       "      <td>1</td>\n",
       "      <td>1091</td>\n",
       "      <td>1.5</td>\n",
       "      <td>2009-10-27 21:04:31</td>\n",
       "    </tr>\n",
       "    <tr>\n",
       "      <th>3</th>\n",
       "      <td>1</td>\n",
       "      <td>1257</td>\n",
       "      <td>4.5</td>\n",
       "      <td>2009-10-27 21:04:20</td>\n",
       "    </tr>\n",
       "    <tr>\n",
       "      <th>4</th>\n",
       "      <td>1</td>\n",
       "      <td>1449</td>\n",
       "      <td>4.5</td>\n",
       "      <td>2009-10-27 21:01:04</td>\n",
       "    </tr>\n",
       "    <tr>\n",
       "      <th>5</th>\n",
       "      <td>1</td>\n",
       "      <td>1590</td>\n",
       "      <td>2.5</td>\n",
       "      <td>2009-10-27 21:00:36</td>\n",
       "    </tr>\n",
       "    <tr>\n",
       "      <th>6</th>\n",
       "      <td>1</td>\n",
       "      <td>1591</td>\n",
       "      <td>1.5</td>\n",
       "      <td>2009-10-27 21:04:35</td>\n",
       "    </tr>\n",
       "    <tr>\n",
       "      <th>7</th>\n",
       "      <td>1</td>\n",
       "      <td>2134</td>\n",
       "      <td>4.5</td>\n",
       "      <td>2009-10-27 21:04:24</td>\n",
       "    </tr>\n",
       "    <tr>\n",
       "      <th>8</th>\n",
       "      <td>1</td>\n",
       "      <td>2478</td>\n",
       "      <td>4.0</td>\n",
       "      <td>2009-10-27 21:00:39</td>\n",
       "    </tr>\n",
       "    <tr>\n",
       "      <th>9</th>\n",
       "      <td>1</td>\n",
       "      <td>2840</td>\n",
       "      <td>3.0</td>\n",
       "      <td>2009-10-27 21:05:00</td>\n",
       "    </tr>\n",
       "  </tbody>\n",
       "</table>\n",
       "</div>"
      ],
      "text/plain": [
       "   userId  movieId  rating           timestamp\n",
       "0       1      307     3.5 2009-10-27 21:00:21\n",
       "1       1      481     3.5 2009-10-27 21:04:16\n",
       "2       1     1091     1.5 2009-10-27 21:04:31\n",
       "3       1     1257     4.5 2009-10-27 21:04:20\n",
       "4       1     1449     4.5 2009-10-27 21:01:04\n",
       "5       1     1590     2.5 2009-10-27 21:00:36\n",
       "6       1     1591     1.5 2009-10-27 21:04:35\n",
       "7       1     2134     4.5 2009-10-27 21:04:24\n",
       "8       1     2478     4.0 2009-10-27 21:00:39\n",
       "9       1     2840     3.0 2009-10-27 21:05:00"
      ]
     },
     "execution_count": 5,
     "metadata": {},
     "output_type": "execute_result"
    }
   ],
   "source": [
    "ratings = pd.read_csv('../../../data/big_data/ml-latest/ratings.csv')\n",
    "ratings['timestamp'] = pd.to_datetime(ratings['timestamp'], unit='s')\n",
    "ratings.head(10)"
   ]
  },
  {
   "cell_type": "code",
   "execution_count": 50,
   "metadata": {},
   "outputs": [
    {
     "data": {
      "text/html": [
       "<div>\n",
       "<style scoped>\n",
       "    .dataframe tbody tr th:only-of-type {\n",
       "        vertical-align: middle;\n",
       "    }\n",
       "\n",
       "    .dataframe tbody tr th {\n",
       "        vertical-align: top;\n",
       "    }\n",
       "\n",
       "    .dataframe thead th {\n",
       "        text-align: right;\n",
       "    }\n",
       "</style>\n",
       "<table border=\"1\" class=\"dataframe\">\n",
       "  <thead>\n",
       "    <tr style=\"text-align: right;\">\n",
       "      <th></th>\n",
       "      <th>userId</th>\n",
       "      <th>movieId</th>\n",
       "      <th>tag</th>\n",
       "      <th>timestamp</th>\n",
       "    </tr>\n",
       "  </thead>\n",
       "  <tbody>\n",
       "    <tr>\n",
       "      <th>0</th>\n",
       "      <td>14</td>\n",
       "      <td>110</td>\n",
       "      <td>epic</td>\n",
       "      <td>2015-09-25 02:35:38</td>\n",
       "    </tr>\n",
       "    <tr>\n",
       "      <th>1</th>\n",
       "      <td>14</td>\n",
       "      <td>110</td>\n",
       "      <td>Medieval</td>\n",
       "      <td>2015-09-25 02:35:32</td>\n",
       "    </tr>\n",
       "    <tr>\n",
       "      <th>2</th>\n",
       "      <td>14</td>\n",
       "      <td>260</td>\n",
       "      <td>sci-fi</td>\n",
       "      <td>2015-09-13 18:36:50</td>\n",
       "    </tr>\n",
       "    <tr>\n",
       "      <th>3</th>\n",
       "      <td>14</td>\n",
       "      <td>260</td>\n",
       "      <td>space action</td>\n",
       "      <td>2015-09-13 18:37:01</td>\n",
       "    </tr>\n",
       "    <tr>\n",
       "      <th>4</th>\n",
       "      <td>14</td>\n",
       "      <td>318</td>\n",
       "      <td>imdb top 250</td>\n",
       "      <td>2015-09-18 22:26:35</td>\n",
       "    </tr>\n",
       "  </tbody>\n",
       "</table>\n",
       "</div>"
      ],
      "text/plain": [
       "   userId  movieId           tag           timestamp\n",
       "0      14      110          epic 2015-09-25 02:35:38\n",
       "1      14      110      Medieval 2015-09-25 02:35:32\n",
       "2      14      260        sci-fi 2015-09-13 18:36:50\n",
       "3      14      260  space action 2015-09-13 18:37:01\n",
       "4      14      318  imdb top 250 2015-09-18 22:26:35"
      ]
     },
     "execution_count": 50,
     "metadata": {},
     "output_type": "execute_result"
    }
   ],
   "source": [
    "tags = pd.read_csv('../../../data/big_data/ml-latest/tags.csv')\n",
    "tags['timestamp'] = pd.to_datetime(tags['timestamp'], unit='s')\n",
    "tags.head()"
   ]
  },
  {
   "cell_type": "markdown",
   "metadata": {},
   "source": [
    "Going to explore the ratings a little bit"
   ]
  },
  {
   "cell_type": "code",
   "execution_count": 106,
   "metadata": {},
   "outputs": [
    {
     "data": {
      "text/plain": [
       "<matplotlib.collections.PathCollection at 0x26f247fa438>"
      ]
     },
     "execution_count": 106,
     "metadata": {},
     "output_type": "execute_result"
    },
    {
     "data": {
      "image/png": "[encoded data removed]",
      "text/plain": [
       "<Figure size 720x720 with 1 Axes>"
      ]
     },
     "metadata": {
      "needs_background": "light"
     },
     "output_type": "display_data"
    }
   ],
   "source": [
    "fig, ax = plt.subplots(figsize=(10,10))\n",
    "index =  np.random.choice(ratings.index, 10000)\n",
    "ax.scatter(ratings.timestamp[index], ratings.rating[index])"
   ]
  },
  {
   "cell_type": "code",
   "execution_count": 107,
   "metadata": {},
   "outputs": [
    {
     "data": {
      "text/plain": [
       "count                 8035071\n",
       "unique                7685378\n",
       "top       2017-01-26 17:09:55\n",
       "freq                      141\n",
       "first     2003-02-18 21:34:27\n",
       "last      2018-09-26 06:58:30\n",
       "Name: timestamp, dtype: object"
      ]
     },
     "execution_count": 107,
     "metadata": {},
     "output_type": "execute_result"
    }
   ],
   "source": [
    "ratings[ratings.rating % 1 == 0.5].timestamp.describe()"
   ]
  },
  {
   "cell_type": "markdown",
   "metadata": {},
   "source": [
    "So apparently this review set only started accepting review scores ending with .5 in 2003"
   ]
  },
  {
   "cell_type": "code",
   "execution_count": 73,
   "metadata": {},
   "outputs": [
    {
     "data": {
      "text/plain": [
       "{'Adventure': 4067,\n",
       " 'Animation': 2663,\n",
       " 'Children': 2749,\n",
       " 'Comedy': 15956,\n",
       " 'Fantasy': 2637,\n",
       " 'Romance': 7412,\n",
       " 'Drama': 24144,\n",
       " 'Action': 7130,\n",
       " 'Crime': 5105,\n",
       " 'Thriller': 8216,\n",
       " 'Horror': 5555,\n",
       " 'Mystery': 2773,\n",
       " 'Sci-Fi': 3444,\n",
       " 'IMAX': 197,\n",
       " 'Documentary': 5118,\n",
       " 'War': 1820,\n",
       " 'Musical': 1113,\n",
       " 'Western': 1378,\n",
       " 'Film-Noir': 364,\n",
       " '(no genres listed)': 4266}"
      ]
     },
     "execution_count": 73,
     "metadata": {},
     "output_type": "execute_result"
    }
   ],
   "source": [
    "temp = []\n",
    "for group in movies.genres:\n",
    "    temp.extend(group.split('|'))\n",
    "dict(Counter(temp))"
   ]
  },
  {
   "cell_type": "markdown",
   "metadata": {},
   "source": [
    "We've got a ton of films labeled comedy, but we also have a lot of films with no genre at all, let's see those."
   ]
  },
  {
   "cell_type": "code",
   "execution_count": 77,
   "metadata": {},
   "outputs": [
    {
     "data": {
      "text/html": [
       "<div>\n",
       "<style scoped>\n",
       "    .dataframe tbody tr th:only-of-type {\n",
       "        vertical-align: middle;\n",
       "    }\n",
       "\n",
       "    .dataframe tbody tr th {\n",
       "        vertical-align: top;\n",
       "    }\n",
       "\n",
       "    .dataframe thead th {\n",
       "        text-align: right;\n",
       "    }\n",
       "</style>\n",
       "<table border=\"1\" class=\"dataframe\">\n",
       "  <thead>\n",
       "    <tr style=\"text-align: right;\">\n",
       "      <th></th>\n",
       "      <th>movieId</th>\n",
       "      <th>title</th>\n",
       "      <th>genres</th>\n",
       "      <th>genre_count</th>\n",
       "    </tr>\n",
       "  </thead>\n",
       "  <tbody>\n",
       "    <tr>\n",
       "      <th>37449</th>\n",
       "      <td>146972</td>\n",
       "      <td>Forbidden (1954)</td>\n",
       "      <td>(no genres listed)</td>\n",
       "      <td>1</td>\n",
       "    </tr>\n",
       "    <tr>\n",
       "      <th>33022</th>\n",
       "      <td>136606</td>\n",
       "      <td>Le chant du Styrène (1958)</td>\n",
       "      <td>(no genres listed)</td>\n",
       "      <td>1</td>\n",
       "    </tr>\n",
       "    <tr>\n",
       "      <th>35944</th>\n",
       "      <td>143434</td>\n",
       "      <td>The Italian Key (2011)</td>\n",
       "      <td>(no genres listed)</td>\n",
       "      <td>1</td>\n",
       "    </tr>\n",
       "    <tr>\n",
       "      <th>38655</th>\n",
       "      <td>149929</td>\n",
       "      <td>Olvidados (2014)</td>\n",
       "      <td>(no genres listed)</td>\n",
       "      <td>1</td>\n",
       "    </tr>\n",
       "    <tr>\n",
       "      <th>45172</th>\n",
       "      <td>164975</td>\n",
       "      <td>After the Promise (1987)</td>\n",
       "      <td>(no genres listed)</td>\n",
       "      <td>1</td>\n",
       "    </tr>\n",
       "    <tr>\n",
       "      <th>40049</th>\n",
       "      <td>153296</td>\n",
       "      <td>The Tribulations of Balthazar Kober (1988)</td>\n",
       "      <td>(no genres listed)</td>\n",
       "      <td>1</td>\n",
       "    </tr>\n",
       "    <tr>\n",
       "      <th>41759</th>\n",
       "      <td>157294</td>\n",
       "      <td>Hannibal Takes Edinburgh (2016)</td>\n",
       "      <td>(no genres listed)</td>\n",
       "      <td>1</td>\n",
       "    </tr>\n",
       "    <tr>\n",
       "      <th>56937</th>\n",
       "      <td>190855</td>\n",
       "      <td>Without the King (2007)</td>\n",
       "      <td>(no genres listed)</td>\n",
       "      <td>1</td>\n",
       "    </tr>\n",
       "    <tr>\n",
       "      <th>44843</th>\n",
       "      <td>164250</td>\n",
       "      <td>Bellini e o Demônio (2008)</td>\n",
       "      <td>(no genres listed)</td>\n",
       "      <td>1</td>\n",
       "    </tr>\n",
       "    <tr>\n",
       "      <th>50944</th>\n",
       "      <td>177443</td>\n",
       "      <td>Nat King Cole: Afraid of the Dark (2014)</td>\n",
       "      <td>(no genres listed)</td>\n",
       "      <td>1</td>\n",
       "    </tr>\n",
       "    <tr>\n",
       "      <th>30375</th>\n",
       "      <td>130454</td>\n",
       "      <td>Michael Laudrup - en Fodboldspiller</td>\n",
       "      <td>(no genres listed)</td>\n",
       "      <td>1</td>\n",
       "    </tr>\n",
       "    <tr>\n",
       "      <th>41942</th>\n",
       "      <td>157737</td>\n",
       "      <td>Gensou Maden Saiyuuki - The Movie - Requiem (2...</td>\n",
       "      <td>(no genres listed)</td>\n",
       "      <td>1</td>\n",
       "    </tr>\n",
       "    <tr>\n",
       "      <th>53122</th>\n",
       "      <td>182311</td>\n",
       "      <td>Akallinen mies (1986)</td>\n",
       "      <td>(no genres listed)</td>\n",
       "      <td>1</td>\n",
       "    </tr>\n",
       "    <tr>\n",
       "      <th>38090</th>\n",
       "      <td>148598</td>\n",
       "      <td>Valentino (1951)</td>\n",
       "      <td>(no genres listed)</td>\n",
       "      <td>1</td>\n",
       "    </tr>\n",
       "    <tr>\n",
       "      <th>39727</th>\n",
       "      <td>152605</td>\n",
       "      <td>Drei Männer im Schnee (1955)</td>\n",
       "      <td>(no genres listed)</td>\n",
       "      <td>1</td>\n",
       "    </tr>\n",
       "  </tbody>\n",
       "</table>\n",
       "</div>"
      ],
      "text/plain": [
       "       movieId                                              title  \\\n",
       "37449   146972                                   Forbidden (1954)   \n",
       "33022   136606                         Le chant du Styrène (1958)   \n",
       "35944   143434                             The Italian Key (2011)   \n",
       "38655   149929                                   Olvidados (2014)   \n",
       "45172   164975                           After the Promise (1987)   \n",
       "40049   153296         The Tribulations of Balthazar Kober (1988)   \n",
       "41759   157294                    Hannibal Takes Edinburgh (2016)   \n",
       "56937   190855                            Without the King (2007)   \n",
       "44843   164250                         Bellini e o Demônio (2008)   \n",
       "50944   177443           Nat King Cole: Afraid of the Dark (2014)   \n",
       "30375   130454                Michael Laudrup - en Fodboldspiller   \n",
       "41942   157737  Gensou Maden Saiyuuki - The Movie - Requiem (2...   \n",
       "53122   182311                              Akallinen mies (1986)   \n",
       "38090   148598                                   Valentino (1951)   \n",
       "39727   152605                       Drei Männer im Schnee (1955)   \n",
       "\n",
       "                   genres  genre_count  \n",
       "37449  (no genres listed)            1  \n",
       "33022  (no genres listed)            1  \n",
       "35944  (no genres listed)            1  \n",
       "38655  (no genres listed)            1  \n",
       "45172  (no genres listed)            1  \n",
       "40049  (no genres listed)            1  \n",
       "41759  (no genres listed)            1  \n",
       "56937  (no genres listed)            1  \n",
       "44843  (no genres listed)            1  \n",
       "50944  (no genres listed)            1  \n",
       "30375  (no genres listed)            1  \n",
       "41942  (no genres listed)            1  \n",
       "53122  (no genres listed)            1  \n",
       "38090  (no genres listed)            1  \n",
       "39727  (no genres listed)            1  "
      ]
     },
     "execution_count": 77,
     "metadata": {},
     "output_type": "execute_result"
    }
   ],
   "source": [
    "no_genre = movies[movies['genres'] == '(no genres listed)']\n",
    "no_genre.sample(15)"
   ]
  },
  {
   "cell_type": "markdown",
   "metadata": {},
   "source": [
    "It seems like the movies with no genre don't have a lot of information on them in general"
   ]
  },
  {
   "cell_type": "code",
   "execution_count": 79,
   "metadata": {},
   "outputs": [
    {
     "data": {
      "text/plain": [
       "(27753444, 4)"
      ]
     },
     "execution_count": 79,
     "metadata": {},
     "output_type": "execute_result"
    }
   ],
   "source": [
    "ratings.shape"
   ]
  },
  {
   "cell_type": "code",
   "execution_count": 83,
   "metadata": {},
   "outputs": [
    {
     "data": {
      "text/plain": [
       "count    2.775344e+07\n",
       "mean     1.419420e+05\n",
       "std      8.170740e+04\n",
       "min      1.000000e+00\n",
       "25%      7.117600e+04\n",
       "50%      1.420220e+05\n",
       "75%      2.124590e+05\n",
       "max      2.832280e+05\n",
       "Name: userId, dtype: float64"
      ]
     },
     "execution_count": 83,
     "metadata": {},
     "output_type": "execute_result"
    }
   ],
   "source": [
    "ratings.userId.describe()"
   ]
  },
  {
   "cell_type": "code",
   "execution_count": 84,
   "metadata": {},
   "outputs": [],
   "source": [
    "def id_to_index(df):\n",
    "    \"\"\"\n",
    "    maps the values to the lowest consecutive values\n",
    "    :param df: pandas Dataframe with columns user, item, rating\n",
    "    :return: pandas Dataframe with the extra columns index_item and index_user\n",
    "    \"\"\"\n",
    "\n",
    "    index_item = np.arange(0, len(df.movieId.unique()))\n",
    "    index_user = np.arange(0, len(df.userId.unique()))\n",
    "\n",
    "    df_item_index = pd.DataFrame(df.movieId.unique(), columns=[\"movieId\"])\n",
    "    df_item_index[\"new_index\"] = index_item\n",
    "    df_user_index = pd.DataFrame(df.userId.unique(), columns=[\"userId\"])\n",
    "    df_user_index[\"new_index\"] = index_user\n",
    "\n",
    "    df[\"index_item\"] = df[\"movieId\"].map(df_item_index.set_index('movieId')[\"new_index\"]).fillna(0)\n",
    "\n",
    "    return df"
   ]
  },
  {
   "cell_type": "code",
   "execution_count": 85,
   "metadata": {},
   "outputs": [
    {
     "data": {
      "text/html": [
       "<div>\n",
       "<style scoped>\n",
       "    .dataframe tbody tr th:only-of-type {\n",
       "        vertical-align: middle;\n",
       "    }\n",
       "\n",
       "    .dataframe tbody tr th {\n",
       "        vertical-align: top;\n",
       "    }\n",
       "\n",
       "    .dataframe thead th {\n",
       "        text-align: right;\n",
       "    }\n",
       "</style>\n",
       "<table border=\"1\" class=\"dataframe\">\n",
       "  <thead>\n",
       "    <tr style=\"text-align: right;\">\n",
       "      <th></th>\n",
       "      <th>userId</th>\n",
       "      <th>movieId</th>\n",
       "      <th>rating</th>\n",
       "      <th>timestamp</th>\n",
       "      <th>index_item</th>\n",
       "      <th>index_user</th>\n",
       "    </tr>\n",
       "  </thead>\n",
       "  <tbody>\n",
       "    <tr>\n",
       "      <th>0</th>\n",
       "      <td>1</td>\n",
       "      <td>307</td>\n",
       "      <td>3.5</td>\n",
       "      <td>2009-10-27 21:00:21</td>\n",
       "      <td>0</td>\n",
       "      <td>0</td>\n",
       "    </tr>\n",
       "    <tr>\n",
       "      <th>1</th>\n",
       "      <td>1</td>\n",
       "      <td>481</td>\n",
       "      <td>3.5</td>\n",
       "      <td>2009-10-27 21:04:16</td>\n",
       "      <td>1</td>\n",
       "      <td>0</td>\n",
       "    </tr>\n",
       "    <tr>\n",
       "      <th>2</th>\n",
       "      <td>1</td>\n",
       "      <td>1091</td>\n",
       "      <td>1.5</td>\n",
       "      <td>2009-10-27 21:04:31</td>\n",
       "      <td>2</td>\n",
       "      <td>0</td>\n",
       "    </tr>\n",
       "    <tr>\n",
       "      <th>3</th>\n",
       "      <td>1</td>\n",
       "      <td>1257</td>\n",
       "      <td>4.5</td>\n",
       "      <td>2009-10-27 21:04:20</td>\n",
       "      <td>3</td>\n",
       "      <td>0</td>\n",
       "    </tr>\n",
       "    <tr>\n",
       "      <th>4</th>\n",
       "      <td>1</td>\n",
       "      <td>1449</td>\n",
       "      <td>4.5</td>\n",
       "      <td>2009-10-27 21:01:04</td>\n",
       "      <td>4</td>\n",
       "      <td>0</td>\n",
       "    </tr>\n",
       "    <tr>\n",
       "      <th>...</th>\n",
       "      <td>...</td>\n",
       "      <td>...</td>\n",
       "      <td>...</td>\n",
       "      <td>...</td>\n",
       "      <td>...</td>\n",
       "      <td>...</td>\n",
       "    </tr>\n",
       "    <tr>\n",
       "      <th>27753439</th>\n",
       "      <td>283228</td>\n",
       "      <td>8542</td>\n",
       "      <td>4.5</td>\n",
       "      <td>2013-09-22 20:46:35</td>\n",
       "      <td>9793</td>\n",
       "      <td>283227</td>\n",
       "    </tr>\n",
       "    <tr>\n",
       "      <th>27753440</th>\n",
       "      <td>283228</td>\n",
       "      <td>8712</td>\n",
       "      <td>4.5</td>\n",
       "      <td>2013-09-22 20:45:51</td>\n",
       "      <td>7826</td>\n",
       "      <td>283227</td>\n",
       "    </tr>\n",
       "    <tr>\n",
       "      <th>27753441</th>\n",
       "      <td>283228</td>\n",
       "      <td>34405</td>\n",
       "      <td>4.5</td>\n",
       "      <td>2013-09-22 20:48:09</td>\n",
       "      <td>1080</td>\n",
       "      <td>283227</td>\n",
       "    </tr>\n",
       "    <tr>\n",
       "      <th>27753442</th>\n",
       "      <td>283228</td>\n",
       "      <td>44761</td>\n",
       "      <td>4.5</td>\n",
       "      <td>2012-11-29 03:25:24</td>\n",
       "      <td>4306</td>\n",
       "      <td>283227</td>\n",
       "    </tr>\n",
       "    <tr>\n",
       "      <th>27753443</th>\n",
       "      <td>283228</td>\n",
       "      <td>54286</td>\n",
       "      <td>4.5</td>\n",
       "      <td>2012-11-29 03:28:38</td>\n",
       "      <td>762</td>\n",
       "      <td>283227</td>\n",
       "    </tr>\n",
       "  </tbody>\n",
       "</table>\n",
       "<p>27753444 rows × 6 columns</p>\n",
       "</div>"
      ],
      "text/plain": [
       "          userId  movieId  rating           timestamp  index_item  index_user\n",
       "0              1      307     3.5 2009-10-27 21:00:21           0           0\n",
       "1              1      481     3.5 2009-10-27 21:04:16           1           0\n",
       "2              1     1091     1.5 2009-10-27 21:04:31           2           0\n",
       "3              1     1257     4.5 2009-10-27 21:04:20           3           0\n",
       "4              1     1449     4.5 2009-10-27 21:01:04           4           0\n",
       "...          ...      ...     ...                 ...         ...         ...\n",
       "27753439  283228     8542     4.5 2013-09-22 20:46:35        9793      283227\n",
       "27753440  283228     8712     4.5 2013-09-22 20:45:51        7826      283227\n",
       "27753441  283228    34405     4.5 2013-09-22 20:48:09        1080      283227\n",
       "27753442  283228    44761     4.5 2012-11-29 03:25:24        4306      283227\n",
       "27753443  283228    54286     4.5 2012-11-29 03:28:38         762      283227\n",
       "\n",
       "[27753444 rows x 6 columns]"
      ]
     },
     "execution_count": 85,
     "metadata": {},
     "output_type": "execute_result"
    }
   ],
   "source": [
    "id_to_index(ratings)"
   ]
  },
  {
   "cell_type": "code",
   "execution_count": 93,
   "metadata": {},
   "outputs": [],
   "source": [
    "mat = sparse.coo_matrix((ratings['rating'], (ratings[\"userId\"], ratings[\"movieId\"])))"
   ]
  },
  {
   "cell_type": "code",
   "execution_count": null,
   "metadata": {},
   "outputs": [],
   "source": []
  },
  {
   "cell_type": "code",
   "execution_count": 99,
   "metadata": {},
   "outputs": [],
   "source": [
    "table = pd.DataFrame.sparse.from_spmatrix(mat)"
   ]
  },
  {
   "cell_type": "code",
   "execution_count": 100,
   "metadata": {},
   "outputs": [
    {
     "name": "stdout",
     "output_type": "stream",
     "text": [
      "<class 'pandas.core.frame.DataFrame'>\n",
      "RangeIndex: 283229 entries, 0 to 283228\n",
      "Columns: 193887 entries, 0 to 193886\n",
      "dtypes: Sparse[float64, 0.0](193887)\n",
      "memory usage: 317.6 MB\n"
     ]
    }
   ],
   "source": [
    "table.info()"
   ]
  },
  {
   "cell_type": "code",
   "execution_count": 13,
   "metadata": {},
   "outputs": [
    {
     "data": {
      "text/plain": [
       "<matplotlib.axes._subplots.AxesSubplot at 0x20501568780>"
      ]
     },
     "execution_count": 13,
     "metadata": {},
     "output_type": "execute_result"
    },
    {
     "data": {
      "image/png": "[encoded data removed]",
      "text/plain": [
       "<Figure size 432x288 with 1 Axes>"
      ]
     },
     "metadata": {
      "needs_background": "light"
     },
     "output_type": "display_data"
    }
   ],
   "source": [
    "ratings.groupby('movieId')['rating'].count().sort_values()[-100:].hist(bins=10)"
   ]
  },
  {
   "cell_type": "code",
   "execution_count": null,
   "metadata": {},
   "outputs": [],
   "source": []
  }
 ],
 "metadata": {
  "kernelspec": {
   "display_name": "learn-env",
   "language": "python",
   "name": "learn-env"
  },
  "language_info": {
   "codemirror_mode": {
    "name": "ipython",
    "version": 3
   },
   "file_extension": ".py",
   "mimetype": "text/x-python",
   "name": "python",
   "nbconvert_exporter": "python",
   "pygments_lexer": "ipython3",
   "version": "3.6.10"
  }
 },
 "nbformat": 4,
 "nbformat_minor": 4
}
