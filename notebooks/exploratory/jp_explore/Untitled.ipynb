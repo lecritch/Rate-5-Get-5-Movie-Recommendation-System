{
 "cells": [
  {
   "cell_type": "code",
   "execution_count": 15,
   "metadata": {},
   "outputs": [],
   "source": [
    "from surprise.prediction_algorithms import SVD\n",
    "import pandas as pd\n",
    "df = pd.read_csv('../../../data/ratings.csv')\n",
    "df = df.drop(columns='timestamp')\n",
    "movies = pd.read_csv('../../../data/movies.csv')"
   ]
  },
  {
   "cell_type": "code",
   "execution_count": 16,
   "metadata": {},
   "outputs": [],
   "source": [
    "from surprise import Reader, Dataset\n",
    "reader = Reader()\n",
    "data = Dataset.load_from_df(df, reader)\n",
    "dataset = data.build_full_trainset()"
   ]
  },
  {
   "cell_type": "code",
   "execution_count": 17,
   "metadata": {},
   "outputs": [],
   "source": [
    "svd = SVD(n_factors=50, reg_all=0.05)\n"
   ]
  },
  {
   "cell_type": "code",
   "execution_count": 18,
   "metadata": {},
   "outputs": [],
   "source": [
    "def movie_rater(movies, num=5, genre=None):\n",
    "    userID = 0\n",
    "    rating_list = []\n",
    "    while num > 0:\n",
    "        if genre:\n",
    "            movie = movies[movies['genres'].str.contains(genre)].sample(1)\n",
    "        else:\n",
    "            movie = movies.sample(1)\n",
    "        print(movie)\n",
    "        rating = input('How do you rate this movie on a scale of 1-5, press n if you have not seen :\\n')\n",
    "        if rating == 'n':\n",
    "            continue\n",
    "        else:\n",
    "            rating_one_movie = {'userId':userID,'movieId':movie['movieId'].values[0],'rating':rating}\n",
    "            rating_list.append(rating_one_movie) \n",
    "            num -= 1\n",
    "    return rating_list      "
   ]
  },
  {
   "cell_type": "code",
   "execution_count": 31,
   "metadata": {},
   "outputs": [
    {
     "name": "stdout",
     "output_type": "stream",
     "text": [
      "      movieId                                     title          genres\n",
      "8437   111743  A Million Ways to Die in the West (2014)  Comedy|Western\n"
     ]
    },
    {
     "name": "stdin",
     "output_type": "stream",
     "text": [
      "How do you rate this movie on a scale of 1-5, press n if you have not seen :\n",
      " 5\n"
     ]
    },
    {
     "name": "stdout",
     "output_type": "stream",
     "text": [
      "      movieId                       title genres\n",
      "4279     6246  Talent for the Game (1991)  Drama\n"
     ]
    },
    {
     "name": "stdin",
     "output_type": "stream",
     "text": [
      "How do you rate this movie on a scale of 1-5, press n if you have not seen :\n",
      " 4\n"
     ]
    },
    {
     "name": "stdout",
     "output_type": "stream",
     "text": [
      "      movieId                   title                 genres\n",
      "1616     2160  Rosemary's Baby (1968)  Drama|Horror|Thriller\n"
     ]
    },
    {
     "name": "stdin",
     "output_type": "stream",
     "text": [
      "How do you rate this movie on a scale of 1-5, press n if you have not seen :\n",
      " 3\n"
     ]
    },
    {
     "name": "stdout",
     "output_type": "stream",
     "text": [
      "      movieId               title        genres\n",
      "7830    93114  Ro.Go.Pa.G. (1963)  Comedy|Drama\n"
     ]
    },
    {
     "name": "stdin",
     "output_type": "stream",
     "text": [
      "How do you rate this movie on a scale of 1-5, press n if you have not seen :\n",
      " 2\n"
     ]
    },
    {
     "name": "stdout",
     "output_type": "stream",
     "text": [
      "      movieId                    title       genres\n",
      "7362    78746  Best Worst Movie (2009)  Documentary\n"
     ]
    },
    {
     "name": "stdin",
     "output_type": "stream",
     "text": [
      "How do you rate this movie on a scale of 1-5, press n if you have not seen :\n",
      " 1\n"
     ]
    }
   ],
   "source": [
    "new_ratings_df = df.append(movie_rater(movies), ignore_index=True)\n",
    "new_data = Dataset.load_from_df(new_ratings_df, reader)"
   ]
  },
  {
   "cell_type": "code",
   "execution_count": 32,
   "metadata": {},
   "outputs": [
    {
     "data": {
      "text/plain": [
       "<surprise.prediction_algorithms.matrix_factorization.SVD at 0x20cfde379e8>"
      ]
     },
     "execution_count": 32,
     "metadata": {},
     "output_type": "execute_result"
    }
   ],
   "source": [
    "svd.fit(new_data.build_full_trainset())"
   ]
  },
  {
   "cell_type": "code",
   "execution_count": 33,
   "metadata": {},
   "outputs": [],
   "source": [
    "# make predictions for the user\n",
    "# you'll probably want to create a list of tuples in the format (movie_id, predicted_score)\n",
    "list_of_movies = []\n",
    "for m_id in df['movieId'].unique():\n",
    "    list_of_movies.append((m_id, svd.predict(1000,m_id)[3]))"
   ]
  },
  {
   "cell_type": "code",
   "execution_count": 34,
   "metadata": {},
   "outputs": [],
   "source": [
    "ranked_movies = sorted(list_of_movies, key=lambda x:x[1], reverse=True)\n"
   ]
  },
  {
   "cell_type": "code",
   "execution_count": 35,
   "metadata": {},
   "outputs": [
    {
     "name": "stdout",
     "output_type": "stream",
     "text": [
      "Recommendation #  1 :  277    Shawshank Redemption, The (1994)\n",
      "Name: title, dtype: object \n",
      "\n",
      "Recommendation #  2 :  906    Lawrence of Arabia (1962)\n",
      "Name: title, dtype: object \n",
      "\n",
      "Recommendation #  3 :  602    Dr. Strangelove or: How I Learned to Stop Worr...\n",
      "Name: title, dtype: object \n",
      "\n",
      "Recommendation #  4 :  2226    Fight Club (1999)\n",
      "Name: title, dtype: object \n",
      "\n",
      "Recommendation #  5 :  841    Streetcar Named Desire, A (1951)\n",
      "Name: title, dtype: object \n",
      "\n"
     ]
    }
   ],
   "source": [
    "def recommended_movies(user_ratings,movie_title_df,n):\n",
    "        for idx, rec in enumerate(user_ratings):\n",
    "            title = movie_title_df.loc[movie_title_df['movieId'] == int(rec[0])]['title']\n",
    "            print('Recommendation # ', idx+1, ': ', title, '\\n')\n",
    "            n-= 1\n",
    "            if n == 0:\n",
    "                break\n",
    "            \n",
    "recommended_movies(ranked_movies, movies, 5)"
   ]
  },
  {
   "cell_type": "code",
   "execution_count": null,
   "metadata": {},
   "outputs": [],
   "source": []
  },
  {
   "cell_type": "code",
   "execution_count": null,
   "metadata": {},
   "outputs": [],
   "source": []
  }
 ],
 "metadata": {
  "kernelspec": {
   "display_name": "Python [conda env:learn-env] *",
   "language": "python",
   "name": "conda-env-learn-env-py"
  },
  "language_info": {
   "codemirror_mode": {
    "name": "ipython",
    "version": 3
   },
   "file_extension": ".py",
   "mimetype": "text/x-python",
   "name": "python",
   "nbconvert_exporter": "python",
   "pygments_lexer": "ipython3",
   "version": "3.6.10"
  }
 },
 "nbformat": 4,
 "nbformat_minor": 4
}
