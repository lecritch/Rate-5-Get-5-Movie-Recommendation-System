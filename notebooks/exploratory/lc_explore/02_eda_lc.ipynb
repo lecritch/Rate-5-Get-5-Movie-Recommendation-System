{
 "cells": [
  {
   "cell_type": "markdown",
   "metadata": {},
   "source": [
    "# EDA and Viz\n",
    "\n",
    "In this notebook I am to explore the datasets further and produce some visualisations. "
   ]
  },
  {
   "cell_type": "code",
   "execution_count": 131,
   "metadata": {},
   "outputs": [],
   "source": [
    "# imports \n",
    "import pandas as pd\n",
    "import numpy as np\n",
    "import matplotlib.pyplot as plt\n",
    "%matplotlib inline\n",
    "import seaborn as sns\n",
    "sns.set_style('darkgrid')\n",
    "from surprise import Reader, Dataset\n",
    "\n",
    "parent_dir = '../../../'"
   ]
  },
  {
   "cell_type": "code",
   "execution_count": 188,
   "metadata": {},
   "outputs": [],
   "source": [
    "# plot parameters\n",
    "plt.rcParams['axes.labelsize'] = 20\n",
    "plt.rcParams['axes.titlesize'] = 25\n",
    "plt.rcParams['xtick.labelsize'] = 15\n",
    "plt.rcParams['ytick.labelsize'] = 15\n",
    "plt.rcParams['axes.edgecolor'] = 'black'\n",
    "plt.rcParams['axes.facecolor'] = 'white' # or EAEAF2"
   ]
  },
  {
   "cell_type": "markdown",
   "metadata": {},
   "source": [
    "### Movies df:"
   ]
  },
  {
   "cell_type": "code",
   "execution_count": 2,
   "metadata": {},
   "outputs": [
    {
     "data": {
      "text/html": [
       "<div>\n",
       "<style scoped>\n",
       "    .dataframe tbody tr th:only-of-type {\n",
       "        vertical-align: middle;\n",
       "    }\n",
       "\n",
       "    .dataframe tbody tr th {\n",
       "        vertical-align: top;\n",
       "    }\n",
       "\n",
       "    .dataframe thead th {\n",
       "        text-align: right;\n",
       "    }\n",
       "</style>\n",
       "<table border=\"1\" class=\"dataframe\">\n",
       "  <thead>\n",
       "    <tr style=\"text-align: right;\">\n",
       "      <th></th>\n",
       "      <th>movieId</th>\n",
       "      <th>title</th>\n",
       "      <th>genres</th>\n",
       "    </tr>\n",
       "  </thead>\n",
       "  <tbody>\n",
       "    <tr>\n",
       "      <td>0</td>\n",
       "      <td>1</td>\n",
       "      <td>Toy Story (1995)</td>\n",
       "      <td>Adventure|Animation|Children|Comedy|Fantasy</td>\n",
       "    </tr>\n",
       "    <tr>\n",
       "      <td>1</td>\n",
       "      <td>2</td>\n",
       "      <td>Jumanji (1995)</td>\n",
       "      <td>Adventure|Children|Fantasy</td>\n",
       "    </tr>\n",
       "    <tr>\n",
       "      <td>2</td>\n",
       "      <td>3</td>\n",
       "      <td>Grumpier Old Men (1995)</td>\n",
       "      <td>Comedy|Romance</td>\n",
       "    </tr>\n",
       "    <tr>\n",
       "      <td>3</td>\n",
       "      <td>4</td>\n",
       "      <td>Waiting to Exhale (1995)</td>\n",
       "      <td>Comedy|Drama|Romance</td>\n",
       "    </tr>\n",
       "    <tr>\n",
       "      <td>4</td>\n",
       "      <td>5</td>\n",
       "      <td>Father of the Bride Part II (1995)</td>\n",
       "      <td>Comedy</td>\n",
       "    </tr>\n",
       "  </tbody>\n",
       "</table>\n",
       "</div>"
      ],
      "text/plain": [
       "   movieId                               title  \\\n",
       "0        1                    Toy Story (1995)   \n",
       "1        2                      Jumanji (1995)   \n",
       "2        3             Grumpier Old Men (1995)   \n",
       "3        4            Waiting to Exhale (1995)   \n",
       "4        5  Father of the Bride Part II (1995)   \n",
       "\n",
       "                                        genres  \n",
       "0  Adventure|Animation|Children|Comedy|Fantasy  \n",
       "1                   Adventure|Children|Fantasy  \n",
       "2                               Comedy|Romance  \n",
       "3                         Comedy|Drama|Romance  \n",
       "4                                       Comedy  "
      ]
     },
     "execution_count": 2,
     "metadata": {},
     "output_type": "execute_result"
    }
   ],
   "source": [
    "movies = pd.read_csv(parent_dir + 'data/movies.csv')\n",
    "movies.head()"
   ]
  },
  {
   "cell_type": "code",
   "execution_count": 7,
   "metadata": {},
   "outputs": [
    {
     "name": "stdout",
     "output_type": "stream",
     "text": [
      "<class 'pandas.core.frame.DataFrame'>\n",
      "RangeIndex: 9742 entries, 0 to 9741\n",
      "Data columns (total 3 columns):\n",
      "movieId    9742 non-null int64\n",
      "title      9742 non-null object\n",
      "genres     9742 non-null object\n",
      "dtypes: int64(1), object(2)\n",
      "memory usage: 228.5+ KB\n"
     ]
    }
   ],
   "source": [
    "movies.info()"
   ]
  },
  {
   "cell_type": "markdown",
   "metadata": {},
   "source": [
    "So from here we assume there are 9742 unique movies. But let's check the unique titles:"
   ]
  },
  {
   "cell_type": "code",
   "execution_count": 9,
   "metadata": {},
   "outputs": [
    {
     "data": {
      "text/plain": [
       "9737"
      ]
     },
     "execution_count": 9,
     "metadata": {},
     "output_type": "execute_result"
    }
   ],
   "source": [
    "len(movies['title'].unique())"
   ]
  },
  {
   "cell_type": "markdown",
   "metadata": {},
   "source": [
    "This doesn't agree with the 9742 we saw earlier.  "
   ]
  },
  {
   "cell_type": "code",
   "execution_count": 10,
   "metadata": {},
   "outputs": [
    {
     "data": {
      "text/plain": [
       "9742"
      ]
     },
     "execution_count": 10,
     "metadata": {},
     "output_type": "execute_result"
    }
   ],
   "source": [
    "len(movies['movieId'].unique())"
   ]
  },
  {
   "cell_type": "markdown",
   "metadata": {},
   "source": [
    "So there are 9742 unique movieId's but only 9737 unique titles.  This means some movies have 2 different movieIds.  Let's see if we can isolate these movies (there are only 5).  "
   ]
  },
  {
   "cell_type": "markdown",
   "metadata": {},
   "source": [
    "Test:"
   ]
  },
  {
   "cell_type": "code",
   "execution_count": 25,
   "metadata": {},
   "outputs": [
    {
     "data": {
      "text/plain": [
       "{'h': 1, '3': 2, 'l': 1, 't': 3, '2': 1}"
      ]
     },
     "execution_count": 25,
     "metadata": {},
     "output_type": "execute_result"
    }
   ],
   "source": [
    "test = {}\n",
    "ls = ['h', '3', '3', 'l', 't', '2', 't', 't']\n",
    "for l in ls:\n",
    "    test[l] = test.get(l, 0) + 1\n",
    "test"
   ]
  },
  {
   "cell_type": "code",
   "execution_count": 26,
   "metadata": {},
   "outputs": [
    {
     "name": "stdout",
     "output_type": "stream",
     "text": [
      "3\n",
      "t\n"
     ]
    }
   ],
   "source": [
    "for t in test:\n",
    "    if test[t] > 1:\n",
    "        print(t)"
   ]
  },
  {
   "cell_type": "code",
   "execution_count": 21,
   "metadata": {},
   "outputs": [
    {
     "data": {
      "text/plain": [
       "9737"
      ]
     },
     "execution_count": 21,
     "metadata": {},
     "output_type": "execute_result"
    }
   ],
   "source": [
    "count_movies = {}\n",
    "for title in movies['title']:\n",
    "#     print(movie)\n",
    "    count_movies[title] = count_movies.get(title, 0) + 1\n",
    "len(count_movies)"
   ]
  },
  {
   "cell_type": "code",
   "execution_count": 32,
   "metadata": {},
   "outputs": [
    {
     "name": "stdout",
     "output_type": "stream",
     "text": [
      "Emma (1996) 2\n",
      "Saturn 3 (1980) 2\n",
      "Confessions of a Dangerous Mind (2002) 2\n",
      "Eros (2004) 2\n",
      "War of the Worlds (2005) 2\n"
     ]
    }
   ],
   "source": [
    "double_movies = []\n",
    "for title in count_movies:\n",
    "    if count_movies[title] > 1:\n",
    "        print(title, count_movies[title])\n",
    "        double_movies.append(title)"
   ]
  },
  {
   "cell_type": "code",
   "execution_count": 33,
   "metadata": {},
   "outputs": [
    {
     "data": {
      "text/plain": [
       "['Emma (1996)',\n",
       " 'Saturn 3 (1980)',\n",
       " 'Confessions of a Dangerous Mind (2002)',\n",
       " 'Eros (2004)',\n",
       " 'War of the Worlds (2005)']"
      ]
     },
     "execution_count": 33,
     "metadata": {},
     "output_type": "execute_result"
    }
   ],
   "source": [
    "double_movies"
   ]
  },
  {
   "cell_type": "code",
   "execution_count": 34,
   "metadata": {},
   "outputs": [
    {
     "data": {
      "text/html": [
       "<div>\n",
       "<style scoped>\n",
       "    .dataframe tbody tr th:only-of-type {\n",
       "        vertical-align: middle;\n",
       "    }\n",
       "\n",
       "    .dataframe tbody tr th {\n",
       "        vertical-align: top;\n",
       "    }\n",
       "\n",
       "    .dataframe thead th {\n",
       "        text-align: right;\n",
       "    }\n",
       "</style>\n",
       "<table border=\"1\" class=\"dataframe\">\n",
       "  <thead>\n",
       "    <tr style=\"text-align: right;\">\n",
       "      <th></th>\n",
       "      <th>movieId</th>\n",
       "      <th>title</th>\n",
       "      <th>genres</th>\n",
       "    </tr>\n",
       "  </thead>\n",
       "  <tbody>\n",
       "    <tr>\n",
       "      <td>650</td>\n",
       "      <td>838</td>\n",
       "      <td>Emma (1996)</td>\n",
       "      <td>Comedy|Drama|Romance</td>\n",
       "    </tr>\n",
       "    <tr>\n",
       "      <td>2141</td>\n",
       "      <td>2851</td>\n",
       "      <td>Saturn 3 (1980)</td>\n",
       "      <td>Adventure|Sci-Fi|Thriller</td>\n",
       "    </tr>\n",
       "    <tr>\n",
       "      <td>4169</td>\n",
       "      <td>6003</td>\n",
       "      <td>Confessions of a Dangerous Mind (2002)</td>\n",
       "      <td>Comedy|Crime|Drama|Thriller</td>\n",
       "    </tr>\n",
       "    <tr>\n",
       "      <td>5601</td>\n",
       "      <td>26958</td>\n",
       "      <td>Emma (1996)</td>\n",
       "      <td>Romance</td>\n",
       "    </tr>\n",
       "    <tr>\n",
       "      <td>5854</td>\n",
       "      <td>32600</td>\n",
       "      <td>Eros (2004)</td>\n",
       "      <td>Drama</td>\n",
       "    </tr>\n",
       "    <tr>\n",
       "      <td>5931</td>\n",
       "      <td>34048</td>\n",
       "      <td>War of the Worlds (2005)</td>\n",
       "      <td>Action|Adventure|Sci-Fi|Thriller</td>\n",
       "    </tr>\n",
       "    <tr>\n",
       "      <td>6932</td>\n",
       "      <td>64997</td>\n",
       "      <td>War of the Worlds (2005)</td>\n",
       "      <td>Action|Sci-Fi</td>\n",
       "    </tr>\n",
       "    <tr>\n",
       "      <td>9106</td>\n",
       "      <td>144606</td>\n",
       "      <td>Confessions of a Dangerous Mind (2002)</td>\n",
       "      <td>Comedy|Crime|Drama|Romance|Thriller</td>\n",
       "    </tr>\n",
       "    <tr>\n",
       "      <td>9135</td>\n",
       "      <td>147002</td>\n",
       "      <td>Eros (2004)</td>\n",
       "      <td>Drama|Romance</td>\n",
       "    </tr>\n",
       "    <tr>\n",
       "      <td>9468</td>\n",
       "      <td>168358</td>\n",
       "      <td>Saturn 3 (1980)</td>\n",
       "      <td>Sci-Fi|Thriller</td>\n",
       "    </tr>\n",
       "  </tbody>\n",
       "</table>\n",
       "</div>"
      ],
      "text/plain": [
       "      movieId                                   title  \\\n",
       "650       838                             Emma (1996)   \n",
       "2141     2851                         Saturn 3 (1980)   \n",
       "4169     6003  Confessions of a Dangerous Mind (2002)   \n",
       "5601    26958                             Emma (1996)   \n",
       "5854    32600                             Eros (2004)   \n",
       "5931    34048                War of the Worlds (2005)   \n",
       "6932    64997                War of the Worlds (2005)   \n",
       "9106   144606  Confessions of a Dangerous Mind (2002)   \n",
       "9135   147002                             Eros (2004)   \n",
       "9468   168358                         Saturn 3 (1980)   \n",
       "\n",
       "                                   genres  \n",
       "650                  Comedy|Drama|Romance  \n",
       "2141            Adventure|Sci-Fi|Thriller  \n",
       "4169          Comedy|Crime|Drama|Thriller  \n",
       "5601                              Romance  \n",
       "5854                                Drama  \n",
       "5931     Action|Adventure|Sci-Fi|Thriller  \n",
       "6932                        Action|Sci-Fi  \n",
       "9106  Comedy|Crime|Drama|Romance|Thriller  \n",
       "9135                        Drama|Romance  \n",
       "9468                      Sci-Fi|Thriller  "
      ]
     },
     "execution_count": 34,
     "metadata": {},
     "output_type": "execute_result"
    }
   ],
   "source": [
    "movies[movies['title'].isin(double_movies)]"
   ]
  },
  {
   "cell_type": "code",
   "execution_count": 38,
   "metadata": {},
   "outputs": [
    {
     "name": "stdout",
     "output_type": "stream",
     "text": [
      "      movieId        title                genres\n",
      "650       838  Emma (1996)  Comedy|Drama|Romance\n",
      "5601    26958  Emma (1996)               Romance\n",
      "      movieId            title                     genres\n",
      "2141     2851  Saturn 3 (1980)  Adventure|Sci-Fi|Thriller\n",
      "9468   168358  Saturn 3 (1980)            Sci-Fi|Thriller\n",
      "      movieId                                   title  \\\n",
      "4169     6003  Confessions of a Dangerous Mind (2002)   \n",
      "9106   144606  Confessions of a Dangerous Mind (2002)   \n",
      "\n",
      "                                   genres  \n",
      "4169          Comedy|Crime|Drama|Thriller  \n",
      "9106  Comedy|Crime|Drama|Romance|Thriller  \n",
      "      movieId        title         genres\n",
      "5854    32600  Eros (2004)          Drama\n",
      "9135   147002  Eros (2004)  Drama|Romance\n",
      "      movieId                     title                            genres\n",
      "5931    34048  War of the Worlds (2005)  Action|Adventure|Sci-Fi|Thriller\n",
      "6932    64997  War of the Worlds (2005)                     Action|Sci-Fi\n"
     ]
    }
   ],
   "source": [
    "for title in double_movies:\n",
    "    print(movies[movies['title'] == title])"
   ]
  },
  {
   "cell_type": "markdown",
   "metadata": {},
   "source": [
    "I'm going to drop the rows where the genre is only a subset of the duplicate's list of genres.  E.g., I'll drop row 5601 because it only has 'Romance' whereas Romance is included in row 650 of the 'Emma' movie.  \n",
    "\n",
    "Since there are only 5 rows to drop, I'll manually make a list of their index's to drop them. "
   ]
  },
  {
   "cell_type": "code",
   "execution_count": 40,
   "metadata": {},
   "outputs": [],
   "source": [
    "rows_to_drop = [5601, 9468, 4169, 5854, 6932]\n",
    "movies = movies.drop(rows_to_drop, axis = 0)"
   ]
  },
  {
   "cell_type": "markdown",
   "metadata": {},
   "source": [
    "Test that it worked as expected:"
   ]
  },
  {
   "cell_type": "code",
   "execution_count": 41,
   "metadata": {},
   "outputs": [
    {
     "data": {
      "text/plain": [
       "9737"
      ]
     },
     "execution_count": 41,
     "metadata": {},
     "output_type": "execute_result"
    }
   ],
   "source": [
    "count_movies_again = {}\n",
    "for title in movies['title']:\n",
    "#     print(movie)\n",
    "    count_movies_again[title] = count_movies_again.get(title, 0) + 1\n",
    "len(count_movies_again)"
   ]
  },
  {
   "cell_type": "code",
   "execution_count": 42,
   "metadata": {},
   "outputs": [],
   "source": [
    "double_movies_again = []\n",
    "for title in count_movies_again:\n",
    "    if count_movies_again[title] > 1:\n",
    "        print(title, count_movies_again[title])\n",
    "        double_movies_again.append(title)"
   ]
  },
  {
   "cell_type": "code",
   "execution_count": 43,
   "metadata": {},
   "outputs": [
    {
     "data": {
      "text/plain": [
       "0"
      ]
     },
     "execution_count": 43,
     "metadata": {},
     "output_type": "execute_result"
    }
   ],
   "source": [
    "len(double_movies_again)"
   ]
  },
  {
   "cell_type": "markdown",
   "metadata": {},
   "source": [
    "Awesome"
   ]
  },
  {
   "cell_type": "markdown",
   "metadata": {},
   "source": [
    "Interested to see how many unique genre combinations we have:"
   ]
  },
  {
   "cell_type": "code",
   "execution_count": 45,
   "metadata": {},
   "outputs": [
    {
     "data": {
      "text/plain": [
       "951"
      ]
     },
     "execution_count": 45,
     "metadata": {},
     "output_type": "execute_result"
    }
   ],
   "source": [
    "len(movies['genres'].unique())"
   ]
  },
  {
   "cell_type": "code",
   "execution_count": 49,
   "metadata": {},
   "outputs": [],
   "source": [
    "count_genres = {}\n",
    "for genre in movies['genres']:\n",
    "    count_genres[genre] = count_genres.get(genre, 0) + 1"
   ]
  },
  {
   "cell_type": "markdown",
   "metadata": {},
   "source": [
    "So there are 951 unique genre combinations.  Let's see how many of these only have 1 movie classified as this combination of genres.  Perhaps these are 'less common' or more 'out-there' movies.  Or perhaps their genre could be reduced to be more generalisable.  \n",
    "\n",
    "This is important because we loose information about people who like movies of the same genre, but if someone is classified as 'not alike' just because a genre combination of their favourite movie was 'Adventure|Children|Romance' and another person's was 'Adventure|Children|Romance|IMAX', this could loose valuable information about those people.  \n",
    "\n",
    "Perhaps we'll need to make sure 'genre' is handled appropritely and that our model features include the different types of genres included in combination genres. \n"
   ]
  },
  {
   "cell_type": "code",
   "execution_count": 54,
   "metadata": {},
   "outputs": [
    {
     "name": "stdout",
     "output_type": "stream",
     "text": [
      "Crime|Drama|Horror|Mystery|Thriller 1\n",
      "Adventure|Drama|Fantasy|Mystery|Sci-Fi 1\n",
      "Action|Adventure|Mystery|Sci-Fi 1\n",
      "Action|Romance|Western 1\n",
      "Fantasy|Horror|Mystery 1\n",
      "Action|Crime|Drama|Mystery|Sci-Fi|Thriller 1\n",
      "Adventure|Comedy|Crime|Mystery 1\n",
      "Adventure|Children|Comedy|Fantasy|Romance 1\n",
      "Drama|Romance|War|Western 1\n",
      "Children|Drama|Fantasy|Mystery 1\n",
      "Action|Crime|Fantasy|Thriller 1\n",
      "Adventure|Children|Romance 1\n",
      "Adventure|Animation|Children|Drama|Musical|IMAX 1\n",
      "Action|Adventure|Crime|Drama|Romance|Thriller 1\n",
      "Action|Children|Romance 1\n",
      "Action|Adventure|Children|Comedy|Fantasy|Sci-Fi 1\n",
      "Action|Adventure|Animation|Children|Fantasy 1\n",
      "Comedy|Drama|Fantasy|Romance|Thriller 1\n",
      "Animation|Children|Drama|Fantasy|Musical 1\n",
      "Animation|Children|Fantasy|Musical|Romance|IMAX 1\n",
      "Action|Adventure|Animation|Horror|Sci-Fi 1\n",
      "Action|Crime|Drama|War 1\n",
      "Drama|Mystery|Romance|Sci-Fi|Thriller 1\n",
      "Comedy|Fantasy|Romance|Sci-Fi 1\n",
      "Comedy|Fantasy|Musical 1\n",
      "Crime|Drama|Musical|Thriller 1\n",
      "Adventure|Drama|Romance|War 1\n",
      "Action|Adventure|Mystery|Romance|Thriller 1\n",
      "Comedy|Crime|Mystery|Romance|Thriller 1\n",
      "Film-Noir|Mystery 1\n",
      "Drama|Film-Noir|Mystery|Thriller 1\n",
      "Film-Noir|Romance|Thriller 1\n",
      "Crime|Mystery|Romance|Thriller 1\n",
      "Adventure|Comedy|Crime|Drama|Romance 1\n",
      "Animation|Children|Drama|Musical 1\n",
      "Animation|Children|Comedy|Fantasy|Musical|Romance 1\n",
      "Children|Drama|Sci-Fi 1\n",
      "Action|Adventure|Comedy|Fantasy|Horror 1\n",
      "Comedy|Musical|War 1\n",
      "Action|Drama|Mystery|Romance|Thriller 1\n",
      "Crime|Thriller|War 1\n",
      "Comedy|Drama|Film-Noir 1\n",
      "Fantasy|Horror|Romance|Thriller 1\n",
      "Action|Comedy|Crime|Drama|Sci-Fi 1\n",
      "Adventure|Animation|Comedy|Crime 1\n",
      "Action|Romance|War|Western 1\n",
      "Crime|Drama|Fantasy|Film-Noir|Mystery|Romance 1\n",
      "Comedy|Drama|Mystery|Romance 1\n",
      "Children|Comedy|Romance|Sci-Fi 1\n",
      "Adventure|Animation|Children|Drama|Musical 1\n",
      "Adventure|Film-Noir|Sci-Fi|Thriller 1\n",
      "Crime|Drama|Fantasy|Thriller 1\n",
      "Crime|Drama|Romance|War 1\n",
      "Adventure|Animation|Children|Comedy|Drama|Musical|Romance 1\n",
      "Animation|Children|Fantasy|War 1\n",
      "Adventure|Fantasy|Musical 1\n",
      "Adventure|Comedy|Sci-Fi|Western 1\n",
      "Adventure|Children|Comedy|Fantasy|Sci-Fi 1\n",
      "Animation|Children|Comedy|Musical|Romance 1\n",
      "Adventure|Animation|Children|Crime|Drama 1\n",
      "Children|Drama|Fantasy|Mystery|Thriller 1\n",
      "Adventure|Children|Fantasy|Western 1\n",
      "Animation|Children|Comedy|Drama|Fantasy 1\n",
      "Adventure|Animation|Children|Musical|Western 1\n",
      "Action|Comedy|Drama|Horror 1\n",
      "Adventure|Drama|Mystery|Thriller 1\n",
      "Adventure|Fantasy|Romance|Sci-Fi|Thriller 1\n",
      "Action|Drama|Romance|Sci-Fi 1\n",
      "Action|Adventure|Children|Fantasy|Mystery|Thriller 1\n",
      "Action|Adventure|Children|Drama 1\n",
      "Action|Comedy|Romance|Thriller 1\n",
      "Action|Sci-Fi|Thriller|Western 1\n",
      "Drama|Romance|Sci-Fi|Thriller 1\n",
      "Action|Adventure|Crime|Sci-Fi|Thriller 1\n",
      "Adventure|Drama|Mystery 1\n",
      "Comedy|Horror|Musical|Sci-Fi 1\n",
      "Action|Comedy|Sci-Fi|Western 1\n",
      "Action|Adventure|Comedy|Fantasy|Mystery 1\n",
      "Adventure|Animation|Children|Drama|Sci-Fi 1\n",
      "Action|Mystery 1\n",
      "Animation|Horror|Mystery|Thriller 1\n",
      "Adventure|Animation|Comedy|Fantasy|Musical 1\n",
      "Comedy|Crime|Drama|Fantasy 1\n",
      "Musical|Romance|War 1\n",
      "Action|Crime|Sci-Fi|Thriller 1\n",
      "Adventure|Animation|Children|Comedy|Crime|Fantasy|Mystery 1\n",
      "Adventure|Animation|Children|Fantasy|Sci-Fi 1\n",
      "Fantasy|Horror|Mystery|Romance 1\n",
      "Action|Fantasy|Horror|Mystery|Thriller 1\n",
      "Animation|Children|Musical|IMAX 1\n",
      "Action|Crime|Thriller|Western 1\n",
      "Adventure|Crime|Drama|Romance 1\n",
      "Action|Children|Comedy|Fantasy|Sci-Fi 1\n",
      "Action|Children|Fantasy 1\n",
      "Film-Noir|Horror|Mystery|Thriller 1\n",
      "Action|Adventure|Animation|Children|Sci-Fi 1\n",
      "Action|Fantasy|Horror|Sci-Fi|Thriller 1\n",
      "Adventure|Horror|Sci-Fi 1\n",
      "Action|Drama|War|Western 1\n",
      "Action|Crime|Mystery|Romance|Thriller 1\n",
      "Action|Crime|Drama|Horror|Thriller 1\n",
      "Comedy|Drama|Mystery|Thriller 1\n",
      "Comedy|Drama|Romance|Western 1\n",
      "Adventure|Documentary|IMAX 1\n",
      "Animation|Drama|Sci-Fi|IMAX 1\n",
      "Drama|Musical|Mystery 1\n",
      "Crime|Musical 1\n",
      "Action|Animation|Comedy|Crime|Drama|Romance|Thriller 1\n",
      "Comedy|Fantasy|Horror|Musical|Thriller 1\n",
      "Crime|Horror|Mystery 1\n",
      "Action|Adventure|Drama|Romance|Thriller 1\n",
      "Action|Adventure|Comedy|Drama 1\n",
      "Drama|Fantasy|Horror|Thriller|War 1\n",
      "Action|Adventure|Comedy|Drama|Romance|Thriller 1\n",
      "Mystery|Romance|Sci-Fi|Thriller 1\n",
      "Adventure|Crime|Drama|Thriller 1\n",
      "Drama|Fantasy|Mystery|Romance|Thriller 1\n",
      "Children|Horror|Mystery|Thriller 1\n",
      "Adventure|Animation|Children|Western 1\n",
      "Adventure|Children|Comedy|Fantasy|Mystery 1\n",
      "Adventure|Drama|Horror|Mystery|Thriller 1\n",
      "Children|Drama|Musical 1\n",
      "Comedy|Drama|Fantasy|Sci-Fi 1\n",
      "Action|Adventure|Fantasy|Romance 1\n",
      "Comedy|Crime|Romance|Thriller 1\n",
      "Adventure|War 1\n",
      "Comedy|Crime|Musical|Mystery 1\n",
      "Animation|Comedy|War 1\n",
      "Animation|Drama|War 1\n",
      "Action|Horror|Mystery|Sci-Fi 1\n",
      "Adventure|Animation|Children|Sci-Fi|IMAX 1\n",
      "Animation|Children|Drama|Fantasy 1\n",
      "Comedy|Crime|Drama|Musical 1\n",
      "Action|Adventure|Crime|Drama|Thriller 1\n",
      "Comedy|Documentary|Musical 1\n",
      "Comedy|War|Western 1\n",
      "Comedy|Crime|Drama|War 1\n",
      "Adventure|Comedy|Crime|Thriller 1\n",
      "Comedy|Romance|Sci-Fi|Thriller 1\n",
      "Children|Comedy|Crime|Musical 1\n",
      "Adventure|Comedy|Drama|Fantasy|Mystery|Sci-Fi|Thriller 1\n",
      "Action|Animation|Children|Fantasy 1\n",
      "Comedy|Mystery|Sci-Fi 1\n",
      "Adventure|Thriller|Western 1\n",
      "Action|Crime|Fantasy|Sci-Fi|Thriller 1\n",
      "Crime|Fantasy|Horror 1\n",
      "Action|Drama|Romance|Western 1\n",
      "Adventure|Animation|Drama|Fantasy|Sci-Fi 1\n",
      "Animation|Drama|Sci-Fi|War 1\n",
      "Adventure|Drama|Romance|Thriller|War 1\n",
      "Crime|Drama|Film-Noir|Romance|Thriller 1\n",
      "Action|Comedy|Crime|Drama|Horror|Thriller 1\n",
      "Action|Adventure|Children|Comedy|Crime 1\n",
      "Action|Adventure|Children|Comedy|Mystery 1\n",
      "Action|Drama|Horror 1\n",
      "Musical|Romance|Western 1\n",
      "Comedy|Crime|Drama|Musical|Mystery|Romance 1\n",
      "Adventure|Comedy|War 1\n",
      "Fantasy|Musical|Romance 1\n",
      "Crime|Horror|Sci-Fi 1\n",
      "Children|Comedy|Fantasy|Sci-Fi 1\n",
      "Action|Adventure|Animation|Comedy|Crime|Mystery 1\n",
      "Adventure|Animation|Children|Comedy|Musical|Romance 1\n",
      "Action|Crime|Horror|Mystery|Thriller 1\n",
      "Crime|Drama|Film-Noir|Romance 1\n",
      "Action|Adventure|Drama|Romance|Thriller|Western 1\n",
      "Adventure|Comedy|Fantasy|Musical 1\n",
      "Comedy|Drama|Fantasy|Mystery 1\n",
      "Comedy|Drama|Sci-Fi|War 1\n",
      "Adventure|Drama|Horror|Sci-Fi|Thriller 1\n",
      "Crime|Documentary|War 1\n",
      "Drama|Horror|War 1\n",
      "Action|Adventure|Comedy|Drama|Romance|War 1\n",
      "Adventure|Comedy|Horror|Romance 1\n",
      "Action|Adventure|Children|Crime|Mystery|Thriller 1\n",
      "Action|Fantasy|Horror|Romance 1\n",
      "Action|Animation|Crime|Drama|Film-Noir|Mystery|Sci-Fi|Thriller 1\n",
      "Action|Fantasy|Sci-Fi|Thriller|War 1\n",
      "Adventure|Animation|Comedy|Fantasy|Romance 1\n",
      "Adventure|Drama|Fantasy|Horror|Sci-Fi 1\n",
      "Drama|Fantasy|Horror|Mystery|Sci-Fi|Thriller 1\n",
      "Adventure|Animation|Children|Musical|Romance 1\n",
      "Action|Documentary|Drama|Thriller 1\n",
      "Action|Adventure|Comedy|Sci-Fi|Thriller 1\n",
      "Action|Adventure|Drama|Fantasy|Romance 1\n",
      "Action|Animation|Drama|Fantasy|Sci-Fi 1\n",
      "Drama|Horror|Mystery|Romance|Thriller 1\n",
      "Action|Comedy|Crime|Fantasy|Thriller 1\n",
      "Crime|Drama|Mystery|Thriller|War 1\n",
      "Action|Animation|Horror 1\n",
      "Comedy|Crime|Horror|Mystery|Thriller 1\n",
      "Comedy|Fantasy|Mystery|Sci-Fi 1\n",
      "Comedy|Crime|Drama|Sci-Fi|Thriller 1\n",
      "Action|Comedy|Horror|Musical 1\n",
      "Drama|Sci-Fi|War 1\n",
      "Action|Comedy|Horror|Sci-Fi|Thriller|Western 1\n",
      "Action|Comedy|Drama|War 1\n",
      "Drama|Mystery|Romance|War 1\n",
      "Action|Animation|Drama|Sci-Fi|Thriller 1\n",
      "Children|Comedy|Crime|Drama|Fantasy 1\n",
      "Action|Horror|Sci-Fi|War 1\n",
      "Action|Drama|Fantasy|Sci-Fi 1\n",
      "Comedy|Crime|Drama|Horror|Mystery 1\n",
      "Adventure|Children|Comedy|Fantasy|IMAX 1\n",
      "Animation|Fantasy|Sci-Fi|War 1\n",
      "Action|Animation|Fantasy|Sci-Fi 1\n",
      "Action|Adventure|Crime|Drama 1\n",
      "Action|Adventure|Comedy|Crime|Romance|Thriller 1\n",
      "Adventure|Animation|Fantasy|Romance 1\n",
      "Action|Fantasy|Horror|Mystery|Sci-Fi|Thriller 1\n",
      "Adventure|Comedy|Crime|Drama|Mystery|Thriller 1\n",
      "Comedy|Crime|Musical 1\n",
      "Adventure|Animation|Children|Comedy|Fantasy|Sci-Fi|IMAX 1\n",
      "Adventure|Comedy|Documentary 1\n",
      "Comedy|Crime|Drama|Western 1\n",
      "Animation|Fantasy|Sci-Fi|Thriller 1\n",
      "Action|Crime|Film-Noir|Mystery|Thriller 1\n",
      "Animation|Fantasy|Horror 1\n",
      "Children|Documentary 1\n",
      "Action|Crime|IMAX 1\n",
      "Adventure|Animation|Children|Comedy|Fantasy|War 1\n",
      "Action|Adventure|Horror|Mystery|Sci-Fi|Thriller 1\n",
      "Action|Crime|Drama|Thriller|War 1\n",
      "Fantasy|Mystery|Romance|Thriller 1\n",
      "Animation|Comedy|Fantasy|Musical|Romance 1\n",
      "Adventure|Children|Drama|Fantasy 1\n",
      "Action|Horror|Mystery|Thriller 1\n",
      "Adventure|Comedy|Fantasy|Horror 1\n",
      "Adventure|Drama|Horror|Thriller 1\n",
      "Adventure|Fantasy|Thriller|IMAX 1\n",
      "Crime|Drama|Thriller|War 1\n",
      "Action|Adventure|Comedy|Drama|Romance 1\n",
      "Animation|Drama|Romance|Sci-Fi 1\n",
      "Fantasy|Mystery|Western 1\n",
      "Action|Comedy|Crime|Western 1\n",
      "Action|Crime|Drama|Horror 1\n",
      "Action|Fantasy|Sci-Fi|Thriller 1\n",
      "Action|Drama|Fantasy|Horror|Mystery|Sci-Fi|Thriller 1\n",
      "Action|Animation|Children|Sci-Fi 1\n",
      "Comedy|Fantasy|Horror|Sci-Fi 1\n",
      "Crime|Drama|Film-Noir|Mystery 1\n",
      "Action|Animation|Film-Noir|Sci-Fi|Thriller 1\n",
      "Adventure|Comedy|Drama|Fantasy|Romance 1\n",
      "Children|Comedy|Drama|Musical|Romance 1\n",
      "Comedy|Documentary|Romance 1\n",
      "Animation|Children|Fantasy|Mystery 1\n",
      "Comedy|Fantasy|Mystery 1\n",
      "Action|Comedy|Fantasy|IMAX 1\n",
      "Adventure|Animation|Comedy|Fantasy|Romance|Sci-Fi 1\n",
      "Crime|Drama|Musical 1\n",
      "Adventure|Comedy|Sci-Fi|Thriller 1\n",
      "Documentary|Drama|War 1\n",
      "Crime|Western 1\n",
      "Action|Adventure|Crime|Drama|Thriller|War 1\n",
      "Children|Comedy|Drama|Fantasy 1\n",
      "Action|Comedy|Crime|Mystery 1\n",
      "Action|Comedy|Drama|Horror|Thriller 1\n",
      "Action|Fantasy|War|IMAX 1\n",
      "Comedy|Drama|Horror|Sci-Fi|Thriller 1\n",
      "Drama|Fantasy|Mystery|Thriller 1\n",
      "Action|Crime|Horror|Sci-Fi|Thriller 1\n",
      "Adventure|Drama|Sci-Fi|Thriller 1\n",
      "Action|Adventure|Animation|Comedy|Fantasy|Mystery|Sci-Fi 1\n",
      "Crime|Drama|Fantasy|Mystery|Thriller 1\n",
      "Animation|Mystery|Sci-Fi 1\n",
      "Action|Adventure|Crime|Horror|Thriller 1\n",
      "Adventure|Drama|Fantasy|IMAX 1\n",
      "Adventure|Comedy|Fantasy|Romance 1\n",
      "Action|Adventure|Fantasy|War 1\n",
      "Action|Crime|Drama|Western 1\n",
      "Action|Adventure|Comedy|Drama|Thriller 1\n",
      "Action|Adventure|Animation|Crime|Fantasy 1\n",
      "Action|Adventure|Animation|Fantasy|IMAX 1\n",
      "Comedy|Drama|Sci-Fi|Thriller 1\n",
      "Adventure|Animation|Children|Comedy|Fantasy|Musical|Romance 1\n",
      "Drama|Horror|Musical|Thriller 1\n",
      "Adventure|Animation|Drama|Horror 1\n",
      "Animation|Comedy|Drama|Romance|Sci-Fi 1\n",
      "Crime|Sci-Fi 1\n",
      "Adventure|Romance|Thriller 1\n",
      "Crime|Drama|War 1\n",
      "Documentary|Musical|IMAX 1\n",
      "Action|Children|Sci-Fi|IMAX 1\n",
      "Action|Animation|Children|Comedy|IMAX 1\n",
      "Comedy|Crime|Drama|Horror 1\n",
      "Adventure|Animation|Children|Romance|Sci-Fi 1\n",
      "Action|Adventure|Comedy|Crime|Fantasy 1\n",
      "Action|Animation|Comedy|Romance|Sci-Fi 1\n",
      "Children|Comedy|Drama|Mystery 1\n",
      "Animation|Children|Comedy|Fantasy|Musical 1\n",
      "Action|Adventure|Horror|Sci-Fi|Thriller 1\n",
      "Adventure|Children|Comedy|Romance|Sci-Fi 1\n",
      "Action|Comedy|Fantasy|Horror|Thriller 1\n",
      "Action|Drama|Mystery|Sci-Fi|Thriller|IMAX 1\n",
      "Adventure|Fantasy|Thriller 1\n",
      "Adventure|Comedy|Drama|Romance 1\n",
      "Animation|Documentary|Drama|War 1\n",
      "Action|Comedy|Fantasy|Thriller 1\n",
      "Animation|Comedy|Fantasy|Sci-Fi 1\n",
      "Action|Adventure|Animation|Comedy|Fantasy|Sci-Fi 1\n",
      "Children|Fantasy|Musical|Romance 1\n",
      "Drama|Fantasy|Romance|Thriller 1\n",
      "Adventure|Animation|Comedy|Fantasy 1\n",
      "Drama|Sci-Fi|Thriller|IMAX 1\n",
      "Adventure|Comedy|Mystery 1\n",
      "Comedy|Drama|Musical|Sci-Fi 1\n",
      "Comedy|Crime|Horror|Thriller 1\n",
      "Animation|Sci-Fi|IMAX 1\n",
      "Drama|Fantasy|Sci-Fi|Thriller 1\n",
      "Action|Comedy|IMAX 1\n",
      "Adventure|Fantasy|Musical|Romance 1\n",
      "Action|Animation|Mystery|Sci-Fi 1\n",
      "Action|Adventure|Animation|Drama 1\n",
      "Action|Adventure|Comedy|Horror 1\n",
      "Action|Adventure|Animation|Children|Comedy|Romance 1\n",
      "Action|Adventure|Animation|Horror 1\n",
      "Adventure|Fantasy|Mystery|Romance|IMAX 1\n",
      "Adventure|Children|Fantasy|Sci-Fi|Thriller 1\n",
      "Comedy|Documentary|Drama|Romance 1\n",
      "Animation|Children|Fantasy|IMAX 1\n",
      "Action|Animation|Comedy|Horror|Thriller 1\n",
      "Action|Adventure|Drama|Fantasy|Romance|Sci-Fi|Thriller 1\n",
      "Action|Comedy|Drama|Romance 1\n",
      "Adventure|Animation|Children|Comedy|Crime 1\n",
      "Animation|Children|Drama|Fantasy|IMAX 1\n",
      "Drama|Fantasy|Horror|Romance|Thriller 1\n",
      "Action|Adventure|Animation|Comedy|Thriller 1\n",
      "Crime|Drama|Fantasy|Horror|Thriller 1\n",
      "Children|Drama|Romance 1\n",
      "Horror|Thriller|Western 1\n",
      "Comedy|Musical|Sci-Fi|Western 1\n",
      "Action|Adventure|Fantasy|Romance|IMAX 1\n",
      "Fantasy|Romance|Thriller|IMAX 1\n",
      "Action|Crime|Drama|Mystery|Sci-Fi|Thriller|IMAX 1\n",
      "Action|Children|Drama 1\n",
      "Action|Comedy|Fantasy|Musical|Romance 1\n",
      "Documentary|Drama|Mystery 1\n",
      "Adventure|Animation|Fantasy|IMAX 1\n",
      "Documentary|Mystery 1\n",
      "Action|Adventure|Comedy|Crime|Drama|Film-Noir|Horror|Mystery|Thriller|Western 1\n",
      "Action|Animation|Children|Comedy|Sci-Fi|IMAX 1\n",
      "Animation|Children|Comedy|Fantasy|Musical|Romance|IMAX 1\n",
      "Crime|Romance 1\n",
      "Adventure|Documentary|Western 1\n",
      "Action|Comedy|Crime|Fantasy|Thriller|IMAX 1\n",
      "Action|Fantasy|Western 1\n",
      "Action|Sci-Fi|Thriller|Western|IMAX 1\n",
      "Action|Adventure|Animation|Children|Comedy|Western 1\n",
      "Action|Adventure|Animation|Children|Comedy|Sci-Fi|IMAX 1\n",
      "Action|Fantasy|Thriller|IMAX 1\n",
      "Animation|Children|Comedy|Horror 1\n",
      "Action|Adventure|Drama|Fantasy|IMAX 1\n",
      "Action|Crime|Drama|Thriller|IMAX 1\n",
      "Drama|Mystery|War 1\n",
      "Mystery|Sci-Fi|Thriller|IMAX 1\n",
      "Action|Adventure|Sci-Fi|War|IMAX 1\n",
      "Action|Adventure|Drama|Fantasy|Mystery|IMAX 1\n",
      "Horror|Thriller|IMAX 1\n",
      "Sci-Fi|Thriller|IMAX 1\n",
      "Crime|Sci-Fi|Thriller 1\n",
      "Action|Drama|Mystery|Thriller 1\n",
      "Adventure|Animation|Comedy|Fantasy|IMAX 1\n",
      "Action|Animation|Mystery|IMAX 1\n",
      "Children|Drama|Mystery 1\n",
      "Animation|Children|Comedy|Drama 1\n",
      "Action|Crime|Film-Noir 1\n",
      "Action|Adventure|Crime|IMAX 1\n",
      "Action|Adventure|Drama|Thriller|IMAX 1\n",
      "Action|Adventure|Comedy|Crime|Mystery|Thriller 1\n",
      "Crime|Drama|Fantasy 1\n",
      "Action|Adventure|Comedy|Sci-Fi|IMAX 1\n",
      "Action|Adventure|Horror 1\n",
      "Crime|Thriller|Western 1\n",
      "Animation|Fantasy|Musical|IMAX 1\n",
      "Comedy|Horror|IMAX 1\n",
      "Action|Comedy|Sci-Fi|IMAX 1\n",
      "Action|Adventure|Animation|Sci-Fi|Thriller 1\n",
      "Comedy|Drama|Musical|IMAX 1\n",
      "Children|Musical|Mystery 1\n",
      "Drama|Fantasy|Musical|Mystery|Sci-Fi 1\n",
      "Animation|Comedy|Horror|IMAX 1\n",
      "Action|Adventure|Comedy|Documentary|Fantasy 1\n",
      "Children|Crime|Drama 1\n",
      "Adventure|Drama|Fantasy|Romance|IMAX 1\n",
      "Animation|Comedy|Romance 1\n",
      "Drama|Musical|Romance|IMAX 1\n",
      "Adventure|Comedy|Fantasy|Romance|IMAX 1\n",
      "Animation|Comedy|Horror|Musical 1\n",
      "Children|Horror|Sci-Fi 1\n",
      "Action|Drama|IMAX 1\n",
      "Documentary|Fantasy 1\n",
      "Action|Drama|Horror|IMAX 1\n",
      "Action|Adventure|Western|IMAX 1\n",
      "Drama|Fantasy|Thriller|War 1\n",
      "Action|IMAX 1\n",
      "Adventure|Comedy|Musical|Sci-Fi 1\n",
      "Adventure|Drama|Thriller|IMAX 1\n",
      "Children|Drama|War 1\n",
      "Adventure|Animation|Comedy|Fantasy|Musical|Romance 1\n",
      "Action|Animation|Drama 1\n",
      "Drama|Horror|Romance 1\n",
      "Action|Animation|Fantasy|IMAX 1\n",
      "Adventure|Romance|Sci-Fi|IMAX 1\n",
      "Adventure|Animation|Children|Comedy|Drama|Romance 1\n",
      "Action|Fantasy|Sci-Fi|IMAX 1\n",
      "Action|Crime|Sci-Fi|IMAX 1\n",
      "Animation|Comedy|Drama|Romance 1\n",
      "Sci-Fi|IMAX 1\n",
      "Action|Animation|Children|Comedy|Musical 1\n",
      "Action|Adventure|Children|IMAX 1\n",
      "Action|Animation|Children 1\n",
      "Animation|Drama|Fantasy|Mystery 1\n",
      "Action|Animation|Crime|Thriller 1\n",
      "Documentary|Drama|Musical 1\n",
      "Adventure|Animation|Romance 1\n",
      "Animation|Children|Comedy|Musical|Sci-Fi 1\n",
      "Action|Adventure|Comedy|Drama|Fantasy|Thriller 1\n",
      "Documentary|Drama|Thriller 1\n",
      "Adventure|Mystery|Thriller 1\n",
      "Horror|Romance|Thriller 1\n",
      "Animation|Children|Mystery 1\n",
      "Comedy|Drama|Fantasy|Mystery|Romance 1\n",
      "Crime|Drama|Horror|Mystery 1\n",
      "Adventure|Romance|Sci-Fi 1\n",
      "Horror|Sci-Fi|Western 1\n",
      "Action|Adventure|Children|Comedy|Sci-Fi 1\n",
      "Action|Adventure|Animation|Comedy|Sci-Fi 1\n",
      "Horror|Romance|Sci-Fi 1\n",
      "Action|Adventure|Children|Mystery|Sci-Fi 1\n",
      "Comedy|Crime|Sci-Fi 1\n",
      "Action|Comedy|Fantasy|Sci-Fi 1\n",
      "Adventure|Animation|Children|Comedy|Drama|Fantasy 1\n",
      "Adventure|Children|Comedy|Sci-Fi 1\n",
      "Action|Animation|Crime|Sci-Fi 1\n",
      "Action|Adventure|Romance|Sci-Fi 1\n",
      "Action|Crime|Drama|Sci-Fi 1\n",
      "Animation|Children|Comedy|Drama|Romance 1\n",
      "Action|Fantasy|Mystery 1\n",
      "Comedy|Horror|Mystery 1\n",
      "Comedy|Crime|Fantasy 1\n",
      "Animation|Horror|Mystery 1\n",
      "Comedy|Romance|Western 1\n",
      "Adventure|Drama|Fantasy|Sci-Fi 1\n",
      "Adventure|Children|Comedy|Drama|Fantasy|Sci-Fi 1\n",
      "Animation|Fantasy|Horror|Mystery 1\n",
      "Adventure|Animation|Fantasy|Horror|Sci-Fi 1\n",
      "Action|Animation|Crime|Drama 1\n",
      "Action|Adventure|Animation|Drama|Fantasy|Sci-Fi 1\n",
      "Action|Animation|Mystery 1\n",
      "Animation|Drama|Sci-Fi 1\n",
      "Animation|Drama|Fantasy|Romance 1\n",
      "Action|Adventure|Comedy|Fantasy|Sci-Fi|Thriller 1\n",
      "Action|Adventure|Fantasy|Horror|Thriller 1\n",
      "Comedy|Sci-Fi|War 1\n",
      "Comedy|Mystery|Romance|Thriller 1\n",
      "Fantasy|Horror|Sci-Fi|Western 1\n",
      "Animation|Crime|Drama 1\n",
      "Adventure|Mystery|Sci-Fi|Thriller 1\n",
      "Action|Comedy|Crime|Horror 1\n",
      "Action|Adventure|Children|Sci-Fi 1\n",
      "Action|Adventure|Comedy|Fantasy|Sci-Fi 1\n",
      "Action|Animation|Comedy|Fantasy 1\n",
      "462\n"
     ]
    }
   ],
   "source": [
    "only_one = []\n",
    "for genre in count_genres:\n",
    "    if count_genres[genre] == 1:\n",
    "        print(genre, count_genres[genre])\n",
    "        only_one.append(genre)\n",
    "print(len(only_one))"
   ]
  },
  {
   "cell_type": "markdown",
   "metadata": {},
   "source": [
    "Let's look into the most common genres and find the top tend genre combinations (that is, the genre with the most amount of movies listed as this genre)."
   ]
  },
  {
   "cell_type": "code",
   "execution_count": 68,
   "metadata": {},
   "outputs": [
    {
     "name": "stdout",
     "output_type": "stream",
     "text": [
      "Comedy|Romance 363\n",
      "Comedy|Drama|Romance 276\n",
      "Comedy 946\n",
      "Drama 1052\n",
      "Crime|Drama 134\n",
      "Drama|Romance 349\n",
      "Drama|War 114\n",
      "Drama|Thriller 168\n",
      "Comedy|Crime 101\n",
      "Comedy|Drama 435\n",
      "Documentary 339\n",
      "Crime|Drama|Thriller 125\n",
      "Horror 167\n",
      "Horror|Thriller 135\n",
      "14\n"
     ]
    }
   ],
   "source": [
    "popular_genre = []\n",
    "for genre in count_genres:\n",
    "    if count_genres[genre] > 100:\n",
    "        print(genre, count_genres[genre])\n",
    "        popular_genre.append(genre)\n",
    "print(len(popular_genre))"
   ]
  },
  {
   "cell_type": "code",
   "execution_count": 69,
   "metadata": {},
   "outputs": [],
   "source": [
    "sorted_pop_genres = sorted(lots_of_genre, key=lambda x:x[1], reverse=True)"
   ]
  },
  {
   "cell_type": "code",
   "execution_count": 70,
   "metadata": {},
   "outputs": [
    {
     "data": {
      "text/plain": [
       "['Drama',\n",
       " 'Crime|Drama',\n",
       " 'Drama|Romance',\n",
       " 'Drama|War',\n",
       " 'Drama|Thriller',\n",
       " 'Crime|Drama|Thriller',\n",
       " 'Comedy|Romance',\n",
       " 'Comedy|Drama|Romance',\n",
       " 'Comedy',\n",
       " 'Comedy|Crime']"
      ]
     },
     "execution_count": 70,
     "metadata": {},
     "output_type": "execute_result"
    }
   ],
   "source": [
    "sorted_pop_genres[:10]"
   ]
  },
  {
   "cell_type": "markdown",
   "metadata": {},
   "source": [
    "From this list, we can see that there's pretty much 3 genres that the top movies boil down to:\n",
    "- Drama\n",
    "- Crime/Thriller\n",
    "- Comedy "
   ]
  },
  {
   "cell_type": "markdown",
   "metadata": {},
   "source": [
    "We'll need to make sure we're filtering by unique combinations and maybe we can extract the single-use genre combinations and get rid of their unique extra genre?"
   ]
  },
  {
   "cell_type": "markdown",
   "metadata": {},
   "source": [
    "I'll think more on this later how to deal with this when I get to using this df in models..."
   ]
  },
  {
   "cell_type": "markdown",
   "metadata": {},
   "source": [
    "For now, I'll read out the df I have that dropped those duplicate rows:"
   ]
  },
  {
   "cell_type": "code",
   "execution_count": 197,
   "metadata": {},
   "outputs": [],
   "source": [
    "movies_dropped = movies.to_csv(parent_dir + 'data/mod_movies_lc')"
   ]
  },
  {
   "cell_type": "markdown",
   "metadata": {},
   "source": [
    "### Ratings df:"
   ]
  },
  {
   "cell_type": "code",
   "execution_count": 71,
   "metadata": {},
   "outputs": [
    {
     "data": {
      "text/html": [
       "<div>\n",
       "<style scoped>\n",
       "    .dataframe tbody tr th:only-of-type {\n",
       "        vertical-align: middle;\n",
       "    }\n",
       "\n",
       "    .dataframe tbody tr th {\n",
       "        vertical-align: top;\n",
       "    }\n",
       "\n",
       "    .dataframe thead th {\n",
       "        text-align: right;\n",
       "    }\n",
       "</style>\n",
       "<table border=\"1\" class=\"dataframe\">\n",
       "  <thead>\n",
       "    <tr style=\"text-align: right;\">\n",
       "      <th></th>\n",
       "      <th>userId</th>\n",
       "      <th>movieId</th>\n",
       "      <th>rating</th>\n",
       "      <th>timestamp</th>\n",
       "    </tr>\n",
       "  </thead>\n",
       "  <tbody>\n",
       "    <tr>\n",
       "      <td>0</td>\n",
       "      <td>1</td>\n",
       "      <td>1</td>\n",
       "      <td>4.0</td>\n",
       "      <td>964982703</td>\n",
       "    </tr>\n",
       "    <tr>\n",
       "      <td>1</td>\n",
       "      <td>1</td>\n",
       "      <td>3</td>\n",
       "      <td>4.0</td>\n",
       "      <td>964981247</td>\n",
       "    </tr>\n",
       "    <tr>\n",
       "      <td>2</td>\n",
       "      <td>1</td>\n",
       "      <td>6</td>\n",
       "      <td>4.0</td>\n",
       "      <td>964982224</td>\n",
       "    </tr>\n",
       "    <tr>\n",
       "      <td>3</td>\n",
       "      <td>1</td>\n",
       "      <td>47</td>\n",
       "      <td>5.0</td>\n",
       "      <td>964983815</td>\n",
       "    </tr>\n",
       "    <tr>\n",
       "      <td>4</td>\n",
       "      <td>1</td>\n",
       "      <td>50</td>\n",
       "      <td>5.0</td>\n",
       "      <td>964982931</td>\n",
       "    </tr>\n",
       "  </tbody>\n",
       "</table>\n",
       "</div>"
      ],
      "text/plain": [
       "   userId  movieId  rating  timestamp\n",
       "0       1        1     4.0  964982703\n",
       "1       1        3     4.0  964981247\n",
       "2       1        6     4.0  964982224\n",
       "3       1       47     5.0  964983815\n",
       "4       1       50     5.0  964982931"
      ]
     },
     "execution_count": 71,
     "metadata": {},
     "output_type": "execute_result"
    }
   ],
   "source": [
    "ratings = pd.read_csv(parent_dir + 'data/ratings.csv')\n",
    "ratings.head()"
   ]
  },
  {
   "cell_type": "markdown",
   "metadata": {},
   "source": [
    "Check how many unique movies we have (should maybe make sure the same double up from the movie df isn't occuring here and make sure we haven't dropped those movies)."
   ]
  },
  {
   "cell_type": "code",
   "execution_count": 85,
   "metadata": {},
   "outputs": [
    {
     "data": {
      "text/plain": [
       "9724"
      ]
     },
     "execution_count": 85,
     "metadata": {},
     "output_type": "execute_result"
    }
   ],
   "source": [
    "len(ratings.movieId.unique())"
   ]
  },
  {
   "cell_type": "markdown",
   "metadata": {},
   "source": [
    "Check how many unique ratings we have to make sure we don't have any weird values"
   ]
  },
  {
   "cell_type": "code",
   "execution_count": 83,
   "metadata": {},
   "outputs": [
    {
     "data": {
      "text/plain": [
       "10"
      ]
     },
     "execution_count": 83,
     "metadata": {},
     "output_type": "execute_result"
    }
   ],
   "source": [
    "len(ratings.rating.unique())"
   ]
  },
  {
   "cell_type": "code",
   "execution_count": 84,
   "metadata": {},
   "outputs": [
    {
     "data": {
      "text/plain": [
       "array([4. , 5. , 3. , 2. , 1. , 4.5, 3.5, 2.5, 0.5, 1.5])"
      ]
     },
     "execution_count": 84,
     "metadata": {},
     "output_type": "execute_result"
    }
   ],
   "source": [
    "ratings.rating.unique()"
   ]
  },
  {
   "cell_type": "markdown",
   "metadata": {},
   "source": [
    "All these numbers are as expected."
   ]
  },
  {
   "cell_type": "code",
   "execution_count": 72,
   "metadata": {},
   "outputs": [
    {
     "name": "stdout",
     "output_type": "stream",
     "text": [
      "<class 'pandas.core.frame.DataFrame'>\n",
      "RangeIndex: 100836 entries, 0 to 100835\n",
      "Data columns (total 4 columns):\n",
      "userId       100836 non-null int64\n",
      "movieId      100836 non-null int64\n",
      "rating       100836 non-null float64\n",
      "timestamp    100836 non-null int64\n",
      "dtypes: float64(1), int64(3)\n",
      "memory usage: 3.1 MB\n"
     ]
    }
   ],
   "source": [
    "ratings.info()"
   ]
  },
  {
   "cell_type": "markdown",
   "metadata": {},
   "source": [
    "While I won't use the timestamp column for modelling (this will be dropped), I do want to see if there's anything going on with timeseries for this column:"
   ]
  },
  {
   "cell_type": "code",
   "execution_count": 76,
   "metadata": {},
   "outputs": [],
   "source": [
    "ratings['timestamp'] = pd.to_datetime(ratings['timestamp'])\n",
    "ratings.set_index('timestamp', inplace=True)"
   ]
  },
  {
   "cell_type": "code",
   "execution_count": 87,
   "metadata": {},
   "outputs": [
    {
     "data": {
      "image/png": "[encoded data removed]",
      "text/plain": [
       "<Figure size 1008x288 with 1 Axes>"
      ]
     },
     "metadata": {
      "needs_background": "light"
     },
     "output_type": "display_data"
    }
   ],
   "source": [
    "ratings.plot(figsize = (14,4))\n",
    "plt.show();"
   ]
  },
  {
   "cell_type": "markdown",
   "metadata": {},
   "source": [
    "The time axis is meaningless here..."
   ]
  },
  {
   "cell_type": "code",
   "execution_count": 80,
   "metadata": {},
   "outputs": [
    {
     "data": {
      "text/html": [
       "<div>\n",
       "<style scoped>\n",
       "    .dataframe tbody tr th:only-of-type {\n",
       "        vertical-align: middle;\n",
       "    }\n",
       "\n",
       "    .dataframe tbody tr th {\n",
       "        vertical-align: top;\n",
       "    }\n",
       "\n",
       "    .dataframe thead th {\n",
       "        text-align: right;\n",
       "    }\n",
       "</style>\n",
       "<table border=\"1\" class=\"dataframe\">\n",
       "  <thead>\n",
       "    <tr style=\"text-align: right;\">\n",
       "      <th></th>\n",
       "      <th>userId</th>\n",
       "      <th>movieId</th>\n",
       "      <th>rating</th>\n",
       "    </tr>\n",
       "    <tr>\n",
       "      <th>timestamp</th>\n",
       "      <th></th>\n",
       "      <th></th>\n",
       "      <th></th>\n",
       "    </tr>\n",
       "  </thead>\n",
       "  <tbody>\n",
       "    <tr>\n",
       "      <td>1970-01-01 00:00:00.964982703</td>\n",
       "      <td>1</td>\n",
       "      <td>1</td>\n",
       "      <td>4.0</td>\n",
       "    </tr>\n",
       "    <tr>\n",
       "      <td>1970-01-01 00:00:00.964981247</td>\n",
       "      <td>1</td>\n",
       "      <td>3</td>\n",
       "      <td>4.0</td>\n",
       "    </tr>\n",
       "    <tr>\n",
       "      <td>1970-01-01 00:00:00.964982224</td>\n",
       "      <td>1</td>\n",
       "      <td>6</td>\n",
       "      <td>4.0</td>\n",
       "    </tr>\n",
       "    <tr>\n",
       "      <td>1970-01-01 00:00:00.964983815</td>\n",
       "      <td>1</td>\n",
       "      <td>47</td>\n",
       "      <td>5.0</td>\n",
       "    </tr>\n",
       "    <tr>\n",
       "      <td>1970-01-01 00:00:00.964982931</td>\n",
       "      <td>1</td>\n",
       "      <td>50</td>\n",
       "      <td>5.0</td>\n",
       "    </tr>\n",
       "  </tbody>\n",
       "</table>\n",
       "</div>"
      ],
      "text/plain": [
       "                               userId  movieId  rating\n",
       "timestamp                                             \n",
       "1970-01-01 00:00:00.964982703       1        1     4.0\n",
       "1970-01-01 00:00:00.964981247       1        3     4.0\n",
       "1970-01-01 00:00:00.964982224       1        6     4.0\n",
       "1970-01-01 00:00:00.964983815       1       47     5.0\n",
       "1970-01-01 00:00:00.964982931       1       50     5.0"
      ]
     },
     "execution_count": 80,
     "metadata": {},
     "output_type": "execute_result"
    }
   ],
   "source": [
    "ratings.head()"
   ]
  },
  {
   "cell_type": "code",
   "execution_count": 97,
   "metadata": {},
   "outputs": [],
   "source": [
    "ratings_month_df = ratings.resample('Y').mean()"
   ]
  },
  {
   "cell_type": "code",
   "execution_count": 98,
   "metadata": {},
   "outputs": [
    {
     "data": {
      "text/html": [
       "<div>\n",
       "<style scoped>\n",
       "    .dataframe tbody tr th:only-of-type {\n",
       "        vertical-align: middle;\n",
       "    }\n",
       "\n",
       "    .dataframe tbody tr th {\n",
       "        vertical-align: top;\n",
       "    }\n",
       "\n",
       "    .dataframe thead th {\n",
       "        text-align: right;\n",
       "    }\n",
       "</style>\n",
       "<table border=\"1\" class=\"dataframe\">\n",
       "  <thead>\n",
       "    <tr style=\"text-align: right;\">\n",
       "      <th></th>\n",
       "      <th>userId</th>\n",
       "      <th>movieId</th>\n",
       "      <th>rating</th>\n",
       "    </tr>\n",
       "    <tr>\n",
       "      <th>timestamp</th>\n",
       "      <th></th>\n",
       "      <th></th>\n",
       "      <th></th>\n",
       "    </tr>\n",
       "  </thead>\n",
       "  <tbody>\n",
       "    <tr>\n",
       "      <td>1970-12-31</td>\n",
       "      <td>326.127564</td>\n",
       "      <td>19435.295718</td>\n",
       "      <td>3.501557</td>\n",
       "    </tr>\n",
       "  </tbody>\n",
       "</table>\n",
       "</div>"
      ],
      "text/plain": [
       "                userId       movieId    rating\n",
       "timestamp                                     \n",
       "1970-12-31  326.127564  19435.295718  3.501557"
      ]
     },
     "execution_count": 98,
     "metadata": {},
     "output_type": "execute_result"
    }
   ],
   "source": [
    "ratings_month_df.head()"
   ]
  },
  {
   "cell_type": "markdown",
   "metadata": {},
   "source": [
    "Feeling like this is a little meaningless... let's go back to the normal dataframe... will just read it in again."
   ]
  },
  {
   "cell_type": "code",
   "execution_count": 100,
   "metadata": {},
   "outputs": [
    {
     "data": {
      "text/html": [
       "<div>\n",
       "<style scoped>\n",
       "    .dataframe tbody tr th:only-of-type {\n",
       "        vertical-align: middle;\n",
       "    }\n",
       "\n",
       "    .dataframe tbody tr th {\n",
       "        vertical-align: top;\n",
       "    }\n",
       "\n",
       "    .dataframe thead th {\n",
       "        text-align: right;\n",
       "    }\n",
       "</style>\n",
       "<table border=\"1\" class=\"dataframe\">\n",
       "  <thead>\n",
       "    <tr style=\"text-align: right;\">\n",
       "      <th></th>\n",
       "      <th>userId</th>\n",
       "      <th>movieId</th>\n",
       "      <th>rating</th>\n",
       "      <th>timestamp</th>\n",
       "    </tr>\n",
       "  </thead>\n",
       "  <tbody>\n",
       "    <tr>\n",
       "      <td>0</td>\n",
       "      <td>1</td>\n",
       "      <td>1</td>\n",
       "      <td>4.0</td>\n",
       "      <td>964982703</td>\n",
       "    </tr>\n",
       "    <tr>\n",
       "      <td>1</td>\n",
       "      <td>1</td>\n",
       "      <td>3</td>\n",
       "      <td>4.0</td>\n",
       "      <td>964981247</td>\n",
       "    </tr>\n",
       "    <tr>\n",
       "      <td>2</td>\n",
       "      <td>1</td>\n",
       "      <td>6</td>\n",
       "      <td>4.0</td>\n",
       "      <td>964982224</td>\n",
       "    </tr>\n",
       "    <tr>\n",
       "      <td>3</td>\n",
       "      <td>1</td>\n",
       "      <td>47</td>\n",
       "      <td>5.0</td>\n",
       "      <td>964983815</td>\n",
       "    </tr>\n",
       "    <tr>\n",
       "      <td>4</td>\n",
       "      <td>1</td>\n",
       "      <td>50</td>\n",
       "      <td>5.0</td>\n",
       "      <td>964982931</td>\n",
       "    </tr>\n",
       "  </tbody>\n",
       "</table>\n",
       "</div>"
      ],
      "text/plain": [
       "   userId  movieId  rating  timestamp\n",
       "0       1        1     4.0  964982703\n",
       "1       1        3     4.0  964981247\n",
       "2       1        6     4.0  964982224\n",
       "3       1       47     5.0  964983815\n",
       "4       1       50     5.0  964982931"
      ]
     },
     "execution_count": 100,
     "metadata": {},
     "output_type": "execute_result"
    }
   ],
   "source": [
    "ratings = pd.read_csv(parent_dir + 'data/ratings.csv')\n",
    "ratings.head()"
   ]
  },
  {
   "cell_type": "markdown",
   "metadata": {},
   "source": [
    "How many users do we have in this dataset?"
   ]
  },
  {
   "cell_type": "code",
   "execution_count": 102,
   "metadata": {},
   "outputs": [
    {
     "data": {
      "text/plain": [
       "610"
      ]
     },
     "execution_count": 102,
     "metadata": {},
     "output_type": "execute_result"
    }
   ],
   "source": [
    "len(ratings.userId.unique())"
   ]
  },
  {
   "cell_type": "markdown",
   "metadata": {},
   "source": [
    "What's the average rating?"
   ]
  },
  {
   "cell_type": "code",
   "execution_count": 103,
   "metadata": {},
   "outputs": [
    {
     "data": {
      "text/plain": [
       "3.501556983616962"
      ]
     },
     "execution_count": 103,
     "metadata": {},
     "output_type": "execute_result"
    }
   ],
   "source": [
    "ratings.rating.mean()"
   ]
  },
  {
   "cell_type": "markdown",
   "metadata": {},
   "source": [
    "So a just higher than average rating. \n",
    "\n",
    "Let's look into the distribution of the ratings:"
   ]
  },
  {
   "cell_type": "code",
   "execution_count": 104,
   "metadata": {},
   "outputs": [
    {
     "data": {
      "text/plain": [
       "{4.0: 26818,\n",
       " 5.0: 13211,\n",
       " 3.0: 20047,\n",
       " 2.0: 7551,\n",
       " 1.0: 2811,\n",
       " 4.5: 8551,\n",
       " 3.5: 13136,\n",
       " 2.5: 5550,\n",
       " 0.5: 1370,\n",
       " 1.5: 1791}"
      ]
     },
     "execution_count": 104,
     "metadata": {},
     "output_type": "execute_result"
    }
   ],
   "source": [
    "count_ratings = {}\n",
    "for rating in ratings['rating']:\n",
    "    count_ratings[rating] = count_ratings.get(rating, 0) + 1\n",
    "count_ratings"
   ]
  },
  {
   "cell_type": "markdown",
   "metadata": {},
   "source": [
    "Plot this:"
   ]
  },
  {
   "cell_type": "code",
   "execution_count": 186,
   "metadata": {},
   "outputs": [],
   "source": [
    "plt.rcParams['axes.labelsize'] = 20\n",
    "plt.rcParams['axes.titlesize'] = 25\n",
    "plt.rcParams['xtick.labelsize'] = 15\n",
    "plt.rcParams['ytick.labelsize'] = 15\n",
    "plt.rcParams['axes.edgecolor'] = 'black'\n",
    "plt.rcParams['axes.facecolor'] = 'white' # or EAEAF2"
   ]
  },
  {
   "cell_type": "code",
   "execution_count": 187,
   "metadata": {},
   "outputs": [
    {
     "data": {
      "image/png": "[encoded data removed]",
      "text/plain": [
       "<Figure size 720x576 with 1 Axes>"
      ]
     },
     "metadata": {},
     "output_type": "display_data"
    }
   ],
   "source": [
    "plt.subplots(figsize = (10, 8))\n",
    "plt.bar(count_ratings.keys(), count_ratings.values())\n",
    "plt.title('Distribution of Ratings')\n",
    "plt.xlabel('Rating')\n",
    "plt.ylabel('Num. of Ratings')\n",
    "plt.show();"
   ]
  },
  {
   "cell_type": "markdown",
   "metadata": {},
   "source": [
    "We can see from this bar graph that the ratings data is left skewed and that there aren't as many ratings below 3 in this dataset.  Perhaps this says something about the motivation for people to rate movies - perhaps people don't bother if the movie is shit..."
   ]
  },
  {
   "cell_type": "code",
   "execution_count": 132,
   "metadata": {
    "collapsed": true,
    "jupyter": {
     "outputs_hidden": true
    }
   },
   "outputs": [
    {
     "name": "stderr",
     "output_type": "stream",
     "text": [
      "/opt/anaconda3/envs/learn-env/lib/python3.6/site-packages/IPython/lib/pretty.py:697: MatplotlibDeprecationWarning: \n",
      "The examples.directory rcparam was deprecated in Matplotlib 3.0 and will be removed in 3.2. In the future, examples will be found relative to the 'datapath' directory.\n",
      "  output = repr(obj)\n"
     ]
    },
    {
     "data": {
      "text/plain": [
       "RcParams({'_internal.classic_mode': False,\n",
       "          'agg.path.chunksize': 0,\n",
       "          'animation.avconv_args': [],\n",
       "          'animation.avconv_path': 'avconv',\n",
       "          'animation.bitrate': -1,\n",
       "          'animation.codec': 'h264',\n",
       "          'animation.convert_args': [],\n",
       "          'animation.convert_path': 'convert',\n",
       "          'animation.embed_limit': 20.0,\n",
       "          'animation.ffmpeg_args': [],\n",
       "          'animation.ffmpeg_path': 'ffmpeg',\n",
       "          'animation.frame_format': 'png',\n",
       "          'animation.html': 'none',\n",
       "          'animation.html_args': [],\n",
       "          'animation.writer': 'ffmpeg',\n",
       "          'axes.autolimit_mode': 'data',\n",
       "          'axes.axisbelow': True,\n",
       "          'axes.edgecolor': 'white',\n",
       "          'axes.facecolor': '#EAEAF2',\n",
       "          'axes.formatter.limits': [-7, 7],\n",
       "          'axes.formatter.min_exponent': 0,\n",
       "          'axes.formatter.offset_threshold': 4,\n",
       "          'axes.formatter.use_locale': False,\n",
       "          'axes.formatter.use_mathtext': False,\n",
       "          'axes.formatter.useoffset': True,\n",
       "          'axes.grid': True,\n",
       "          'axes.grid.axis': 'both',\n",
       "          'axes.grid.which': 'major',\n",
       "          'axes.labelcolor': '.15',\n",
       "          'axes.labelpad': 4.0,\n",
       "          'axes.labelsize': 'medium',\n",
       "          'axes.labelweight': 'normal',\n",
       "          'axes.linewidth': 0.8,\n",
       "          'axes.prop_cycle': cycler('color', ['#8dd3c7', '#feffb3', '#bfbbd9', '#fa8174', '#81b1d2', '#fdb462', '#b3de69', '#bc82bd', '#ccebc4', '#ffed6f']),\n",
       "          'axes.spines.bottom': True,\n",
       "          'axes.spines.left': True,\n",
       "          'axes.spines.right': True,\n",
       "          'axes.spines.top': True,\n",
       "          'axes.titlepad': 6.0,\n",
       "          'axes.titlesize': 'large',\n",
       "          'axes.titleweight': 'normal',\n",
       "          'axes.unicode_minus': True,\n",
       "          'axes.xmargin': 0.05,\n",
       "          'axes.ymargin': 0.05,\n",
       "          'axes3d.grid': True,\n",
       "          'backend': 'module://ipykernel.pylab.backend_inline',\n",
       "          'backend_fallback': True,\n",
       "          'boxplot.bootstrap': None,\n",
       "          'boxplot.boxprops.color': 'black',\n",
       "          'boxplot.boxprops.linestyle': '-',\n",
       "          'boxplot.boxprops.linewidth': 1.0,\n",
       "          'boxplot.capprops.color': 'black',\n",
       "          'boxplot.capprops.linestyle': '-',\n",
       "          'boxplot.capprops.linewidth': 1.0,\n",
       "          'boxplot.flierprops.color': 'black',\n",
       "          'boxplot.flierprops.linestyle': 'none',\n",
       "          'boxplot.flierprops.linewidth': 1.0,\n",
       "          'boxplot.flierprops.marker': 'o',\n",
       "          'boxplot.flierprops.markeredgecolor': 'black',\n",
       "          'boxplot.flierprops.markeredgewidth': 1.0,\n",
       "          'boxplot.flierprops.markerfacecolor': 'none',\n",
       "          'boxplot.flierprops.markersize': 6.0,\n",
       "          'boxplot.meanline': False,\n",
       "          'boxplot.meanprops.color': 'C2',\n",
       "          'boxplot.meanprops.linestyle': '--',\n",
       "          'boxplot.meanprops.linewidth': 1.0,\n",
       "          'boxplot.meanprops.marker': '^',\n",
       "          'boxplot.meanprops.markeredgecolor': 'C2',\n",
       "          'boxplot.meanprops.markerfacecolor': 'C2',\n",
       "          'boxplot.meanprops.markersize': 6.0,\n",
       "          'boxplot.medianprops.color': 'C1',\n",
       "          'boxplot.medianprops.linestyle': '-',\n",
       "          'boxplot.medianprops.linewidth': 1.0,\n",
       "          'boxplot.notch': False,\n",
       "          'boxplot.patchartist': False,\n",
       "          'boxplot.showbox': True,\n",
       "          'boxplot.showcaps': True,\n",
       "          'boxplot.showfliers': True,\n",
       "          'boxplot.showmeans': False,\n",
       "          'boxplot.vertical': True,\n",
       "          'boxplot.whiskerprops.color': 'black',\n",
       "          'boxplot.whiskerprops.linestyle': '-',\n",
       "          'boxplot.whiskerprops.linewidth': 1.0,\n",
       "          'boxplot.whiskers': 1.5,\n",
       "          'contour.corner_mask': True,\n",
       "          'contour.negative_linestyle': 'dashed',\n",
       "          'datapath': '/opt/anaconda3/envs/learn-env/lib/python3.6/site-packages/matplotlib/mpl-data',\n",
       "          'date.autoformatter.day': '%Y-%m-%d',\n",
       "          'date.autoformatter.hour': '%m-%d %H',\n",
       "          'date.autoformatter.microsecond': '%M:%S.%f',\n",
       "          'date.autoformatter.minute': '%d %H:%M',\n",
       "          'date.autoformatter.month': '%Y-%m',\n",
       "          'date.autoformatter.second': '%H:%M:%S',\n",
       "          'date.autoformatter.year': '%Y',\n",
       "          'docstring.hardcopy': False,\n",
       "          'errorbar.capsize': 0.0,\n",
       "          'examples.directory': '',\n",
       "          'figure.autolayout': False,\n",
       "          'figure.constrained_layout.h_pad': 0.04167,\n",
       "          'figure.constrained_layout.hspace': 0.02,\n",
       "          'figure.constrained_layout.use': False,\n",
       "          'figure.constrained_layout.w_pad': 0.04167,\n",
       "          'figure.constrained_layout.wspace': 0.02,\n",
       "          'figure.dpi': 72.0,\n",
       "          'figure.edgecolor': (1, 1, 1, 0),\n",
       "          'figure.facecolor': 'white',\n",
       "          'figure.figsize': [6.0, 4.0],\n",
       "          'figure.frameon': True,\n",
       "          'figure.max_open_warning': 20,\n",
       "          'figure.subplot.bottom': 0.125,\n",
       "          'figure.subplot.hspace': 0.2,\n",
       "          'figure.subplot.left': 0.125,\n",
       "          'figure.subplot.right': 0.9,\n",
       "          'figure.subplot.top': 0.88,\n",
       "          'figure.subplot.wspace': 0.2,\n",
       "          'figure.titlesize': 'large',\n",
       "          'figure.titleweight': 'normal',\n",
       "          'font.cursive': ['Apple Chancery',\n",
       "                           'Textile',\n",
       "                           'Zapf Chancery',\n",
       "                           'Sand',\n",
       "                           'Script MT',\n",
       "                           'Felipa',\n",
       "                           'cursive'],\n",
       "          'font.family': ['sans-serif'],\n",
       "          'font.fantasy': ['Comic Sans MS',\n",
       "                           'Chicago',\n",
       "                           'Charcoal',\n",
       "                           'Impact',\n",
       "                           'Western',\n",
       "                           'Humor Sans',\n",
       "                           'xkcd',\n",
       "                           'fantasy'],\n",
       "          'font.monospace': ['DejaVu Sans Mono',\n",
       "                             'Bitstream Vera Sans Mono',\n",
       "                             'Computer Modern Typewriter',\n",
       "                             'Andale Mono',\n",
       "                             'Nimbus Mono L',\n",
       "                             'Courier New',\n",
       "                             'Courier',\n",
       "                             'Fixed',\n",
       "                             'Terminal',\n",
       "                             'monospace'],\n",
       "          'font.sans-serif': ['Arial',\n",
       "                              'DejaVu Sans',\n",
       "                              'Liberation Sans',\n",
       "                              'Bitstream Vera Sans',\n",
       "                              'sans-serif'],\n",
       "          'font.serif': ['DejaVu Serif',\n",
       "                         'Bitstream Vera Serif',\n",
       "                         'Computer Modern Roman',\n",
       "                         'New Century Schoolbook',\n",
       "                         'Century Schoolbook L',\n",
       "                         'Utopia',\n",
       "                         'ITC Bookman',\n",
       "                         'Bookman',\n",
       "                         'Nimbus Roman No9 L',\n",
       "                         'Times New Roman',\n",
       "                         'Times',\n",
       "                         'Palatino',\n",
       "                         'Charter',\n",
       "                         'serif'],\n",
       "          'font.size': 10.0,\n",
       "          'font.stretch': 'normal',\n",
       "          'font.style': 'normal',\n",
       "          'font.variant': 'normal',\n",
       "          'font.weight': 'normal',\n",
       "          'grid.alpha': 1.0,\n",
       "          'grid.color': 'white',\n",
       "          'grid.linestyle': '-',\n",
       "          'grid.linewidth': 0.8,\n",
       "          'hatch.color': 'black',\n",
       "          'hatch.linewidth': 1.0,\n",
       "          'hist.bins': 10,\n",
       "          'image.aspect': 'equal',\n",
       "          'image.cmap': 'rocket',\n",
       "          'image.composite_image': True,\n",
       "          'image.interpolation': 'nearest',\n",
       "          'image.lut': 256,\n",
       "          'image.origin': 'upper',\n",
       "          'image.resample': True,\n",
       "          'interactive': True,\n",
       "          'keymap.all_axes': ['a'],\n",
       "          'keymap.back': ['left', 'c', 'backspace', 'MouseButton.BACK'],\n",
       "          'keymap.copy': ['ctrl+c', 'cmd+c'],\n",
       "          'keymap.forward': ['right', 'v', 'MouseButton.FORWARD'],\n",
       "          'keymap.fullscreen': ['f', 'ctrl+f'],\n",
       "          'keymap.grid': ['g'],\n",
       "          'keymap.grid_minor': ['G'],\n",
       "          'keymap.help': ['f1'],\n",
       "          'keymap.home': ['h', 'r', 'home'],\n",
       "          'keymap.pan': ['p'],\n",
       "          'keymap.quit': ['ctrl+w', 'cmd+w', 'q'],\n",
       "          'keymap.quit_all': ['W', 'cmd+W', 'Q'],\n",
       "          'keymap.save': ['s', 'ctrl+s'],\n",
       "          'keymap.xscale': ['k', 'L'],\n",
       "          'keymap.yscale': ['l'],\n",
       "          'keymap.zoom': ['o'],\n",
       "          'legend.borderaxespad': 0.5,\n",
       "          'legend.borderpad': 0.4,\n",
       "          'legend.columnspacing': 2.0,\n",
       "          'legend.edgecolor': '0.8',\n",
       "          'legend.facecolor': 'inherit',\n",
       "          'legend.fancybox': True,\n",
       "          'legend.fontsize': 'medium',\n",
       "          'legend.framealpha': 0.8,\n",
       "          'legend.frameon': True,\n",
       "          'legend.handleheight': 0.7,\n",
       "          'legend.handlelength': 2.0,\n",
       "          'legend.handletextpad': 0.8,\n",
       "          'legend.labelspacing': 0.5,\n",
       "          'legend.loc': 'best',\n",
       "          'legend.markerscale': 1.0,\n",
       "          'legend.numpoints': 1,\n",
       "          'legend.scatterpoints': 1,\n",
       "          'legend.shadow': False,\n",
       "          'legend.title_fontsize': None,\n",
       "          'lines.antialiased': True,\n",
       "          'lines.color': 'white',\n",
       "          'lines.dash_capstyle': 'butt',\n",
       "          'lines.dash_joinstyle': 'round',\n",
       "          'lines.dashdot_pattern': [6.4, 1.6, 1.0, 1.6],\n",
       "          'lines.dashed_pattern': [3.7, 1.6],\n",
       "          'lines.dotted_pattern': [1.0, 1.65],\n",
       "          'lines.linestyle': '-',\n",
       "          'lines.linewidth': 1.5,\n",
       "          'lines.marker': 'None',\n",
       "          'lines.markeredgecolor': 'auto',\n",
       "          'lines.markeredgewidth': 1.0,\n",
       "          'lines.markerfacecolor': 'auto',\n",
       "          'lines.markersize': 6.0,\n",
       "          'lines.scale_dashes': True,\n",
       "          'lines.solid_capstyle': 'round',\n",
       "          'lines.solid_joinstyle': 'round',\n",
       "          'markers.fillstyle': 'full',\n",
       "          'mathtext.bf': 'sans:bold',\n",
       "          'mathtext.cal': 'cursive',\n",
       "          'mathtext.default': 'it',\n",
       "          'mathtext.fallback_to_cm': True,\n",
       "          'mathtext.fontset': 'dejavusans',\n",
       "          'mathtext.it': 'sans:italic',\n",
       "          'mathtext.rm': 'sans',\n",
       "          'mathtext.sf': 'sans',\n",
       "          'mathtext.tt': 'monospace',\n",
       "          'patch.antialiased': True,\n",
       "          'patch.edgecolor': 'w',\n",
       "          'patch.facecolor': 'C0',\n",
       "          'patch.force_edgecolor': True,\n",
       "          'patch.linewidth': 1.0,\n",
       "          'path.effects': [],\n",
       "          'path.simplify': True,\n",
       "          'path.simplify_threshold': 0.1111111111111111,\n",
       "          'path.sketch': None,\n",
       "          'path.snap': True,\n",
       "          'pdf.compression': 6,\n",
       "          'pdf.fonttype': 3,\n",
       "          'pdf.inheritcolor': False,\n",
       "          'pdf.use14corefonts': False,\n",
       "          'pgf.preamble': '',\n",
       "          'pgf.rcfonts': True,\n",
       "          'pgf.texsystem': 'xelatex',\n",
       "          'polaraxes.grid': True,\n",
       "          'ps.distiller.res': 6000,\n",
       "          'ps.fonttype': 3,\n",
       "          'ps.papersize': 'letter',\n",
       "          'ps.useafm': False,\n",
       "          'ps.usedistiller': False,\n",
       "          'savefig.bbox': None,\n",
       "          'savefig.directory': '~',\n",
       "          'savefig.dpi': 'figure',\n",
       "          'savefig.edgecolor': 'black',\n",
       "          'savefig.facecolor': 'black',\n",
       "          'savefig.format': 'png',\n",
       "          'savefig.frameon': True,\n",
       "          'savefig.jpeg_quality': 95,\n",
       "          'savefig.orientation': 'portrait',\n",
       "          'savefig.pad_inches': 0.1,\n",
       "          'savefig.transparent': False,\n",
       "          'scatter.edgecolors': 'face',\n",
       "          'scatter.marker': 'o',\n",
       "          'svg.fonttype': 'path',\n",
       "          'svg.hashsalt': None,\n",
       "          'svg.image_inline': True,\n",
       "          'text.antialiased': True,\n",
       "          'text.color': '.15',\n",
       "          'text.hinting': 'auto',\n",
       "          'text.hinting_factor': 8,\n",
       "          'text.latex.preamble': '',\n",
       "          'text.latex.preview': False,\n",
       "          'text.latex.unicode': True,\n",
       "          'text.usetex': False,\n",
       "          'timezone': 'UTC',\n",
       "          'tk.window_focus': False,\n",
       "          'toolbar': 'toolbar2',\n",
       "          'verbose.fileo': 'sys.stdout',\n",
       "          'verbose.level': 'silent',\n",
       "          'webagg.address': '127.0.0.1',\n",
       "          'webagg.open_in_browser': True,\n",
       "          'webagg.port': 8988,\n",
       "          'webagg.port_retries': 50,\n",
       "          'xtick.alignment': 'center',\n",
       "          'xtick.bottom': False,\n",
       "          'xtick.color': '.15',\n",
       "          'xtick.direction': 'out',\n",
       "          'xtick.labelbottom': True,\n",
       "          'xtick.labelsize': 'medium',\n",
       "          'xtick.labeltop': False,\n",
       "          'xtick.major.bottom': True,\n",
       "          'xtick.major.pad': 3.5,\n",
       "          'xtick.major.size': 3.5,\n",
       "          'xtick.major.top': True,\n",
       "          'xtick.major.width': 0.8,\n",
       "          'xtick.minor.bottom': True,\n",
       "          'xtick.minor.pad': 3.4,\n",
       "          'xtick.minor.size': 2.0,\n",
       "          'xtick.minor.top': True,\n",
       "          'xtick.minor.visible': False,\n",
       "          'xtick.minor.width': 0.6,\n",
       "          'xtick.top': False,\n",
       "          'ytick.alignment': 'center_baseline',\n",
       "          'ytick.color': '.15',\n",
       "          'ytick.direction': 'out',\n",
       "          'ytick.labelleft': True,\n",
       "          'ytick.labelright': False,\n",
       "          'ytick.labelsize': 'medium',\n",
       "          'ytick.left': False,\n",
       "          'ytick.major.left': True,\n",
       "          'ytick.major.pad': 3.5,\n",
       "          'ytick.major.right': True,\n",
       "          'ytick.major.size': 3.5,\n",
       "          'ytick.major.width': 0.8,\n",
       "          'ytick.minor.left': True,\n",
       "          'ytick.minor.pad': 3.4,\n",
       "          'ytick.minor.right': True,\n",
       "          'ytick.minor.size': 2.0,\n",
       "          'ytick.minor.visible': False,\n",
       "          'ytick.minor.width': 0.6,\n",
       "          'ytick.right': False})"
      ]
     },
     "execution_count": 132,
     "metadata": {},
     "output_type": "execute_result"
    }
   ],
   "source": [
    "plt.rcParams"
   ]
  },
  {
   "cell_type": "code",
   "execution_count": 189,
   "metadata": {},
   "outputs": [
    {
     "data": {
      "text/html": [
       "<div>\n",
       "<style scoped>\n",
       "    .dataframe tbody tr th:only-of-type {\n",
       "        vertical-align: middle;\n",
       "    }\n",
       "\n",
       "    .dataframe tbody tr th {\n",
       "        vertical-align: top;\n",
       "    }\n",
       "\n",
       "    .dataframe thead th {\n",
       "        text-align: right;\n",
       "    }\n",
       "</style>\n",
       "<table border=\"1\" class=\"dataframe\">\n",
       "  <thead>\n",
       "    <tr style=\"text-align: right;\">\n",
       "      <th></th>\n",
       "      <th>userId</th>\n",
       "      <th>movieId</th>\n",
       "      <th>rating</th>\n",
       "      <th>timestamp</th>\n",
       "    </tr>\n",
       "  </thead>\n",
       "  <tbody>\n",
       "    <tr>\n",
       "      <td>0</td>\n",
       "      <td>1</td>\n",
       "      <td>1</td>\n",
       "      <td>4.0</td>\n",
       "      <td>964982703</td>\n",
       "    </tr>\n",
       "    <tr>\n",
       "      <td>1</td>\n",
       "      <td>1</td>\n",
       "      <td>3</td>\n",
       "      <td>4.0</td>\n",
       "      <td>964981247</td>\n",
       "    </tr>\n",
       "    <tr>\n",
       "      <td>2</td>\n",
       "      <td>1</td>\n",
       "      <td>6</td>\n",
       "      <td>4.0</td>\n",
       "      <td>964982224</td>\n",
       "    </tr>\n",
       "    <tr>\n",
       "      <td>3</td>\n",
       "      <td>1</td>\n",
       "      <td>47</td>\n",
       "      <td>5.0</td>\n",
       "      <td>964983815</td>\n",
       "    </tr>\n",
       "    <tr>\n",
       "      <td>4</td>\n",
       "      <td>1</td>\n",
       "      <td>50</td>\n",
       "      <td>5.0</td>\n",
       "      <td>964982931</td>\n",
       "    </tr>\n",
       "  </tbody>\n",
       "</table>\n",
       "</div>"
      ],
      "text/plain": [
       "   userId  movieId  rating  timestamp\n",
       "0       1        1     4.0  964982703\n",
       "1       1        3     4.0  964981247\n",
       "2       1        6     4.0  964982224\n",
       "3       1       47     5.0  964983815\n",
       "4       1       50     5.0  964982931"
      ]
     },
     "execution_count": 189,
     "metadata": {},
     "output_type": "execute_result"
    }
   ],
   "source": [
    "ratings.head()"
   ]
  },
  {
   "cell_type": "markdown",
   "metadata": {},
   "source": [
    "Now, we really don't need timestamp for modelling so we will remove this."
   ]
  },
  {
   "cell_type": "code",
   "execution_count": 191,
   "metadata": {},
   "outputs": [],
   "source": [
    "ratings.drop('timestamp', axis = 1, inplace = True)"
   ]
  },
  {
   "cell_type": "code",
   "execution_count": 192,
   "metadata": {},
   "outputs": [
    {
     "data": {
      "text/html": [
       "<div>\n",
       "<style scoped>\n",
       "    .dataframe tbody tr th:only-of-type {\n",
       "        vertical-align: middle;\n",
       "    }\n",
       "\n",
       "    .dataframe tbody tr th {\n",
       "        vertical-align: top;\n",
       "    }\n",
       "\n",
       "    .dataframe thead th {\n",
       "        text-align: right;\n",
       "    }\n",
       "</style>\n",
       "<table border=\"1\" class=\"dataframe\">\n",
       "  <thead>\n",
       "    <tr style=\"text-align: right;\">\n",
       "      <th></th>\n",
       "      <th>userId</th>\n",
       "      <th>movieId</th>\n",
       "      <th>rating</th>\n",
       "    </tr>\n",
       "  </thead>\n",
       "  <tbody>\n",
       "    <tr>\n",
       "      <td>0</td>\n",
       "      <td>1</td>\n",
       "      <td>1</td>\n",
       "      <td>4.0</td>\n",
       "    </tr>\n",
       "    <tr>\n",
       "      <td>1</td>\n",
       "      <td>1</td>\n",
       "      <td>3</td>\n",
       "      <td>4.0</td>\n",
       "    </tr>\n",
       "    <tr>\n",
       "      <td>2</td>\n",
       "      <td>1</td>\n",
       "      <td>6</td>\n",
       "      <td>4.0</td>\n",
       "    </tr>\n",
       "    <tr>\n",
       "      <td>3</td>\n",
       "      <td>1</td>\n",
       "      <td>47</td>\n",
       "      <td>5.0</td>\n",
       "    </tr>\n",
       "    <tr>\n",
       "      <td>4</td>\n",
       "      <td>1</td>\n",
       "      <td>50</td>\n",
       "      <td>5.0</td>\n",
       "    </tr>\n",
       "  </tbody>\n",
       "</table>\n",
       "</div>"
      ],
      "text/plain": [
       "   userId  movieId  rating\n",
       "0       1        1     4.0\n",
       "1       1        3     4.0\n",
       "2       1        6     4.0\n",
       "3       1       47     5.0\n",
       "4       1       50     5.0"
      ]
     },
     "execution_count": 192,
     "metadata": {},
     "output_type": "execute_result"
    }
   ],
   "source": [
    "ratings.head()"
   ]
  },
  {
   "cell_type": "markdown",
   "metadata": {},
   "source": [
    "Read this df out so it's accessible later:"
   ]
  },
  {
   "cell_type": "code",
   "execution_count": 194,
   "metadata": {},
   "outputs": [],
   "source": [
    "ratings_model = ratings.to_csv(parent_dir + 'data/mod_ratings_lc')"
   ]
  },
  {
   "cell_type": "markdown",
   "metadata": {},
   "source": [
    "### Links df:"
   ]
  },
  {
   "cell_type": "code",
   "execution_count": 5,
   "metadata": {},
   "outputs": [
    {
     "data": {
      "text/html": [
       "<div>\n",
       "<style scoped>\n",
       "    .dataframe tbody tr th:only-of-type {\n",
       "        vertical-align: middle;\n",
       "    }\n",
       "\n",
       "    .dataframe tbody tr th {\n",
       "        vertical-align: top;\n",
       "    }\n",
       "\n",
       "    .dataframe thead th {\n",
       "        text-align: right;\n",
       "    }\n",
       "</style>\n",
       "<table border=\"1\" class=\"dataframe\">\n",
       "  <thead>\n",
       "    <tr style=\"text-align: right;\">\n",
       "      <th></th>\n",
       "      <th>movieId</th>\n",
       "      <th>imdbId</th>\n",
       "      <th>tmdbId</th>\n",
       "    </tr>\n",
       "  </thead>\n",
       "  <tbody>\n",
       "    <tr>\n",
       "      <td>0</td>\n",
       "      <td>1</td>\n",
       "      <td>114709</td>\n",
       "      <td>862.0</td>\n",
       "    </tr>\n",
       "    <tr>\n",
       "      <td>1</td>\n",
       "      <td>2</td>\n",
       "      <td>113497</td>\n",
       "      <td>8844.0</td>\n",
       "    </tr>\n",
       "    <tr>\n",
       "      <td>2</td>\n",
       "      <td>3</td>\n",
       "      <td>113228</td>\n",
       "      <td>15602.0</td>\n",
       "    </tr>\n",
       "    <tr>\n",
       "      <td>3</td>\n",
       "      <td>4</td>\n",
       "      <td>114885</td>\n",
       "      <td>31357.0</td>\n",
       "    </tr>\n",
       "    <tr>\n",
       "      <td>4</td>\n",
       "      <td>5</td>\n",
       "      <td>113041</td>\n",
       "      <td>11862.0</td>\n",
       "    </tr>\n",
       "  </tbody>\n",
       "</table>\n",
       "</div>"
      ],
      "text/plain": [
       "   movieId  imdbId   tmdbId\n",
       "0        1  114709    862.0\n",
       "1        2  113497   8844.0\n",
       "2        3  113228  15602.0\n",
       "3        4  114885  31357.0\n",
       "4        5  113041  11862.0"
      ]
     },
     "execution_count": 5,
     "metadata": {},
     "output_type": "execute_result"
    }
   ],
   "source": [
    "links = pd.read_csv(parent_dir + 'data/links.csv')\n",
    "links.head()"
   ]
  },
  {
   "cell_type": "code",
   "execution_count": 198,
   "metadata": {},
   "outputs": [
    {
     "name": "stdout",
     "output_type": "stream",
     "text": [
      "<class 'pandas.core.frame.DataFrame'>\n",
      "RangeIndex: 9742 entries, 0 to 9741\n",
      "Data columns (total 3 columns):\n",
      "movieId    9742 non-null int64\n",
      "imdbId     9742 non-null int64\n",
      "tmdbId     9734 non-null float64\n",
      "dtypes: float64(1), int64(2)\n",
      "memory usage: 228.5 KB\n"
     ]
    }
   ],
   "source": [
    "links.info()"
   ]
  },
  {
   "cell_type": "markdown",
   "metadata": {},
   "source": [
    "It looks like there are going to be duplicates again given that there are the same number of movie_Id's that the movies df had... so let's see if there are duplicate imdbIds:"
   ]
  },
  {
   "cell_type": "code",
   "execution_count": 199,
   "metadata": {},
   "outputs": [
    {
     "data": {
      "text/plain": [
       "9742"
      ]
     },
     "execution_count": 199,
     "metadata": {},
     "output_type": "execute_result"
    }
   ],
   "source": [
    "len(links.movieId.unique())"
   ]
  },
  {
   "cell_type": "code",
   "execution_count": 200,
   "metadata": {},
   "outputs": [
    {
     "data": {
      "text/plain": [
       "9742"
      ]
     },
     "execution_count": 200,
     "metadata": {},
     "output_type": "execute_result"
    }
   ],
   "source": [
    "len(links.imdbId.unique())"
   ]
  },
  {
   "cell_type": "markdown",
   "metadata": {},
   "source": [
    "Ok no, doesn't look like there are duplicates but let's check using the duplicates method:"
   ]
  },
  {
   "cell_type": "code",
   "execution_count": 203,
   "metadata": {},
   "outputs": [
    {
     "data": {
      "text/plain": [
       "0"
      ]
     },
     "execution_count": 203,
     "metadata": {},
     "output_type": "execute_result"
    }
   ],
   "source": [
    "links.duplicated().sum()"
   ]
  },
  {
   "cell_type": "markdown",
   "metadata": {},
   "source": [
    "Looks like we're safe."
   ]
  },
  {
   "cell_type": "markdown",
   "metadata": {},
   "source": [
    "Check the na's for tmdbId:"
   ]
  },
  {
   "cell_type": "code",
   "execution_count": 201,
   "metadata": {},
   "outputs": [
    {
     "data": {
      "text/plain": [
       "9734"
      ]
     },
     "execution_count": 201,
     "metadata": {},
     "output_type": "execute_result"
    }
   ],
   "source": [
    "len(links.tmdbId.unique())"
   ]
  },
  {
   "cell_type": "code",
   "execution_count": 205,
   "metadata": {},
   "outputs": [
    {
     "data": {
      "text/plain": [
       "movieId    0\n",
       "imdbId     0\n",
       "tmdbId     8\n",
       "dtype: int64"
      ]
     },
     "execution_count": 205,
     "metadata": {},
     "output_type": "execute_result"
    }
   ],
   "source": [
    "links.isna().sum()"
   ]
  },
  {
   "cell_type": "code",
   "execution_count": 206,
   "metadata": {},
   "outputs": [
    {
     "data": {
      "text/html": [
       "<div>\n",
       "<style scoped>\n",
       "    .dataframe tbody tr th:only-of-type {\n",
       "        vertical-align: middle;\n",
       "    }\n",
       "\n",
       "    .dataframe tbody tr th {\n",
       "        vertical-align: top;\n",
       "    }\n",
       "\n",
       "    .dataframe thead th {\n",
       "        text-align: right;\n",
       "    }\n",
       "</style>\n",
       "<table border=\"1\" class=\"dataframe\">\n",
       "  <thead>\n",
       "    <tr style=\"text-align: right;\">\n",
       "      <th></th>\n",
       "      <th>movieId</th>\n",
       "      <th>imdbId</th>\n",
       "      <th>tmdbId</th>\n",
       "    </tr>\n",
       "  </thead>\n",
       "  <tbody>\n",
       "    <tr>\n",
       "      <td>624</td>\n",
       "      <td>791</td>\n",
       "      <td>113610</td>\n",
       "      <td>NaN</td>\n",
       "    </tr>\n",
       "    <tr>\n",
       "      <td>843</td>\n",
       "      <td>1107</td>\n",
       "      <td>102336</td>\n",
       "      <td>NaN</td>\n",
       "    </tr>\n",
       "    <tr>\n",
       "      <td>2141</td>\n",
       "      <td>2851</td>\n",
       "      <td>81454</td>\n",
       "      <td>NaN</td>\n",
       "    </tr>\n",
       "    <tr>\n",
       "      <td>3027</td>\n",
       "      <td>4051</td>\n",
       "      <td>56600</td>\n",
       "      <td>NaN</td>\n",
       "    </tr>\n",
       "    <tr>\n",
       "      <td>5532</td>\n",
       "      <td>26587</td>\n",
       "      <td>92337</td>\n",
       "      <td>NaN</td>\n",
       "    </tr>\n",
       "    <tr>\n",
       "      <td>5854</td>\n",
       "      <td>32600</td>\n",
       "      <td>377059</td>\n",
       "      <td>NaN</td>\n",
       "    </tr>\n",
       "    <tr>\n",
       "      <td>6059</td>\n",
       "      <td>40697</td>\n",
       "      <td>105946</td>\n",
       "      <td>NaN</td>\n",
       "    </tr>\n",
       "    <tr>\n",
       "      <td>7382</td>\n",
       "      <td>79299</td>\n",
       "      <td>874957</td>\n",
       "      <td>NaN</td>\n",
       "    </tr>\n",
       "  </tbody>\n",
       "</table>\n",
       "</div>"
      ],
      "text/plain": [
       "      movieId  imdbId  tmdbId\n",
       "624       791  113610     NaN\n",
       "843      1107  102336     NaN\n",
       "2141     2851   81454     NaN\n",
       "3027     4051   56600     NaN\n",
       "5532    26587   92337     NaN\n",
       "5854    32600  377059     NaN\n",
       "6059    40697  105946     NaN\n",
       "7382    79299  874957     NaN"
      ]
     },
     "execution_count": 206,
     "metadata": {},
     "output_type": "execute_result"
    }
   ],
   "source": [
    "links[links['tmdbId'].isna()]"
   ]
  },
  {
   "cell_type": "markdown",
   "metadata": {},
   "source": [
    "I think it's fine that we're missing tmdbIds..."
   ]
  },
  {
   "cell_type": "markdown",
   "metadata": {},
   "source": [
    "### Tags df:"
   ]
  },
  {
   "cell_type": "code",
   "execution_count": 4,
   "metadata": {},
   "outputs": [
    {
     "data": {
      "text/html": [
       "<div>\n",
       "<style scoped>\n",
       "    .dataframe tbody tr th:only-of-type {\n",
       "        vertical-align: middle;\n",
       "    }\n",
       "\n",
       "    .dataframe tbody tr th {\n",
       "        vertical-align: top;\n",
       "    }\n",
       "\n",
       "    .dataframe thead th {\n",
       "        text-align: right;\n",
       "    }\n",
       "</style>\n",
       "<table border=\"1\" class=\"dataframe\">\n",
       "  <thead>\n",
       "    <tr style=\"text-align: right;\">\n",
       "      <th></th>\n",
       "      <th>userId</th>\n",
       "      <th>movieId</th>\n",
       "      <th>tag</th>\n",
       "      <th>timestamp</th>\n",
       "    </tr>\n",
       "  </thead>\n",
       "  <tbody>\n",
       "    <tr>\n",
       "      <td>0</td>\n",
       "      <td>2</td>\n",
       "      <td>60756</td>\n",
       "      <td>funny</td>\n",
       "      <td>1445714994</td>\n",
       "    </tr>\n",
       "    <tr>\n",
       "      <td>1</td>\n",
       "      <td>2</td>\n",
       "      <td>60756</td>\n",
       "      <td>Highly quotable</td>\n",
       "      <td>1445714996</td>\n",
       "    </tr>\n",
       "    <tr>\n",
       "      <td>2</td>\n",
       "      <td>2</td>\n",
       "      <td>60756</td>\n",
       "      <td>will ferrell</td>\n",
       "      <td>1445714992</td>\n",
       "    </tr>\n",
       "    <tr>\n",
       "      <td>3</td>\n",
       "      <td>2</td>\n",
       "      <td>89774</td>\n",
       "      <td>Boxing story</td>\n",
       "      <td>1445715207</td>\n",
       "    </tr>\n",
       "    <tr>\n",
       "      <td>4</td>\n",
       "      <td>2</td>\n",
       "      <td>89774</td>\n",
       "      <td>MMA</td>\n",
       "      <td>1445715200</td>\n",
       "    </tr>\n",
       "  </tbody>\n",
       "</table>\n",
       "</div>"
      ],
      "text/plain": [
       "   userId  movieId              tag   timestamp\n",
       "0       2    60756            funny  1445714994\n",
       "1       2    60756  Highly quotable  1445714996\n",
       "2       2    60756     will ferrell  1445714992\n",
       "3       2    89774     Boxing story  1445715207\n",
       "4       2    89774              MMA  1445715200"
      ]
     },
     "execution_count": 4,
     "metadata": {},
     "output_type": "execute_result"
    }
   ],
   "source": [
    "tags = pd.read_csv(parent_dir + 'data/tags.csv')\n",
    "tags.head()"
   ]
  },
  {
   "cell_type": "code",
   "execution_count": 207,
   "metadata": {},
   "outputs": [
    {
     "name": "stdout",
     "output_type": "stream",
     "text": [
      "<class 'pandas.core.frame.DataFrame'>\n",
      "RangeIndex: 3683 entries, 0 to 3682\n",
      "Data columns (total 4 columns):\n",
      "userId       3683 non-null int64\n",
      "movieId      3683 non-null int64\n",
      "tag          3683 non-null object\n",
      "timestamp    3683 non-null int64\n",
      "dtypes: int64(3), object(1)\n",
      "memory usage: 115.2+ KB\n"
     ]
    }
   ],
   "source": [
    "tags.info()"
   ]
  },
  {
   "cell_type": "markdown",
   "metadata": {},
   "source": [
    "No null rows."
   ]
  },
  {
   "cell_type": "code",
   "execution_count": 208,
   "metadata": {},
   "outputs": [
    {
     "data": {
      "text/plain": [
       "58"
      ]
     },
     "execution_count": 208,
     "metadata": {},
     "output_type": "execute_result"
    }
   ],
   "source": [
    "len(tags.userId.unique())"
   ]
  },
  {
   "cell_type": "code",
   "execution_count": 209,
   "metadata": {},
   "outputs": [
    {
     "data": {
      "text/plain": [
       "1572"
      ]
     },
     "execution_count": 209,
     "metadata": {},
     "output_type": "execute_result"
    }
   ],
   "source": [
    "len(tags.movieId.unique())"
   ]
  },
  {
   "cell_type": "code",
   "execution_count": 210,
   "metadata": {},
   "outputs": [
    {
     "data": {
      "text/plain": [
       "1589"
      ]
     },
     "execution_count": 210,
     "metadata": {},
     "output_type": "execute_result"
    }
   ],
   "source": [
    "len(tags.tag.unique())"
   ]
  },
  {
   "cell_type": "markdown",
   "metadata": {},
   "source": [
    "So while there are 3683 entries, there are only 1589 unique tags so we do have some common tags - might be worth finding the top 10-20 most common tags perhaps?\n",
    "\n",
    "Only 1572 movies have been tagged so if we join these dfs, most will have na values (which is fine)."
   ]
  },
  {
   "cell_type": "markdown",
   "metadata": {},
   "source": [
    "Only 58 users actually add tags.  Small subset.\n",
    "\n",
    "We probably don't need the timestamp column for this dataset."
   ]
  },
  {
   "cell_type": "code",
   "execution_count": 211,
   "metadata": {},
   "outputs": [],
   "source": [
    "tags.drop('timestamp', axis = 1, inplace = True)"
   ]
  },
  {
   "cell_type": "code",
   "execution_count": 212,
   "metadata": {},
   "outputs": [
    {
     "data": {
      "text/html": [
       "<div>\n",
       "<style scoped>\n",
       "    .dataframe tbody tr th:only-of-type {\n",
       "        vertical-align: middle;\n",
       "    }\n",
       "\n",
       "    .dataframe tbody tr th {\n",
       "        vertical-align: top;\n",
       "    }\n",
       "\n",
       "    .dataframe thead th {\n",
       "        text-align: right;\n",
       "    }\n",
       "</style>\n",
       "<table border=\"1\" class=\"dataframe\">\n",
       "  <thead>\n",
       "    <tr style=\"text-align: right;\">\n",
       "      <th></th>\n",
       "      <th>userId</th>\n",
       "      <th>movieId</th>\n",
       "      <th>tag</th>\n",
       "    </tr>\n",
       "  </thead>\n",
       "  <tbody>\n",
       "    <tr>\n",
       "      <td>0</td>\n",
       "      <td>2</td>\n",
       "      <td>60756</td>\n",
       "      <td>funny</td>\n",
       "    </tr>\n",
       "    <tr>\n",
       "      <td>1</td>\n",
       "      <td>2</td>\n",
       "      <td>60756</td>\n",
       "      <td>Highly quotable</td>\n",
       "    </tr>\n",
       "    <tr>\n",
       "      <td>2</td>\n",
       "      <td>2</td>\n",
       "      <td>60756</td>\n",
       "      <td>will ferrell</td>\n",
       "    </tr>\n",
       "    <tr>\n",
       "      <td>3</td>\n",
       "      <td>2</td>\n",
       "      <td>89774</td>\n",
       "      <td>Boxing story</td>\n",
       "    </tr>\n",
       "    <tr>\n",
       "      <td>4</td>\n",
       "      <td>2</td>\n",
       "      <td>89774</td>\n",
       "      <td>MMA</td>\n",
       "    </tr>\n",
       "  </tbody>\n",
       "</table>\n",
       "</div>"
      ],
      "text/plain": [
       "   userId  movieId              tag\n",
       "0       2    60756            funny\n",
       "1       2    60756  Highly quotable\n",
       "2       2    60756     will ferrell\n",
       "3       2    89774     Boxing story\n",
       "4       2    89774              MMA"
      ]
     },
     "execution_count": 212,
     "metadata": {},
     "output_type": "execute_result"
    }
   ],
   "source": [
    "tags.head()"
   ]
  },
  {
   "cell_type": "code",
   "execution_count": 217,
   "metadata": {},
   "outputs": [],
   "source": [
    "count_tags = {}\n",
    "for tag in tags['tag']:\n",
    "    count_tags[tag] = count_tags.get(tag, 0) + 1"
   ]
  },
  {
   "cell_type": "markdown",
   "metadata": {},
   "source": [
    "Let's look into the most common tags and find the top 20 tags."
   ]
  },
  {
   "cell_type": "code",
   "execution_count": 219,
   "metadata": {},
   "outputs": [
    {
     "name": "stdout",
     "output_type": "stream",
     "text": [
      "1589\n"
     ]
    }
   ],
   "source": [
    "popular_tag = []\n",
    "for tag in count_tags:\n",
    "    if count_tags[tag] > 0:\n",
    "#         print(genre, count_genres[tag])\n",
    "        popular_tag.append(tag)\n",
    "print(len(popular_tag))"
   ]
  },
  {
   "cell_type": "code",
   "execution_count": 220,
   "metadata": {},
   "outputs": [],
   "source": [
    "sorted_pop_tags = sorted(popular_tag, key=lambda x:x[1], reverse=True)"
   ]
  },
  {
   "cell_type": "code",
   "execution_count": 222,
   "metadata": {},
   "outputs": [
    {
     "data": {
      "text/plain": [
       "['cyberpunk',\n",
       " 'Mystery',\n",
       " 'Ryan Reynolds',\n",
       " 'dystopia',\n",
       " 'ryan reynolds',\n",
       " 'Dystopia',\n",
       " 'system holism',\n",
       " 'mystery',\n",
       " 'cynical',\n",
       " 'mythology',\n",
       " 'Myth',\n",
       " 'lyrical',\n",
       " 'symbolism',\n",
       " 'symbolic',\n",
       " 'Exquisite plotting.',\n",
       " 'ex-con',\n",
       " 'existentialism',\n",
       " 'Existential',\n",
       " 'exciting',\n",
       " 'twist ending']"
      ]
     },
     "execution_count": 222,
     "metadata": {},
     "output_type": "execute_result"
    }
   ],
   "source": [
    "sorted_pop_tags[:20]"
   ]
  },
  {
   "cell_type": "markdown",
   "metadata": {},
   "source": [
    "We can see there's a lot of double ups here with tags that do and don't use capitilisation such asa 'Ryan Reynolds' vs. 'ryan reynolds'.  As well as similar categories such as 'myth', 'mythology', even 'mystery'.  \n",
    "\n",
    "Perhaps we could perform some NLP pre-processing on this data to make more consistent tags.  This might not be completely neccessary since it's such a small set of the data that is tagged (only 3000 amongst 100k movie ratings) but something we could experiment with.  "
   ]
  },
  {
   "cell_type": "markdown",
   "metadata": {},
   "source": [
    "I won't do any of the NLP processing now, but we know it exists and I will export the csv without the timestamp."
   ]
  },
  {
   "cell_type": "code",
   "execution_count": 223,
   "metadata": {},
   "outputs": [],
   "source": [
    "tags_model = tags.to_csv(parent_dir + 'data/mod_tags_lc')"
   ]
  },
  {
   "cell_type": "markdown",
   "metadata": {},
   "source": [
    "# Join the dataframes:"
   ]
  },
  {
   "cell_type": "markdown",
   "metadata": {},
   "source": [
    "The `ratings` df has over 100k rows, and then `movies` df has just under 10k rows.  So let's first try joining the `ratings` and `movies` dfs together using `movieId` as the key.  We will left join on `ratings`.\n",
    "\n",
    "First, we'll check the shape of both dfs to be able to compare the joined result.  "
   ]
  },
  {
   "cell_type": "code",
   "execution_count": 224,
   "metadata": {},
   "outputs": [
    {
     "data": {
      "text/plain": [
       "(100836, 3)"
      ]
     },
     "execution_count": 224,
     "metadata": {},
     "output_type": "execute_result"
    }
   ],
   "source": [
    "ratings.shape"
   ]
  },
  {
   "cell_type": "code",
   "execution_count": 225,
   "metadata": {},
   "outputs": [
    {
     "data": {
      "text/plain": [
       "(9737, 3)"
      ]
     },
     "execution_count": 225,
     "metadata": {},
     "output_type": "execute_result"
    }
   ],
   "source": [
    "movies.shape"
   ]
  },
  {
   "cell_type": "code",
   "execution_count": 227,
   "metadata": {},
   "outputs": [],
   "source": [
    "movie_ratings = ratings.set_index('movieId').join(movies.set_index('movieId'))"
   ]
  },
  {
   "cell_type": "code",
   "execution_count": 230,
   "metadata": {},
   "outputs": [
    {
     "data": {
      "text/html": [
       "<div>\n",
       "<style scoped>\n",
       "    .dataframe tbody tr th:only-of-type {\n",
       "        vertical-align: middle;\n",
       "    }\n",
       "\n",
       "    .dataframe tbody tr th {\n",
       "        vertical-align: top;\n",
       "    }\n",
       "\n",
       "    .dataframe thead th {\n",
       "        text-align: right;\n",
       "    }\n",
       "</style>\n",
       "<table border=\"1\" class=\"dataframe\">\n",
       "  <thead>\n",
       "    <tr style=\"text-align: right;\">\n",
       "      <th></th>\n",
       "      <th>userId</th>\n",
       "      <th>rating</th>\n",
       "      <th>title</th>\n",
       "      <th>genres</th>\n",
       "    </tr>\n",
       "    <tr>\n",
       "      <th>movieId</th>\n",
       "      <th></th>\n",
       "      <th></th>\n",
       "      <th></th>\n",
       "      <th></th>\n",
       "    </tr>\n",
       "  </thead>\n",
       "  <tbody>\n",
       "    <tr>\n",
       "      <td>1</td>\n",
       "      <td>1</td>\n",
       "      <td>4.0</td>\n",
       "      <td>Toy Story (1995)</td>\n",
       "      <td>Adventure|Animation|Children|Comedy|Fantasy</td>\n",
       "    </tr>\n",
       "    <tr>\n",
       "      <td>1</td>\n",
       "      <td>5</td>\n",
       "      <td>4.0</td>\n",
       "      <td>Toy Story (1995)</td>\n",
       "      <td>Adventure|Animation|Children|Comedy|Fantasy</td>\n",
       "    </tr>\n",
       "    <tr>\n",
       "      <td>1</td>\n",
       "      <td>7</td>\n",
       "      <td>4.5</td>\n",
       "      <td>Toy Story (1995)</td>\n",
       "      <td>Adventure|Animation|Children|Comedy|Fantasy</td>\n",
       "    </tr>\n",
       "    <tr>\n",
       "      <td>1</td>\n",
       "      <td>15</td>\n",
       "      <td>2.5</td>\n",
       "      <td>Toy Story (1995)</td>\n",
       "      <td>Adventure|Animation|Children|Comedy|Fantasy</td>\n",
       "    </tr>\n",
       "    <tr>\n",
       "      <td>1</td>\n",
       "      <td>17</td>\n",
       "      <td>4.5</td>\n",
       "      <td>Toy Story (1995)</td>\n",
       "      <td>Adventure|Animation|Children|Comedy|Fantasy</td>\n",
       "    </tr>\n",
       "  </tbody>\n",
       "</table>\n",
       "</div>"
      ],
      "text/plain": [
       "         userId  rating             title  \\\n",
       "movieId                                     \n",
       "1             1     4.0  Toy Story (1995)   \n",
       "1             5     4.0  Toy Story (1995)   \n",
       "1             7     4.5  Toy Story (1995)   \n",
       "1            15     2.5  Toy Story (1995)   \n",
       "1            17     4.5  Toy Story (1995)   \n",
       "\n",
       "                                              genres  \n",
       "movieId                                               \n",
       "1        Adventure|Animation|Children|Comedy|Fantasy  \n",
       "1        Adventure|Animation|Children|Comedy|Fantasy  \n",
       "1        Adventure|Animation|Children|Comedy|Fantasy  \n",
       "1        Adventure|Animation|Children|Comedy|Fantasy  \n",
       "1        Adventure|Animation|Children|Comedy|Fantasy  "
      ]
     },
     "execution_count": 230,
     "metadata": {},
     "output_type": "execute_result"
    }
   ],
   "source": [
    "movie_ratings.head()"
   ]
  },
  {
   "cell_type": "markdown",
   "metadata": {},
   "source": [
    "This is looking like our desired result.  Let's check the shape:"
   ]
  },
  {
   "cell_type": "code",
   "execution_count": 231,
   "metadata": {},
   "outputs": [
    {
     "data": {
      "text/plain": [
       "(100836, 4)"
      ]
     },
     "execution_count": 231,
     "metadata": {},
     "output_type": "execute_result"
    }
   ],
   "source": [
    "movie_ratings.shape"
   ]
  },
  {
   "cell_type": "markdown",
   "metadata": {},
   "source": [
    "So we have not lost rows - this is what we expect. "
   ]
  },
  {
   "cell_type": "code",
   "execution_count": 234,
   "metadata": {},
   "outputs": [
    {
     "name": "stdout",
     "output_type": "stream",
     "text": [
      "<class 'pandas.core.frame.DataFrame'>\n",
      "Int64Index: 100836 entries, 1 to 193609\n",
      "Data columns (total 4 columns):\n",
      "userId    100836 non-null int64\n",
      "rating    100836 non-null float64\n",
      "title     100816 non-null object\n",
      "genres    100816 non-null object\n",
      "dtypes: float64(1), int64(1), object(2)\n",
      "memory usage: 3.8+ MB\n"
     ]
    }
   ],
   "source": [
    "movie_ratings.info()"
   ]
  },
  {
   "cell_type": "markdown",
   "metadata": {},
   "source": [
    "From here we can see that there are 20 movies that we do not know the title or genre for.  Let's see what these movies are:"
   ]
  },
  {
   "cell_type": "code",
   "execution_count": 237,
   "metadata": {},
   "outputs": [
    {
     "data": {
      "text/html": [
       "<div>\n",
       "<style scoped>\n",
       "    .dataframe tbody tr th:only-of-type {\n",
       "        vertical-align: middle;\n",
       "    }\n",
       "\n",
       "    .dataframe tbody tr th {\n",
       "        vertical-align: top;\n",
       "    }\n",
       "\n",
       "    .dataframe thead th {\n",
       "        text-align: right;\n",
       "    }\n",
       "</style>\n",
       "<table border=\"1\" class=\"dataframe\">\n",
       "  <thead>\n",
       "    <tr style=\"text-align: right;\">\n",
       "      <th></th>\n",
       "      <th>userId</th>\n",
       "      <th>rating</th>\n",
       "      <th>title</th>\n",
       "      <th>genres</th>\n",
       "    </tr>\n",
       "    <tr>\n",
       "      <th>movieId</th>\n",
       "      <th></th>\n",
       "      <th></th>\n",
       "      <th></th>\n",
       "      <th></th>\n",
       "    </tr>\n",
       "  </thead>\n",
       "  <tbody>\n",
       "    <tr>\n",
       "      <td>6003</td>\n",
       "      <td>111</td>\n",
       "      <td>4.0</td>\n",
       "      <td>NaN</td>\n",
       "      <td>NaN</td>\n",
       "    </tr>\n",
       "    <tr>\n",
       "      <td>6003</td>\n",
       "      <td>156</td>\n",
       "      <td>3.5</td>\n",
       "      <td>NaN</td>\n",
       "      <td>NaN</td>\n",
       "    </tr>\n",
       "    <tr>\n",
       "      <td>6003</td>\n",
       "      <td>182</td>\n",
       "      <td>3.0</td>\n",
       "      <td>NaN</td>\n",
       "      <td>NaN</td>\n",
       "    </tr>\n",
       "    <tr>\n",
       "      <td>6003</td>\n",
       "      <td>288</td>\n",
       "      <td>4.0</td>\n",
       "      <td>NaN</td>\n",
       "      <td>NaN</td>\n",
       "    </tr>\n",
       "    <tr>\n",
       "      <td>6003</td>\n",
       "      <td>356</td>\n",
       "      <td>4.5</td>\n",
       "      <td>NaN</td>\n",
       "      <td>NaN</td>\n",
       "    </tr>\n",
       "    <tr>\n",
       "      <td>6003</td>\n",
       "      <td>387</td>\n",
       "      <td>3.5</td>\n",
       "      <td>NaN</td>\n",
       "      <td>NaN</td>\n",
       "    </tr>\n",
       "    <tr>\n",
       "      <td>6003</td>\n",
       "      <td>414</td>\n",
       "      <td>3.5</td>\n",
       "      <td>NaN</td>\n",
       "      <td>NaN</td>\n",
       "    </tr>\n",
       "    <tr>\n",
       "      <td>6003</td>\n",
       "      <td>474</td>\n",
       "      <td>3.5</td>\n",
       "      <td>NaN</td>\n",
       "      <td>NaN</td>\n",
       "    </tr>\n",
       "    <tr>\n",
       "      <td>6003</td>\n",
       "      <td>480</td>\n",
       "      <td>3.5</td>\n",
       "      <td>NaN</td>\n",
       "      <td>NaN</td>\n",
       "    </tr>\n",
       "    <tr>\n",
       "      <td>6003</td>\n",
       "      <td>552</td>\n",
       "      <td>3.0</td>\n",
       "      <td>NaN</td>\n",
       "      <td>NaN</td>\n",
       "    </tr>\n",
       "    <tr>\n",
       "      <td>6003</td>\n",
       "      <td>580</td>\n",
       "      <td>3.5</td>\n",
       "      <td>NaN</td>\n",
       "      <td>NaN</td>\n",
       "    </tr>\n",
       "    <tr>\n",
       "      <td>6003</td>\n",
       "      <td>599</td>\n",
       "      <td>3.0</td>\n",
       "      <td>NaN</td>\n",
       "      <td>NaN</td>\n",
       "    </tr>\n",
       "    <tr>\n",
       "      <td>6003</td>\n",
       "      <td>600</td>\n",
       "      <td>3.0</td>\n",
       "      <td>NaN</td>\n",
       "      <td>NaN</td>\n",
       "    </tr>\n",
       "    <tr>\n",
       "      <td>6003</td>\n",
       "      <td>608</td>\n",
       "      <td>4.5</td>\n",
       "      <td>NaN</td>\n",
       "      <td>NaN</td>\n",
       "    </tr>\n",
       "    <tr>\n",
       "      <td>6003</td>\n",
       "      <td>610</td>\n",
       "      <td>4.0</td>\n",
       "      <td>NaN</td>\n",
       "      <td>NaN</td>\n",
       "    </tr>\n",
       "    <tr>\n",
       "      <td>26958</td>\n",
       "      <td>509</td>\n",
       "      <td>3.5</td>\n",
       "      <td>NaN</td>\n",
       "      <td>NaN</td>\n",
       "    </tr>\n",
       "    <tr>\n",
       "      <td>32600</td>\n",
       "      <td>606</td>\n",
       "      <td>3.5</td>\n",
       "      <td>NaN</td>\n",
       "      <td>NaN</td>\n",
       "    </tr>\n",
       "    <tr>\n",
       "      <td>64997</td>\n",
       "      <td>28</td>\n",
       "      <td>3.5</td>\n",
       "      <td>NaN</td>\n",
       "      <td>NaN</td>\n",
       "    </tr>\n",
       "    <tr>\n",
       "      <td>64997</td>\n",
       "      <td>68</td>\n",
       "      <td>2.5</td>\n",
       "      <td>NaN</td>\n",
       "      <td>NaN</td>\n",
       "    </tr>\n",
       "    <tr>\n",
       "      <td>168358</td>\n",
       "      <td>514</td>\n",
       "      <td>2.5</td>\n",
       "      <td>NaN</td>\n",
       "      <td>NaN</td>\n",
       "    </tr>\n",
       "  </tbody>\n",
       "</table>\n",
       "</div>"
      ],
      "text/plain": [
       "         userId  rating title genres\n",
       "movieId                             \n",
       "6003        111     4.0   NaN    NaN\n",
       "6003        156     3.5   NaN    NaN\n",
       "6003        182     3.0   NaN    NaN\n",
       "6003        288     4.0   NaN    NaN\n",
       "6003        356     4.5   NaN    NaN\n",
       "6003        387     3.5   NaN    NaN\n",
       "6003        414     3.5   NaN    NaN\n",
       "6003        474     3.5   NaN    NaN\n",
       "6003        480     3.5   NaN    NaN\n",
       "6003        552     3.0   NaN    NaN\n",
       "6003        580     3.5   NaN    NaN\n",
       "6003        599     3.0   NaN    NaN\n",
       "6003        600     3.0   NaN    NaN\n",
       "6003        608     4.5   NaN    NaN\n",
       "6003        610     4.0   NaN    NaN\n",
       "26958       509     3.5   NaN    NaN\n",
       "32600       606     3.5   NaN    NaN\n",
       "64997        28     3.5   NaN    NaN\n",
       "64997        68     2.5   NaN    NaN\n",
       "168358      514     2.5   NaN    NaN"
      ]
     },
     "execution_count": 237,
     "metadata": {},
     "output_type": "execute_result"
    }
   ],
   "source": [
    "movie_ratings[movie_ratings['title'].isna()]"
   ]
  },
  {
   "cell_type": "markdown",
   "metadata": {},
   "source": [
    "From here, out of the 20 that do not have titles or genres, there are actually only 5 movies that are missing their title.  We could pair this with the links df and look up the title and genre on IMDB and manually add this in since it's only 5 records.  This might be worth it since movie 6003 has 15 ratings that we don't know the name of (and hence can't recommend the name in our app). "
   ]
  },
  {
   "cell_type": "markdown",
   "metadata": {},
   "source": [
    "Let's now join the links df with this df, again with the movie id as the key:"
   ]
  },
  {
   "cell_type": "code",
   "execution_count": 239,
   "metadata": {},
   "outputs": [
    {
     "data": {
      "text/plain": [
       "(9742, 3)"
      ]
     },
     "execution_count": 239,
     "metadata": {},
     "output_type": "execute_result"
    }
   ],
   "source": [
    "links.shape"
   ]
  },
  {
   "cell_type": "code",
   "execution_count": 244,
   "metadata": {},
   "outputs": [],
   "source": [
    "movie_rating_links = movie_ratings.join(links.set_index('movieId'))"
   ]
  },
  {
   "cell_type": "code",
   "execution_count": 245,
   "metadata": {},
   "outputs": [
    {
     "data": {
      "text/html": [
       "<div>\n",
       "<style scoped>\n",
       "    .dataframe tbody tr th:only-of-type {\n",
       "        vertical-align: middle;\n",
       "    }\n",
       "\n",
       "    .dataframe tbody tr th {\n",
       "        vertical-align: top;\n",
       "    }\n",
       "\n",
       "    .dataframe thead th {\n",
       "        text-align: right;\n",
       "    }\n",
       "</style>\n",
       "<table border=\"1\" class=\"dataframe\">\n",
       "  <thead>\n",
       "    <tr style=\"text-align: right;\">\n",
       "      <th></th>\n",
       "      <th>userId</th>\n",
       "      <th>rating</th>\n",
       "      <th>title</th>\n",
       "      <th>genres</th>\n",
       "      <th>imdbId</th>\n",
       "      <th>tmdbId</th>\n",
       "    </tr>\n",
       "    <tr>\n",
       "      <th>movieId</th>\n",
       "      <th></th>\n",
       "      <th></th>\n",
       "      <th></th>\n",
       "      <th></th>\n",
       "      <th></th>\n",
       "      <th></th>\n",
       "    </tr>\n",
       "  </thead>\n",
       "  <tbody>\n",
       "    <tr>\n",
       "      <td>1</td>\n",
       "      <td>1</td>\n",
       "      <td>4.0</td>\n",
       "      <td>Toy Story (1995)</td>\n",
       "      <td>Adventure|Animation|Children|Comedy|Fantasy</td>\n",
       "      <td>114709</td>\n",
       "      <td>862.0</td>\n",
       "    </tr>\n",
       "    <tr>\n",
       "      <td>1</td>\n",
       "      <td>5</td>\n",
       "      <td>4.0</td>\n",
       "      <td>Toy Story (1995)</td>\n",
       "      <td>Adventure|Animation|Children|Comedy|Fantasy</td>\n",
       "      <td>114709</td>\n",
       "      <td>862.0</td>\n",
       "    </tr>\n",
       "    <tr>\n",
       "      <td>1</td>\n",
       "      <td>7</td>\n",
       "      <td>4.5</td>\n",
       "      <td>Toy Story (1995)</td>\n",
       "      <td>Adventure|Animation|Children|Comedy|Fantasy</td>\n",
       "      <td>114709</td>\n",
       "      <td>862.0</td>\n",
       "    </tr>\n",
       "    <tr>\n",
       "      <td>1</td>\n",
       "      <td>15</td>\n",
       "      <td>2.5</td>\n",
       "      <td>Toy Story (1995)</td>\n",
       "      <td>Adventure|Animation|Children|Comedy|Fantasy</td>\n",
       "      <td>114709</td>\n",
       "      <td>862.0</td>\n",
       "    </tr>\n",
       "    <tr>\n",
       "      <td>1</td>\n",
       "      <td>17</td>\n",
       "      <td>4.5</td>\n",
       "      <td>Toy Story (1995)</td>\n",
       "      <td>Adventure|Animation|Children|Comedy|Fantasy</td>\n",
       "      <td>114709</td>\n",
       "      <td>862.0</td>\n",
       "    </tr>\n",
       "  </tbody>\n",
       "</table>\n",
       "</div>"
      ],
      "text/plain": [
       "         userId  rating             title  \\\n",
       "movieId                                     \n",
       "1             1     4.0  Toy Story (1995)   \n",
       "1             5     4.0  Toy Story (1995)   \n",
       "1             7     4.5  Toy Story (1995)   \n",
       "1            15     2.5  Toy Story (1995)   \n",
       "1            17     4.5  Toy Story (1995)   \n",
       "\n",
       "                                              genres  imdbId  tmdbId  \n",
       "movieId                                                               \n",
       "1        Adventure|Animation|Children|Comedy|Fantasy  114709   862.0  \n",
       "1        Adventure|Animation|Children|Comedy|Fantasy  114709   862.0  \n",
       "1        Adventure|Animation|Children|Comedy|Fantasy  114709   862.0  \n",
       "1        Adventure|Animation|Children|Comedy|Fantasy  114709   862.0  \n",
       "1        Adventure|Animation|Children|Comedy|Fantasy  114709   862.0  "
      ]
     },
     "execution_count": 245,
     "metadata": {},
     "output_type": "execute_result"
    }
   ],
   "source": [
    "movie_rating_links.head()"
   ]
  },
  {
   "cell_type": "code",
   "execution_count": 246,
   "metadata": {},
   "outputs": [
    {
     "data": {
      "text/plain": [
       "(100836, 6)"
      ]
     },
     "execution_count": 246,
     "metadata": {},
     "output_type": "execute_result"
    }
   ],
   "source": [
    "movie_rating_links.shape"
   ]
  },
  {
   "cell_type": "markdown",
   "metadata": {},
   "source": [
    "No info loss! "
   ]
  },
  {
   "cell_type": "markdown",
   "metadata": {},
   "source": [
    "Let's have a look at those movies that didn't have titles:"
   ]
  },
  {
   "cell_type": "code",
   "execution_count": 247,
   "metadata": {},
   "outputs": [
    {
     "data": {
      "text/html": [
       "<div>\n",
       "<style scoped>\n",
       "    .dataframe tbody tr th:only-of-type {\n",
       "        vertical-align: middle;\n",
       "    }\n",
       "\n",
       "    .dataframe tbody tr th {\n",
       "        vertical-align: top;\n",
       "    }\n",
       "\n",
       "    .dataframe thead th {\n",
       "        text-align: right;\n",
       "    }\n",
       "</style>\n",
       "<table border=\"1\" class=\"dataframe\">\n",
       "  <thead>\n",
       "    <tr style=\"text-align: right;\">\n",
       "      <th></th>\n",
       "      <th>userId</th>\n",
       "      <th>rating</th>\n",
       "      <th>title</th>\n",
       "      <th>genres</th>\n",
       "      <th>imdbId</th>\n",
       "      <th>tmdbId</th>\n",
       "    </tr>\n",
       "    <tr>\n",
       "      <th>movieId</th>\n",
       "      <th></th>\n",
       "      <th></th>\n",
       "      <th></th>\n",
       "      <th></th>\n",
       "      <th></th>\n",
       "      <th></th>\n",
       "    </tr>\n",
       "  </thead>\n",
       "  <tbody>\n",
       "    <tr>\n",
       "      <td>6003</td>\n",
       "      <td>111</td>\n",
       "      <td>4.0</td>\n",
       "      <td>NaN</td>\n",
       "      <td>NaN</td>\n",
       "      <td>290538</td>\n",
       "      <td>4912.0</td>\n",
       "    </tr>\n",
       "    <tr>\n",
       "      <td>6003</td>\n",
       "      <td>156</td>\n",
       "      <td>3.5</td>\n",
       "      <td>NaN</td>\n",
       "      <td>NaN</td>\n",
       "      <td>290538</td>\n",
       "      <td>4912.0</td>\n",
       "    </tr>\n",
       "    <tr>\n",
       "      <td>6003</td>\n",
       "      <td>182</td>\n",
       "      <td>3.0</td>\n",
       "      <td>NaN</td>\n",
       "      <td>NaN</td>\n",
       "      <td>290538</td>\n",
       "      <td>4912.0</td>\n",
       "    </tr>\n",
       "    <tr>\n",
       "      <td>6003</td>\n",
       "      <td>288</td>\n",
       "      <td>4.0</td>\n",
       "      <td>NaN</td>\n",
       "      <td>NaN</td>\n",
       "      <td>290538</td>\n",
       "      <td>4912.0</td>\n",
       "    </tr>\n",
       "    <tr>\n",
       "      <td>6003</td>\n",
       "      <td>356</td>\n",
       "      <td>4.5</td>\n",
       "      <td>NaN</td>\n",
       "      <td>NaN</td>\n",
       "      <td>290538</td>\n",
       "      <td>4912.0</td>\n",
       "    </tr>\n",
       "    <tr>\n",
       "      <td>6003</td>\n",
       "      <td>387</td>\n",
       "      <td>3.5</td>\n",
       "      <td>NaN</td>\n",
       "      <td>NaN</td>\n",
       "      <td>290538</td>\n",
       "      <td>4912.0</td>\n",
       "    </tr>\n",
       "    <tr>\n",
       "      <td>6003</td>\n",
       "      <td>414</td>\n",
       "      <td>3.5</td>\n",
       "      <td>NaN</td>\n",
       "      <td>NaN</td>\n",
       "      <td>290538</td>\n",
       "      <td>4912.0</td>\n",
       "    </tr>\n",
       "    <tr>\n",
       "      <td>6003</td>\n",
       "      <td>474</td>\n",
       "      <td>3.5</td>\n",
       "      <td>NaN</td>\n",
       "      <td>NaN</td>\n",
       "      <td>290538</td>\n",
       "      <td>4912.0</td>\n",
       "    </tr>\n",
       "    <tr>\n",
       "      <td>6003</td>\n",
       "      <td>480</td>\n",
       "      <td>3.5</td>\n",
       "      <td>NaN</td>\n",
       "      <td>NaN</td>\n",
       "      <td>290538</td>\n",
       "      <td>4912.0</td>\n",
       "    </tr>\n",
       "    <tr>\n",
       "      <td>6003</td>\n",
       "      <td>552</td>\n",
       "      <td>3.0</td>\n",
       "      <td>NaN</td>\n",
       "      <td>NaN</td>\n",
       "      <td>290538</td>\n",
       "      <td>4912.0</td>\n",
       "    </tr>\n",
       "    <tr>\n",
       "      <td>6003</td>\n",
       "      <td>580</td>\n",
       "      <td>3.5</td>\n",
       "      <td>NaN</td>\n",
       "      <td>NaN</td>\n",
       "      <td>290538</td>\n",
       "      <td>4912.0</td>\n",
       "    </tr>\n",
       "    <tr>\n",
       "      <td>6003</td>\n",
       "      <td>599</td>\n",
       "      <td>3.0</td>\n",
       "      <td>NaN</td>\n",
       "      <td>NaN</td>\n",
       "      <td>290538</td>\n",
       "      <td>4912.0</td>\n",
       "    </tr>\n",
       "    <tr>\n",
       "      <td>6003</td>\n",
       "      <td>600</td>\n",
       "      <td>3.0</td>\n",
       "      <td>NaN</td>\n",
       "      <td>NaN</td>\n",
       "      <td>290538</td>\n",
       "      <td>4912.0</td>\n",
       "    </tr>\n",
       "    <tr>\n",
       "      <td>6003</td>\n",
       "      <td>608</td>\n",
       "      <td>4.5</td>\n",
       "      <td>NaN</td>\n",
       "      <td>NaN</td>\n",
       "      <td>290538</td>\n",
       "      <td>4912.0</td>\n",
       "    </tr>\n",
       "    <tr>\n",
       "      <td>6003</td>\n",
       "      <td>610</td>\n",
       "      <td>4.0</td>\n",
       "      <td>NaN</td>\n",
       "      <td>NaN</td>\n",
       "      <td>290538</td>\n",
       "      <td>4912.0</td>\n",
       "    </tr>\n",
       "    <tr>\n",
       "      <td>26958</td>\n",
       "      <td>509</td>\n",
       "      <td>3.5</td>\n",
       "      <td>NaN</td>\n",
       "      <td>NaN</td>\n",
       "      <td>118308</td>\n",
       "      <td>12254.0</td>\n",
       "    </tr>\n",
       "    <tr>\n",
       "      <td>32600</td>\n",
       "      <td>606</td>\n",
       "      <td>3.5</td>\n",
       "      <td>NaN</td>\n",
       "      <td>NaN</td>\n",
       "      <td>377059</td>\n",
       "      <td>NaN</td>\n",
       "    </tr>\n",
       "    <tr>\n",
       "      <td>64997</td>\n",
       "      <td>28</td>\n",
       "      <td>3.5</td>\n",
       "      <td>NaN</td>\n",
       "      <td>NaN</td>\n",
       "      <td>449040</td>\n",
       "      <td>34812.0</td>\n",
       "    </tr>\n",
       "    <tr>\n",
       "      <td>64997</td>\n",
       "      <td>68</td>\n",
       "      <td>2.5</td>\n",
       "      <td>NaN</td>\n",
       "      <td>NaN</td>\n",
       "      <td>449040</td>\n",
       "      <td>34812.0</td>\n",
       "    </tr>\n",
       "    <tr>\n",
       "      <td>168358</td>\n",
       "      <td>514</td>\n",
       "      <td>2.5</td>\n",
       "      <td>NaN</td>\n",
       "      <td>NaN</td>\n",
       "      <td>79285</td>\n",
       "      <td>19761.0</td>\n",
       "    </tr>\n",
       "  </tbody>\n",
       "</table>\n",
       "</div>"
      ],
      "text/plain": [
       "         userId  rating title genres  imdbId   tmdbId\n",
       "movieId                                              \n",
       "6003        111     4.0   NaN    NaN  290538   4912.0\n",
       "6003        156     3.5   NaN    NaN  290538   4912.0\n",
       "6003        182     3.0   NaN    NaN  290538   4912.0\n",
       "6003        288     4.0   NaN    NaN  290538   4912.0\n",
       "6003        356     4.5   NaN    NaN  290538   4912.0\n",
       "6003        387     3.5   NaN    NaN  290538   4912.0\n",
       "6003        414     3.5   NaN    NaN  290538   4912.0\n",
       "6003        474     3.5   NaN    NaN  290538   4912.0\n",
       "6003        480     3.5   NaN    NaN  290538   4912.0\n",
       "6003        552     3.0   NaN    NaN  290538   4912.0\n",
       "6003        580     3.5   NaN    NaN  290538   4912.0\n",
       "6003        599     3.0   NaN    NaN  290538   4912.0\n",
       "6003        600     3.0   NaN    NaN  290538   4912.0\n",
       "6003        608     4.5   NaN    NaN  290538   4912.0\n",
       "6003        610     4.0   NaN    NaN  290538   4912.0\n",
       "26958       509     3.5   NaN    NaN  118308  12254.0\n",
       "32600       606     3.5   NaN    NaN  377059      NaN\n",
       "64997        28     3.5   NaN    NaN  449040  34812.0\n",
       "64997        68     2.5   NaN    NaN  449040  34812.0\n",
       "168358      514     2.5   NaN    NaN   79285  19761.0"
      ]
     },
     "execution_count": 247,
     "metadata": {},
     "output_type": "execute_result"
    }
   ],
   "source": [
    "movie_rating_links[movie_rating_links['title'].isna()]"
   ]
  },
  {
   "cell_type": "markdown",
   "metadata": {},
   "source": [
    "Perhaps I could try tapping into the IMDB API to get the title and genre from the website."
   ]
  },
  {
   "cell_type": "markdown",
   "metadata": {},
   "source": [
    "Let's now join the tags df to now have all our dfs joined."
   ]
  },
  {
   "cell_type": "code",
   "execution_count": 250,
   "metadata": {},
   "outputs": [
    {
     "data": {
      "text/html": [
       "<div>\n",
       "<style scoped>\n",
       "    .dataframe tbody tr th:only-of-type {\n",
       "        vertical-align: middle;\n",
       "    }\n",
       "\n",
       "    .dataframe tbody tr th {\n",
       "        vertical-align: top;\n",
       "    }\n",
       "\n",
       "    .dataframe thead th {\n",
       "        text-align: right;\n",
       "    }\n",
       "</style>\n",
       "<table border=\"1\" class=\"dataframe\">\n",
       "  <thead>\n",
       "    <tr style=\"text-align: right;\">\n",
       "      <th></th>\n",
       "      <th>userId</th>\n",
       "      <th>movieId</th>\n",
       "      <th>tag</th>\n",
       "    </tr>\n",
       "  </thead>\n",
       "  <tbody>\n",
       "    <tr>\n",
       "      <td>0</td>\n",
       "      <td>2</td>\n",
       "      <td>60756</td>\n",
       "      <td>funny</td>\n",
       "    </tr>\n",
       "    <tr>\n",
       "      <td>1</td>\n",
       "      <td>2</td>\n",
       "      <td>60756</td>\n",
       "      <td>Highly quotable</td>\n",
       "    </tr>\n",
       "    <tr>\n",
       "      <td>2</td>\n",
       "      <td>2</td>\n",
       "      <td>60756</td>\n",
       "      <td>will ferrell</td>\n",
       "    </tr>\n",
       "    <tr>\n",
       "      <td>3</td>\n",
       "      <td>2</td>\n",
       "      <td>89774</td>\n",
       "      <td>Boxing story</td>\n",
       "    </tr>\n",
       "    <tr>\n",
       "      <td>4</td>\n",
       "      <td>2</td>\n",
       "      <td>89774</td>\n",
       "      <td>MMA</td>\n",
       "    </tr>\n",
       "  </tbody>\n",
       "</table>\n",
       "</div>"
      ],
      "text/plain": [
       "   userId  movieId              tag\n",
       "0       2    60756            funny\n",
       "1       2    60756  Highly quotable\n",
       "2       2    60756     will ferrell\n",
       "3       2    89774     Boxing story\n",
       "4       2    89774              MMA"
      ]
     },
     "execution_count": 250,
     "metadata": {},
     "output_type": "execute_result"
    }
   ],
   "source": [
    "tags.head()"
   ]
  },
  {
   "cell_type": "code",
   "execution_count": 249,
   "metadata": {
    "collapsed": true,
    "jupyter": {
     "outputs_hidden": true
    }
   },
   "outputs": [
    {
     "ename": "ValueError",
     "evalue": "columns overlap but no suffix specified: Index(['userId'], dtype='object')",
     "output_type": "error",
     "traceback": [
      "\u001b[0;31m---------------------------------------------------------------------------\u001b[0m",
      "\u001b[0;31mValueError\u001b[0m                                Traceback (most recent call last)",
      "\u001b[0;32m<ipython-input-249-0c7501f44006>\u001b[0m in \u001b[0;36m<module>\u001b[0;34m\u001b[0m\n\u001b[0;32m----> 1\u001b[0;31m \u001b[0mmovie_rating_links\u001b[0m\u001b[0;34m.\u001b[0m\u001b[0mjoin\u001b[0m\u001b[0;34m(\u001b[0m\u001b[0mtags\u001b[0m\u001b[0;34m.\u001b[0m\u001b[0mset_index\u001b[0m\u001b[0;34m(\u001b[0m\u001b[0;34m'movieId'\u001b[0m\u001b[0;34m)\u001b[0m\u001b[0;34m)\u001b[0m\u001b[0;34m\u001b[0m\u001b[0;34m\u001b[0m\u001b[0m\n\u001b[0m",
      "\u001b[0;32m/opt/anaconda3/envs/learn-env/lib/python3.6/site-packages/pandas/core/frame.py\u001b[0m in \u001b[0;36mjoin\u001b[0;34m(self, other, on, how, lsuffix, rsuffix, sort)\u001b[0m\n\u001b[1;32m   7244\u001b[0m         \u001b[0;31m# For SparseDataFrame's benefit\u001b[0m\u001b[0;34m\u001b[0m\u001b[0;34m\u001b[0m\u001b[0;34m\u001b[0m\u001b[0m\n\u001b[1;32m   7245\u001b[0m         return self._join_compat(\n\u001b[0;32m-> 7246\u001b[0;31m             \u001b[0mother\u001b[0m\u001b[0;34m,\u001b[0m \u001b[0mon\u001b[0m\u001b[0;34m=\u001b[0m\u001b[0mon\u001b[0m\u001b[0;34m,\u001b[0m \u001b[0mhow\u001b[0m\u001b[0;34m=\u001b[0m\u001b[0mhow\u001b[0m\u001b[0;34m,\u001b[0m \u001b[0mlsuffix\u001b[0m\u001b[0;34m=\u001b[0m\u001b[0mlsuffix\u001b[0m\u001b[0;34m,\u001b[0m \u001b[0mrsuffix\u001b[0m\u001b[0;34m=\u001b[0m\u001b[0mrsuffix\u001b[0m\u001b[0;34m,\u001b[0m \u001b[0msort\u001b[0m\u001b[0;34m=\u001b[0m\u001b[0msort\u001b[0m\u001b[0;34m\u001b[0m\u001b[0;34m\u001b[0m\u001b[0m\n\u001b[0m\u001b[1;32m   7247\u001b[0m         )\n\u001b[1;32m   7248\u001b[0m \u001b[0;34m\u001b[0m\u001b[0m\n",
      "\u001b[0;32m/opt/anaconda3/envs/learn-env/lib/python3.6/site-packages/pandas/core/frame.py\u001b[0m in \u001b[0;36m_join_compat\u001b[0;34m(self, other, on, how, lsuffix, rsuffix, sort)\u001b[0m\n\u001b[1;32m   7267\u001b[0m                 \u001b[0mright_index\u001b[0m\u001b[0;34m=\u001b[0m\u001b[0;32mTrue\u001b[0m\u001b[0;34m,\u001b[0m\u001b[0;34m\u001b[0m\u001b[0;34m\u001b[0m\u001b[0m\n\u001b[1;32m   7268\u001b[0m                 \u001b[0msuffixes\u001b[0m\u001b[0;34m=\u001b[0m\u001b[0;34m(\u001b[0m\u001b[0mlsuffix\u001b[0m\u001b[0;34m,\u001b[0m \u001b[0mrsuffix\u001b[0m\u001b[0;34m)\u001b[0m\u001b[0;34m,\u001b[0m\u001b[0;34m\u001b[0m\u001b[0;34m\u001b[0m\u001b[0m\n\u001b[0;32m-> 7269\u001b[0;31m                 \u001b[0msort\u001b[0m\u001b[0;34m=\u001b[0m\u001b[0msort\u001b[0m\u001b[0;34m,\u001b[0m\u001b[0;34m\u001b[0m\u001b[0;34m\u001b[0m\u001b[0m\n\u001b[0m\u001b[1;32m   7270\u001b[0m             )\n\u001b[1;32m   7271\u001b[0m         \u001b[0;32melse\u001b[0m\u001b[0;34m:\u001b[0m\u001b[0;34m\u001b[0m\u001b[0;34m\u001b[0m\u001b[0m\n",
      "\u001b[0;32m/opt/anaconda3/envs/learn-env/lib/python3.6/site-packages/pandas/core/reshape/merge.py\u001b[0m in \u001b[0;36mmerge\u001b[0;34m(left, right, how, on, left_on, right_on, left_index, right_index, sort, suffixes, copy, indicator, validate)\u001b[0m\n\u001b[1;32m     81\u001b[0m         \u001b[0mvalidate\u001b[0m\u001b[0;34m=\u001b[0m\u001b[0mvalidate\u001b[0m\u001b[0;34m,\u001b[0m\u001b[0;34m\u001b[0m\u001b[0;34m\u001b[0m\u001b[0m\n\u001b[1;32m     82\u001b[0m     )\n\u001b[0;32m---> 83\u001b[0;31m     \u001b[0;32mreturn\u001b[0m \u001b[0mop\u001b[0m\u001b[0;34m.\u001b[0m\u001b[0mget_result\u001b[0m\u001b[0;34m(\u001b[0m\u001b[0;34m)\u001b[0m\u001b[0;34m\u001b[0m\u001b[0;34m\u001b[0m\u001b[0m\n\u001b[0m\u001b[1;32m     84\u001b[0m \u001b[0;34m\u001b[0m\u001b[0m\n\u001b[1;32m     85\u001b[0m \u001b[0;34m\u001b[0m\u001b[0m\n",
      "\u001b[0;32m/opt/anaconda3/envs/learn-env/lib/python3.6/site-packages/pandas/core/reshape/merge.py\u001b[0m in \u001b[0;36mget_result\u001b[0;34m(self)\u001b[0m\n\u001b[1;32m    646\u001b[0m \u001b[0;34m\u001b[0m\u001b[0m\n\u001b[1;32m    647\u001b[0m         llabels, rlabels = _items_overlap_with_suffix(\n\u001b[0;32m--> 648\u001b[0;31m             \u001b[0mldata\u001b[0m\u001b[0;34m.\u001b[0m\u001b[0mitems\u001b[0m\u001b[0;34m,\u001b[0m \u001b[0mlsuf\u001b[0m\u001b[0;34m,\u001b[0m \u001b[0mrdata\u001b[0m\u001b[0;34m.\u001b[0m\u001b[0mitems\u001b[0m\u001b[0;34m,\u001b[0m \u001b[0mrsuf\u001b[0m\u001b[0;34m\u001b[0m\u001b[0;34m\u001b[0m\u001b[0m\n\u001b[0m\u001b[1;32m    649\u001b[0m         )\n\u001b[1;32m    650\u001b[0m \u001b[0;34m\u001b[0m\u001b[0m\n",
      "\u001b[0;32m/opt/anaconda3/envs/learn-env/lib/python3.6/site-packages/pandas/core/reshape/merge.py\u001b[0m in \u001b[0;36m_items_overlap_with_suffix\u001b[0;34m(left, lsuffix, right, rsuffix)\u001b[0m\n\u001b[1;32m   2009\u001b[0m         raise ValueError(\n\u001b[1;32m   2010\u001b[0m             \u001b[0;34m\"columns overlap but no suffix specified: \"\u001b[0m\u001b[0;34m\u001b[0m\u001b[0;34m\u001b[0m\u001b[0m\n\u001b[0;32m-> 2011\u001b[0;31m             \u001b[0;34m\"{rename}\"\u001b[0m\u001b[0;34m.\u001b[0m\u001b[0mformat\u001b[0m\u001b[0;34m(\u001b[0m\u001b[0mrename\u001b[0m\u001b[0;34m=\u001b[0m\u001b[0mto_rename\u001b[0m\u001b[0;34m)\u001b[0m\u001b[0;34m\u001b[0m\u001b[0;34m\u001b[0m\u001b[0m\n\u001b[0m\u001b[1;32m   2012\u001b[0m         )\n\u001b[1;32m   2013\u001b[0m \u001b[0;34m\u001b[0m\u001b[0m\n",
      "\u001b[0;31mValueError\u001b[0m: columns overlap but no suffix specified: Index(['userId'], dtype='object')"
     ]
    }
   ],
   "source": [
    "movie_rating_links.join(tags.set_index('movieId'))"
   ]
  },
  {
   "cell_type": "markdown",
   "metadata": {},
   "source": [
    "Got an error doing this so will actually need to merge these dfs..."
   ]
  },
  {
   "cell_type": "code",
   "execution_count": 251,
   "metadata": {},
   "outputs": [
    {
     "data": {
      "text/plain": [
       "(100836, 6)"
      ]
     },
     "execution_count": 251,
     "metadata": {},
     "output_type": "execute_result"
    }
   ],
   "source": [
    "movie_rating_links.shape"
   ]
  },
  {
   "cell_type": "code",
   "execution_count": 252,
   "metadata": {},
   "outputs": [
    {
     "data": {
      "text/plain": [
       "(3683, 3)"
      ]
     },
     "execution_count": 252,
     "metadata": {},
     "output_type": "execute_result"
    }
   ],
   "source": [
    "tags.shape"
   ]
  },
  {
   "cell_type": "code",
   "execution_count": 256,
   "metadata": {},
   "outputs": [
    {
     "data": {
      "text/html": [
       "<div>\n",
       "<style scoped>\n",
       "    .dataframe tbody tr th:only-of-type {\n",
       "        vertical-align: middle;\n",
       "    }\n",
       "\n",
       "    .dataframe tbody tr th {\n",
       "        vertical-align: top;\n",
       "    }\n",
       "\n",
       "    .dataframe thead th {\n",
       "        text-align: right;\n",
       "    }\n",
       "</style>\n",
       "<table border=\"1\" class=\"dataframe\">\n",
       "  <thead>\n",
       "    <tr style=\"text-align: right;\">\n",
       "      <th></th>\n",
       "      <th>movieId</th>\n",
       "      <th>userId_x</th>\n",
       "      <th>rating</th>\n",
       "      <th>title</th>\n",
       "      <th>genres</th>\n",
       "      <th>imdbId</th>\n",
       "      <th>tmdbId</th>\n",
       "      <th>userId_y</th>\n",
       "      <th>tag</th>\n",
       "    </tr>\n",
       "  </thead>\n",
       "  <tbody>\n",
       "    <tr>\n",
       "      <td>0</td>\n",
       "      <td>1</td>\n",
       "      <td>1</td>\n",
       "      <td>4.0</td>\n",
       "      <td>Toy Story (1995)</td>\n",
       "      <td>Adventure|Animation|Children|Comedy|Fantasy</td>\n",
       "      <td>114709</td>\n",
       "      <td>862.0</td>\n",
       "      <td>336.0</td>\n",
       "      <td>pixar</td>\n",
       "    </tr>\n",
       "    <tr>\n",
       "      <td>1</td>\n",
       "      <td>1</td>\n",
       "      <td>1</td>\n",
       "      <td>4.0</td>\n",
       "      <td>Toy Story (1995)</td>\n",
       "      <td>Adventure|Animation|Children|Comedy|Fantasy</td>\n",
       "      <td>114709</td>\n",
       "      <td>862.0</td>\n",
       "      <td>474.0</td>\n",
       "      <td>pixar</td>\n",
       "    </tr>\n",
       "    <tr>\n",
       "      <td>2</td>\n",
       "      <td>1</td>\n",
       "      <td>1</td>\n",
       "      <td>4.0</td>\n",
       "      <td>Toy Story (1995)</td>\n",
       "      <td>Adventure|Animation|Children|Comedy|Fantasy</td>\n",
       "      <td>114709</td>\n",
       "      <td>862.0</td>\n",
       "      <td>567.0</td>\n",
       "      <td>fun</td>\n",
       "    </tr>\n",
       "    <tr>\n",
       "      <td>3</td>\n",
       "      <td>1</td>\n",
       "      <td>5</td>\n",
       "      <td>4.0</td>\n",
       "      <td>Toy Story (1995)</td>\n",
       "      <td>Adventure|Animation|Children|Comedy|Fantasy</td>\n",
       "      <td>114709</td>\n",
       "      <td>862.0</td>\n",
       "      <td>336.0</td>\n",
       "      <td>pixar</td>\n",
       "    </tr>\n",
       "    <tr>\n",
       "      <td>4</td>\n",
       "      <td>1</td>\n",
       "      <td>5</td>\n",
       "      <td>4.0</td>\n",
       "      <td>Toy Story (1995)</td>\n",
       "      <td>Adventure|Animation|Children|Comedy|Fantasy</td>\n",
       "      <td>114709</td>\n",
       "      <td>862.0</td>\n",
       "      <td>474.0</td>\n",
       "      <td>pixar</td>\n",
       "    </tr>\n",
       "    <tr>\n",
       "      <td>...</td>\n",
       "      <td>...</td>\n",
       "      <td>...</td>\n",
       "      <td>...</td>\n",
       "      <td>...</td>\n",
       "      <td>...</td>\n",
       "      <td>...</td>\n",
       "      <td>...</td>\n",
       "      <td>...</td>\n",
       "      <td>...</td>\n",
       "    </tr>\n",
       "    <tr>\n",
       "      <td>285757</td>\n",
       "      <td>193581</td>\n",
       "      <td>184</td>\n",
       "      <td>4.0</td>\n",
       "      <td>Black Butler: Book of the Atlantic (2017)</td>\n",
       "      <td>Action|Animation|Comedy|Fantasy</td>\n",
       "      <td>5476944</td>\n",
       "      <td>432131.0</td>\n",
       "      <td>NaN</td>\n",
       "      <td>NaN</td>\n",
       "    </tr>\n",
       "    <tr>\n",
       "      <td>285758</td>\n",
       "      <td>193583</td>\n",
       "      <td>184</td>\n",
       "      <td>3.5</td>\n",
       "      <td>No Game No Life: Zero (2017)</td>\n",
       "      <td>Animation|Comedy|Fantasy</td>\n",
       "      <td>5914996</td>\n",
       "      <td>445030.0</td>\n",
       "      <td>NaN</td>\n",
       "      <td>NaN</td>\n",
       "    </tr>\n",
       "    <tr>\n",
       "      <td>285759</td>\n",
       "      <td>193585</td>\n",
       "      <td>184</td>\n",
       "      <td>3.5</td>\n",
       "      <td>Flint (2017)</td>\n",
       "      <td>Drama</td>\n",
       "      <td>6397426</td>\n",
       "      <td>479308.0</td>\n",
       "      <td>NaN</td>\n",
       "      <td>NaN</td>\n",
       "    </tr>\n",
       "    <tr>\n",
       "      <td>285760</td>\n",
       "      <td>193587</td>\n",
       "      <td>184</td>\n",
       "      <td>3.5</td>\n",
       "      <td>Bungo Stray Dogs: Dead Apple (2018)</td>\n",
       "      <td>Action|Animation</td>\n",
       "      <td>8391976</td>\n",
       "      <td>483455.0</td>\n",
       "      <td>NaN</td>\n",
       "      <td>NaN</td>\n",
       "    </tr>\n",
       "    <tr>\n",
       "      <td>285761</td>\n",
       "      <td>193609</td>\n",
       "      <td>331</td>\n",
       "      <td>4.0</td>\n",
       "      <td>Andrew Dice Clay: Dice Rules (1991)</td>\n",
       "      <td>Comedy</td>\n",
       "      <td>101726</td>\n",
       "      <td>37891.0</td>\n",
       "      <td>NaN</td>\n",
       "      <td>NaN</td>\n",
       "    </tr>\n",
       "  </tbody>\n",
       "</table>\n",
       "<p>285762 rows × 9 columns</p>\n",
       "</div>"
      ],
      "text/plain": [
       "        movieId  userId_x  rating                                      title  \\\n",
       "0             1         1     4.0                           Toy Story (1995)   \n",
       "1             1         1     4.0                           Toy Story (1995)   \n",
       "2             1         1     4.0                           Toy Story (1995)   \n",
       "3             1         5     4.0                           Toy Story (1995)   \n",
       "4             1         5     4.0                           Toy Story (1995)   \n",
       "...         ...       ...     ...                                        ...   \n",
       "285757   193581       184     4.0  Black Butler: Book of the Atlantic (2017)   \n",
       "285758   193583       184     3.5               No Game No Life: Zero (2017)   \n",
       "285759   193585       184     3.5                               Flint (2017)   \n",
       "285760   193587       184     3.5        Bungo Stray Dogs: Dead Apple (2018)   \n",
       "285761   193609       331     4.0        Andrew Dice Clay: Dice Rules (1991)   \n",
       "\n",
       "                                             genres   imdbId    tmdbId  \\\n",
       "0       Adventure|Animation|Children|Comedy|Fantasy   114709     862.0   \n",
       "1       Adventure|Animation|Children|Comedy|Fantasy   114709     862.0   \n",
       "2       Adventure|Animation|Children|Comedy|Fantasy   114709     862.0   \n",
       "3       Adventure|Animation|Children|Comedy|Fantasy   114709     862.0   \n",
       "4       Adventure|Animation|Children|Comedy|Fantasy   114709     862.0   \n",
       "...                                             ...      ...       ...   \n",
       "285757              Action|Animation|Comedy|Fantasy  5476944  432131.0   \n",
       "285758                     Animation|Comedy|Fantasy  5914996  445030.0   \n",
       "285759                                        Drama  6397426  479308.0   \n",
       "285760                             Action|Animation  8391976  483455.0   \n",
       "285761                                       Comedy   101726   37891.0   \n",
       "\n",
       "        userId_y    tag  \n",
       "0          336.0  pixar  \n",
       "1          474.0  pixar  \n",
       "2          567.0    fun  \n",
       "3          336.0  pixar  \n",
       "4          474.0  pixar  \n",
       "...          ...    ...  \n",
       "285757       NaN    NaN  \n",
       "285758       NaN    NaN  \n",
       "285759       NaN    NaN  \n",
       "285760       NaN    NaN  \n",
       "285761       NaN    NaN  \n",
       "\n",
       "[285762 rows x 9 columns]"
      ]
     },
     "execution_count": 256,
     "metadata": {},
     "output_type": "execute_result"
    }
   ],
   "source": [
    "movie_rating_links.merge(tags, on = 'movieId', how = 'left')"
   ]
  },
  {
   "cell_type": "markdown",
   "metadata": {},
   "source": [
    "This is not what I wanted..."
   ]
  },
  {
   "cell_type": "markdown",
   "metadata": {},
   "source": [
    "It looks like maybe I'll have to join using `userId` as the key... let's try this..."
   ]
  },
  {
   "cell_type": "code",
   "execution_count": 258,
   "metadata": {},
   "outputs": [
    {
     "data": {
      "text/html": [
       "<div>\n",
       "<style scoped>\n",
       "    .dataframe tbody tr th:only-of-type {\n",
       "        vertical-align: middle;\n",
       "    }\n",
       "\n",
       "    .dataframe tbody tr th {\n",
       "        vertical-align: top;\n",
       "    }\n",
       "\n",
       "    .dataframe thead th {\n",
       "        text-align: right;\n",
       "    }\n",
       "</style>\n",
       "<table border=\"1\" class=\"dataframe\">\n",
       "  <thead>\n",
       "    <tr style=\"text-align: right;\">\n",
       "      <th></th>\n",
       "      <th>rating</th>\n",
       "      <th>title</th>\n",
       "      <th>genres</th>\n",
       "      <th>imdbId</th>\n",
       "      <th>tmdbId</th>\n",
       "      <th>movieId</th>\n",
       "      <th>tag</th>\n",
       "    </tr>\n",
       "    <tr>\n",
       "      <th>userId</th>\n",
       "      <th></th>\n",
       "      <th></th>\n",
       "      <th></th>\n",
       "      <th></th>\n",
       "      <th></th>\n",
       "      <th></th>\n",
       "      <th></th>\n",
       "    </tr>\n",
       "  </thead>\n",
       "  <tbody>\n",
       "    <tr>\n",
       "      <td>1</td>\n",
       "      <td>4.0</td>\n",
       "      <td>Toy Story (1995)</td>\n",
       "      <td>Adventure|Animation|Children|Comedy|Fantasy</td>\n",
       "      <td>114709</td>\n",
       "      <td>862.0</td>\n",
       "      <td>NaN</td>\n",
       "      <td>NaN</td>\n",
       "    </tr>\n",
       "    <tr>\n",
       "      <td>1</td>\n",
       "      <td>4.0</td>\n",
       "      <td>Grumpier Old Men (1995)</td>\n",
       "      <td>Comedy|Romance</td>\n",
       "      <td>113228</td>\n",
       "      <td>15602.0</td>\n",
       "      <td>NaN</td>\n",
       "      <td>NaN</td>\n",
       "    </tr>\n",
       "    <tr>\n",
       "      <td>1</td>\n",
       "      <td>4.0</td>\n",
       "      <td>Heat (1995)</td>\n",
       "      <td>Action|Crime|Thriller</td>\n",
       "      <td>113277</td>\n",
       "      <td>949.0</td>\n",
       "      <td>NaN</td>\n",
       "      <td>NaN</td>\n",
       "    </tr>\n",
       "    <tr>\n",
       "      <td>1</td>\n",
       "      <td>5.0</td>\n",
       "      <td>Seven (a.k.a. Se7en) (1995)</td>\n",
       "      <td>Mystery|Thriller</td>\n",
       "      <td>114369</td>\n",
       "      <td>807.0</td>\n",
       "      <td>NaN</td>\n",
       "      <td>NaN</td>\n",
       "    </tr>\n",
       "    <tr>\n",
       "      <td>1</td>\n",
       "      <td>5.0</td>\n",
       "      <td>Usual Suspects, The (1995)</td>\n",
       "      <td>Crime|Mystery|Thriller</td>\n",
       "      <td>114814</td>\n",
       "      <td>629.0</td>\n",
       "      <td>NaN</td>\n",
       "      <td>NaN</td>\n",
       "    </tr>\n",
       "    <tr>\n",
       "      <td>...</td>\n",
       "      <td>...</td>\n",
       "      <td>...</td>\n",
       "      <td>...</td>\n",
       "      <td>...</td>\n",
       "      <td>...</td>\n",
       "      <td>...</td>\n",
       "      <td>...</td>\n",
       "    </tr>\n",
       "    <tr>\n",
       "      <td>610</td>\n",
       "      <td>5.0</td>\n",
       "      <td>Logan (2017)</td>\n",
       "      <td>Action|Sci-Fi</td>\n",
       "      <td>3315342</td>\n",
       "      <td>263115.0</td>\n",
       "      <td>3265.0</td>\n",
       "      <td>heroic bloodshed</td>\n",
       "    </tr>\n",
       "    <tr>\n",
       "      <td>610</td>\n",
       "      <td>5.0</td>\n",
       "      <td>Logan (2017)</td>\n",
       "      <td>Action|Sci-Fi</td>\n",
       "      <td>3315342</td>\n",
       "      <td>263115.0</td>\n",
       "      <td>168248.0</td>\n",
       "      <td>Heroic Bloodshed</td>\n",
       "    </tr>\n",
       "    <tr>\n",
       "      <td>610</td>\n",
       "      <td>3.0</td>\n",
       "      <td>The Fate of the Furious (2017)</td>\n",
       "      <td>Action|Crime|Drama|Thriller</td>\n",
       "      <td>4630562</td>\n",
       "      <td>337339.0</td>\n",
       "      <td>3265.0</td>\n",
       "      <td>gun fu</td>\n",
       "    </tr>\n",
       "    <tr>\n",
       "      <td>610</td>\n",
       "      <td>3.0</td>\n",
       "      <td>The Fate of the Furious (2017)</td>\n",
       "      <td>Action|Crime|Drama|Thriller</td>\n",
       "      <td>4630562</td>\n",
       "      <td>337339.0</td>\n",
       "      <td>3265.0</td>\n",
       "      <td>heroic bloodshed</td>\n",
       "    </tr>\n",
       "    <tr>\n",
       "      <td>610</td>\n",
       "      <td>3.0</td>\n",
       "      <td>The Fate of the Furious (2017)</td>\n",
       "      <td>Action|Crime|Drama|Thriller</td>\n",
       "      <td>4630562</td>\n",
       "      <td>337339.0</td>\n",
       "      <td>168248.0</td>\n",
       "      <td>Heroic Bloodshed</td>\n",
       "    </tr>\n",
       "  </tbody>\n",
       "</table>\n",
       "<p>4706485 rows × 7 columns</p>\n",
       "</div>"
      ],
      "text/plain": [
       "        rating                           title  \\\n",
       "userId                                           \n",
       "1          4.0                Toy Story (1995)   \n",
       "1          4.0         Grumpier Old Men (1995)   \n",
       "1          4.0                     Heat (1995)   \n",
       "1          5.0     Seven (a.k.a. Se7en) (1995)   \n",
       "1          5.0      Usual Suspects, The (1995)   \n",
       "...        ...                             ...   \n",
       "610        5.0                    Logan (2017)   \n",
       "610        5.0                    Logan (2017)   \n",
       "610        3.0  The Fate of the Furious (2017)   \n",
       "610        3.0  The Fate of the Furious (2017)   \n",
       "610        3.0  The Fate of the Furious (2017)   \n",
       "\n",
       "                                             genres   imdbId    tmdbId  \\\n",
       "userId                                                                   \n",
       "1       Adventure|Animation|Children|Comedy|Fantasy   114709     862.0   \n",
       "1                                    Comedy|Romance   113228   15602.0   \n",
       "1                             Action|Crime|Thriller   113277     949.0   \n",
       "1                                  Mystery|Thriller   114369     807.0   \n",
       "1                            Crime|Mystery|Thriller   114814     629.0   \n",
       "...                                             ...      ...       ...   \n",
       "610                                   Action|Sci-Fi  3315342  263115.0   \n",
       "610                                   Action|Sci-Fi  3315342  263115.0   \n",
       "610                     Action|Crime|Drama|Thriller  4630562  337339.0   \n",
       "610                     Action|Crime|Drama|Thriller  4630562  337339.0   \n",
       "610                     Action|Crime|Drama|Thriller  4630562  337339.0   \n",
       "\n",
       "         movieId               tag  \n",
       "userId                              \n",
       "1            NaN               NaN  \n",
       "1            NaN               NaN  \n",
       "1            NaN               NaN  \n",
       "1            NaN               NaN  \n",
       "1            NaN               NaN  \n",
       "...          ...               ...  \n",
       "610       3265.0  heroic bloodshed  \n",
       "610     168248.0  Heroic Bloodshed  \n",
       "610       3265.0            gun fu  \n",
       "610       3265.0  heroic bloodshed  \n",
       "610     168248.0  Heroic Bloodshed  \n",
       "\n",
       "[4706485 rows x 7 columns]"
      ]
     },
     "execution_count": 258,
     "metadata": {},
     "output_type": "execute_result"
    }
   ],
   "source": [
    "movie_rating_links.set_index('userId').join(tags.set_index('userId'))"
   ]
  },
  {
   "cell_type": "markdown",
   "metadata": {},
   "source": [
    "Most certainly not what I was expecting...\n",
    "\n",
    "I just want it to throw in the tags to the movie it's asociated with... \n",
    "\n",
    "Oh but the problem is that a particular person made that tag so i have to match the userId and the movieId... so need a 'secondary key' situation.. not sure how to do that yet... will look into that..."
   ]
  },
  {
   "cell_type": "markdown",
   "metadata": {},
   "source": [
    "After investigating it, it looks like you merge the dfs but you enter a list of keys to merge 'on':"
   ]
  },
  {
   "cell_type": "code",
   "execution_count": 261,
   "metadata": {},
   "outputs": [
    {
     "data": {
      "text/html": [
       "<div>\n",
       "<style scoped>\n",
       "    .dataframe tbody tr th:only-of-type {\n",
       "        vertical-align: middle;\n",
       "    }\n",
       "\n",
       "    .dataframe tbody tr th {\n",
       "        vertical-align: top;\n",
       "    }\n",
       "\n",
       "    .dataframe thead th {\n",
       "        text-align: right;\n",
       "    }\n",
       "</style>\n",
       "<table border=\"1\" class=\"dataframe\">\n",
       "  <thead>\n",
       "    <tr style=\"text-align: right;\">\n",
       "      <th></th>\n",
       "      <th>movieId</th>\n",
       "      <th>userId</th>\n",
       "      <th>rating</th>\n",
       "      <th>title</th>\n",
       "      <th>genres</th>\n",
       "      <th>imdbId</th>\n",
       "      <th>tmdbId</th>\n",
       "      <th>tag</th>\n",
       "    </tr>\n",
       "  </thead>\n",
       "  <tbody>\n",
       "    <tr>\n",
       "      <td>0</td>\n",
       "      <td>1</td>\n",
       "      <td>1</td>\n",
       "      <td>4.0</td>\n",
       "      <td>Toy Story (1995)</td>\n",
       "      <td>Adventure|Animation|Children|Comedy|Fantasy</td>\n",
       "      <td>114709</td>\n",
       "      <td>862.0</td>\n",
       "      <td>NaN</td>\n",
       "    </tr>\n",
       "    <tr>\n",
       "      <td>1</td>\n",
       "      <td>1</td>\n",
       "      <td>5</td>\n",
       "      <td>4.0</td>\n",
       "      <td>Toy Story (1995)</td>\n",
       "      <td>Adventure|Animation|Children|Comedy|Fantasy</td>\n",
       "      <td>114709</td>\n",
       "      <td>862.0</td>\n",
       "      <td>NaN</td>\n",
       "    </tr>\n",
       "    <tr>\n",
       "      <td>2</td>\n",
       "      <td>1</td>\n",
       "      <td>7</td>\n",
       "      <td>4.5</td>\n",
       "      <td>Toy Story (1995)</td>\n",
       "      <td>Adventure|Animation|Children|Comedy|Fantasy</td>\n",
       "      <td>114709</td>\n",
       "      <td>862.0</td>\n",
       "      <td>NaN</td>\n",
       "    </tr>\n",
       "    <tr>\n",
       "      <td>3</td>\n",
       "      <td>1</td>\n",
       "      <td>15</td>\n",
       "      <td>2.5</td>\n",
       "      <td>Toy Story (1995)</td>\n",
       "      <td>Adventure|Animation|Children|Comedy|Fantasy</td>\n",
       "      <td>114709</td>\n",
       "      <td>862.0</td>\n",
       "      <td>NaN</td>\n",
       "    </tr>\n",
       "    <tr>\n",
       "      <td>4</td>\n",
       "      <td>1</td>\n",
       "      <td>17</td>\n",
       "      <td>4.5</td>\n",
       "      <td>Toy Story (1995)</td>\n",
       "      <td>Adventure|Animation|Children|Comedy|Fantasy</td>\n",
       "      <td>114709</td>\n",
       "      <td>862.0</td>\n",
       "      <td>NaN</td>\n",
       "    </tr>\n",
       "    <tr>\n",
       "      <td>...</td>\n",
       "      <td>...</td>\n",
       "      <td>...</td>\n",
       "      <td>...</td>\n",
       "      <td>...</td>\n",
       "      <td>...</td>\n",
       "      <td>...</td>\n",
       "      <td>...</td>\n",
       "      <td>...</td>\n",
       "    </tr>\n",
       "    <tr>\n",
       "      <td>102672</td>\n",
       "      <td>193581</td>\n",
       "      <td>184</td>\n",
       "      <td>4.0</td>\n",
       "      <td>Black Butler: Book of the Atlantic (2017)</td>\n",
       "      <td>Action|Animation|Comedy|Fantasy</td>\n",
       "      <td>5476944</td>\n",
       "      <td>432131.0</td>\n",
       "      <td>NaN</td>\n",
       "    </tr>\n",
       "    <tr>\n",
       "      <td>102673</td>\n",
       "      <td>193583</td>\n",
       "      <td>184</td>\n",
       "      <td>3.5</td>\n",
       "      <td>No Game No Life: Zero (2017)</td>\n",
       "      <td>Animation|Comedy|Fantasy</td>\n",
       "      <td>5914996</td>\n",
       "      <td>445030.0</td>\n",
       "      <td>NaN</td>\n",
       "    </tr>\n",
       "    <tr>\n",
       "      <td>102674</td>\n",
       "      <td>193585</td>\n",
       "      <td>184</td>\n",
       "      <td>3.5</td>\n",
       "      <td>Flint (2017)</td>\n",
       "      <td>Drama</td>\n",
       "      <td>6397426</td>\n",
       "      <td>479308.0</td>\n",
       "      <td>NaN</td>\n",
       "    </tr>\n",
       "    <tr>\n",
       "      <td>102675</td>\n",
       "      <td>193587</td>\n",
       "      <td>184</td>\n",
       "      <td>3.5</td>\n",
       "      <td>Bungo Stray Dogs: Dead Apple (2018)</td>\n",
       "      <td>Action|Animation</td>\n",
       "      <td>8391976</td>\n",
       "      <td>483455.0</td>\n",
       "      <td>NaN</td>\n",
       "    </tr>\n",
       "    <tr>\n",
       "      <td>102676</td>\n",
       "      <td>193609</td>\n",
       "      <td>331</td>\n",
       "      <td>4.0</td>\n",
       "      <td>Andrew Dice Clay: Dice Rules (1991)</td>\n",
       "      <td>Comedy</td>\n",
       "      <td>101726</td>\n",
       "      <td>37891.0</td>\n",
       "      <td>NaN</td>\n",
       "    </tr>\n",
       "  </tbody>\n",
       "</table>\n",
       "<p>102677 rows × 8 columns</p>\n",
       "</div>"
      ],
      "text/plain": [
       "        movieId  userId  rating                                      title  \\\n",
       "0             1       1     4.0                           Toy Story (1995)   \n",
       "1             1       5     4.0                           Toy Story (1995)   \n",
       "2             1       7     4.5                           Toy Story (1995)   \n",
       "3             1      15     2.5                           Toy Story (1995)   \n",
       "4             1      17     4.5                           Toy Story (1995)   \n",
       "...         ...     ...     ...                                        ...   \n",
       "102672   193581     184     4.0  Black Butler: Book of the Atlantic (2017)   \n",
       "102673   193583     184     3.5               No Game No Life: Zero (2017)   \n",
       "102674   193585     184     3.5                               Flint (2017)   \n",
       "102675   193587     184     3.5        Bungo Stray Dogs: Dead Apple (2018)   \n",
       "102676   193609     331     4.0        Andrew Dice Clay: Dice Rules (1991)   \n",
       "\n",
       "                                             genres   imdbId    tmdbId  tag  \n",
       "0       Adventure|Animation|Children|Comedy|Fantasy   114709     862.0  NaN  \n",
       "1       Adventure|Animation|Children|Comedy|Fantasy   114709     862.0  NaN  \n",
       "2       Adventure|Animation|Children|Comedy|Fantasy   114709     862.0  NaN  \n",
       "3       Adventure|Animation|Children|Comedy|Fantasy   114709     862.0  NaN  \n",
       "4       Adventure|Animation|Children|Comedy|Fantasy   114709     862.0  NaN  \n",
       "...                                             ...      ...       ...  ...  \n",
       "102672              Action|Animation|Comedy|Fantasy  5476944  432131.0  NaN  \n",
       "102673                     Animation|Comedy|Fantasy  5914996  445030.0  NaN  \n",
       "102674                                        Drama  6397426  479308.0  NaN  \n",
       "102675                             Action|Animation  8391976  483455.0  NaN  \n",
       "102676                                       Comedy   101726   37891.0  NaN  \n",
       "\n",
       "[102677 rows x 8 columns]"
      ]
     },
     "execution_count": 261,
     "metadata": {},
     "output_type": "execute_result"
    }
   ],
   "source": [
    "movie_rating_links.merge(tags, on = ['movieId', 'userId'], how = 'left')"
   ]
  },
  {
   "cell_type": "markdown",
   "metadata": {},
   "source": [
    "This is closer to what I was expecting but not sure why I have extra rows now... perhaps tags had movies that were not in the movies df?  Let's check that..."
   ]
  },
  {
   "cell_type": "code",
   "execution_count": 262,
   "metadata": {},
   "outputs": [
    {
     "name": "stderr",
     "output_type": "stream",
     "text": [
      "/opt/anaconda3/envs/learn-env/lib/python3.6/site-packages/ipykernel_launcher.py:1: DeprecationWarning: elementwise comparison failed; this will raise an error in the future.\n",
      "  \"\"\"Entry point for launching an IPython kernel.\n"
     ]
    },
    {
     "data": {
      "text/plain": [
       "False"
      ]
     },
     "execution_count": 262,
     "metadata": {},
     "output_type": "execute_result"
    }
   ],
   "source": [
    "movies.movieId.unique() == tags.movieId.unique()"
   ]
  },
  {
   "cell_type": "code",
   "execution_count": 263,
   "metadata": {},
   "outputs": [
    {
     "data": {
      "text/plain": [
       "9737"
      ]
     },
     "execution_count": 263,
     "metadata": {},
     "output_type": "execute_result"
    }
   ],
   "source": [
    "len(movies.movieId.unique())"
   ]
  },
  {
   "cell_type": "code",
   "execution_count": 264,
   "metadata": {},
   "outputs": [
    {
     "data": {
      "text/plain": [
       "1572"
      ]
     },
     "execution_count": 264,
     "metadata": {},
     "output_type": "execute_result"
    }
   ],
   "source": [
    "len(tags.movieId.unique())"
   ]
  },
  {
   "cell_type": "code",
   "execution_count": 265,
   "metadata": {},
   "outputs": [
    {
     "name": "stdout",
     "output_type": "stream",
     "text": [
      "6003\n"
     ]
    }
   ],
   "source": [
    "for movie in tags.movieId.unique():\n",
    "    if movie not in movies.movieId.unique():\n",
    "        print(movie)"
   ]
  },
  {
   "cell_type": "markdown",
   "metadata": {},
   "source": [
    "Of course... the movie that mad missing titles and genres... but there were only 20 of those and this merge has added 1841 extra rows.... will have to look into this further.  For now, I'm going for a walk!"
   ]
  },
  {
   "cell_type": "markdown",
   "metadata": {},
   "source": [
    "Let's save the latested merged df that makes sense to a csv:"
   ]
  },
  {
   "cell_type": "code",
   "execution_count": 266,
   "metadata": {},
   "outputs": [],
   "source": [
    "movie_rating_link = movie_rating_links.to_csv(parent_dir + 'data/joined_dfs_lc')"
   ]
  },
  {
   "cell_type": "code",
   "execution_count": null,
   "metadata": {},
   "outputs": [],
   "source": []
  }
 ],
 "metadata": {
  "kernelspec": {
   "display_name": "learn-env",
   "language": "python",
   "name": "learn-env"
  },
  "language_info": {
   "codemirror_mode": {
    "name": "ipython",
    "version": 3
   },
   "file_extension": ".py",
   "mimetype": "text/x-python",
   "name": "python",
   "nbconvert_exporter": "python",
   "pygments_lexer": "ipython3",
   "version": "3.6.9"
  }
 },
 "nbformat": 4,
 "nbformat_minor": 4
}
