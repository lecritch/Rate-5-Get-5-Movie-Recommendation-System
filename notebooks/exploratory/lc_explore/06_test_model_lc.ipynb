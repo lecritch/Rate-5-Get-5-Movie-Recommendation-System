{
 "cells": [
  {
   "cell_type": "code",
   "execution_count": null,
   "metadata": {},
   "outputs": [],
   "source": []
  },
  {
   "cell_type": "code",
   "execution_count": 7,
   "metadata": {},
   "outputs": [],
   "source": [
    "# imports \n",
    "import pandas as pd\n",
    "import numpy as np\n",
    "import matplotlib.pyplot as plt\n",
    "%matplotlib inline\n",
    "import seaborn as sns\n",
    "\n",
    "from surprise import Reader, Dataset, accuracy\n",
    "from surprise.model_selection import cross_validate\n",
    "from surprise.prediction_algorithms import SVD, KNNWithMeans, KNNBasic, KNNBaseline\n",
    "from surprise.model_selection import GridSearchCV, train_test_split\n",
    "import pickle\n",
    "\n",
    "import sklearn\n",
    "import flask\n",
    "import gunicorn\n",
    "\n",
    "parent_dir = '../../../'"
   ]
  },
  {
   "cell_type": "code",
   "execution_count": 3,
   "metadata": {},
   "outputs": [],
   "source": [
    "# create some random test data:\n",
    "new_user = [('1000', '1', 2), ('1000', '3', 5), \n",
    "            ('1000', '6', 2.5), ('1000', '47', 4.5), \n",
    "            ('1000', '50', 3)]"
   ]
  },
  {
   "cell_type": "code",
   "execution_count": 4,
   "metadata": {},
   "outputs": [],
   "source": [
    "# load model:\n",
    "with open('svd_model.bin', 'rb') as f_in:\n",
    "    model = pickle.load(f_in)"
   ]
  },
  {
   "cell_type": "code",
   "execution_count": 8,
   "metadata": {},
   "outputs": [],
   "source": [
    "preds = model.test(new_user)"
   ]
  },
  {
   "cell_type": "code",
   "execution_count": 11,
   "metadata": {},
   "outputs": [
    {
     "data": {
      "text/plain": [
       "[Prediction(uid='1000', iid='1', r_ui=2, est=3.933169282742589, details={'was_impossible': False}),\n",
       " Prediction(uid='1000', iid='3', r_ui=5, est=3.2270686333226184, details={'was_impossible': False}),\n",
       " Prediction(uid='1000', iid='6', r_ui=2.5, est=4.0074483776005625, details={'was_impossible': False}),\n",
       " Prediction(uid='1000', iid='47', r_ui=4.5, est=3.9736428436987516, details={'was_impossible': False}),\n",
       " Prediction(uid='1000', iid='50', r_ui=3, est=4.191024997695057, details={'was_impossible': False})]"
      ]
     },
     "execution_count": 11,
     "metadata": {},
     "output_type": "execute_result"
    }
   ],
   "source": [
    "preds"
   ]
  },
  {
   "cell_type": "code",
   "execution_count": 12,
   "metadata": {},
   "outputs": [
    {
     "data": {
      "text/plain": [
       "'1'"
      ]
     },
     "execution_count": 12,
     "metadata": {},
     "output_type": "execute_result"
    }
   ],
   "source": [
    "preds[0].iid"
   ]
  },
  {
   "cell_type": "markdown",
   "metadata": {},
   "source": [
    "These are the same predictions found at the end of the 05_model1 notebook, so our model is still working the same. "
   ]
  },
  {
   "cell_type": "markdown",
   "metadata": {},
   "source": [
    "Don't run this next cell, this is just a copy and paste of the output from 05 notebook to show it's the same. "
   ]
  },
  {
   "cell_type": "code",
   "execution_count": null,
   "metadata": {},
   "outputs": [],
   "source": []
  },
  {
   "cell_type": "code",
   "execution_count": 77,
   "metadata": {},
   "outputs": [
    {
     "data": {
      "text/plain": [
       "[Prediction(uid='1000', iid='1', r_ui=2, est=3.933169282742589, details={'was_impossible': False}),\n",
       " Prediction(uid='1000', iid='3', r_ui=5, est=3.2270686333226184, details={'was_impossible': False}),\n",
       " Prediction(uid='1000', iid='6', r_ui=2.5, est=4.0074483776005625, details={'was_impossible': False}),\n",
       " Prediction(uid='1000', iid='47', r_ui=4.5, est=3.9736428436987516, details={'was_impossible': False}),\n",
       " Prediction(uid='1000', iid='50', r_ui=3, est=4.191024997695057, details={'was_impossible': False})]"
      ]
     },
     "execution_count": 77,
     "metadata": {},
     "output_type": "execute_result"
    }
   ],
   "source": [
    "new_user_preds"
   ]
  },
  {
   "cell_type": "code",
   "execution_count": null,
   "metadata": {},
   "outputs": [],
   "source": []
  }
 ],
 "metadata": {
  "kernelspec": {
   "display_name": "learn-env",
   "language": "python",
   "name": "learn-env"
  },
  "language_info": {
   "codemirror_mode": {
    "name": "ipython",
    "version": 3
   },
   "file_extension": ".py",
   "mimetype": "text/x-python",
   "name": "python",
   "nbconvert_exporter": "python",
   "pygments_lexer": "ipython3",
   "version": "3.6.9"
  }
 },
 "nbformat": 4,
 "nbformat_minor": 4
}
